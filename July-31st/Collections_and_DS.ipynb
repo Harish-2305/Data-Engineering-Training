{
  "nbformat": 4,
  "nbformat_minor": 0,
  "metadata": {
    "colab": {
      "provenance": []
    },
    "kernelspec": {
      "name": "python3",
      "display_name": "Python 3"
    },
    "language_info": {
      "name": "python"
    }
  },
  "cells": [
    {
      "cell_type": "markdown",
      "source": [
        "Python Data Structures – Intermediate Exercises\n",
        "Notebook"
      ],
      "metadata": {
        "id": "1SIphonzDyZf"
      }
    },
    {
      "cell_type": "markdown",
      "source": [
        "**Section 1: Nested Lists & Access**"
      ],
      "metadata": {
        "id": "md157YNbD8Lz"
      }
    },
    {
      "cell_type": "code",
      "source": [
        "students = [\n",
        "[\"Ravi\", [85, 72, 90]],\n",
        "[\"Sneha\", [95, 88, 92]],\n",
        "[\"Kabir\", [65, 70, 60]],\n",
        "[\"Anita\", [75, 80, 78]]\n",
        "]"
      ],
      "metadata": {
        "id": "Y8Ol3osMD7sj"
      },
      "execution_count": 67,
      "outputs": []
    },
    {
      "cell_type": "markdown",
      "source": [
        "**Tasks:**\n",
        "1. Print Ravi’s second mark."
      ],
      "metadata": {
        "id": "Mrw5ow0KEDF-"
      }
    },
    {
      "cell_type": "code",
      "source": [
        "print(\"Ravi's Second Mark:\",students[0][1][1])"
      ],
      "metadata": {
        "colab": {
          "base_uri": "https://localhost:8080/"
        },
        "id": "wdq5_qjUEGJS",
        "outputId": "272e4a7e-50fc-4052-861a-2f59fe941a99"
      },
      "execution_count": 68,
      "outputs": [
        {
          "output_type": "stream",
          "name": "stdout",
          "text": [
            "Ravi's Second Mark: 72\n"
          ]
        }
      ]
    },
    {
      "cell_type": "markdown",
      "source": [
        "2. Calculate average mark for each student."
      ],
      "metadata": {
        "id": "qdAkLReREVPn"
      }
    },
    {
      "cell_type": "code",
      "source": [
        "print([[name, sum(marks)/len(marks)] for name, marks in students])"
      ],
      "metadata": {
        "colab": {
          "base_uri": "https://localhost:8080/"
        },
        "id": "PX3LRsAMEXkE",
        "outputId": "09d606f9-0730-466b-825e-2a9720ba957c"
      },
      "execution_count": 69,
      "outputs": [
        {
          "output_type": "stream",
          "name": "stdout",
          "text": [
            "[['Ravi', 82.33333333333333], ['Sneha', 91.66666666666667], ['Kabir', 65.0], ['Anita', 77.66666666666667]]\n"
          ]
        }
      ]
    },
    {
      "cell_type": "markdown",
      "source": [
        "3. Print the name of students who scored above 80 in all subjects."
      ],
      "metadata": {
        "id": "sUos05_1E-kI"
      }
    },
    {
      "cell_type": "code",
      "source": [
        "print([i[0] for i in students if i[1][0]>80 and i[1][1]>80 and i[1][2]>80])"
      ],
      "metadata": {
        "colab": {
          "base_uri": "https://localhost:8080/"
        },
        "id": "XFrIlw9FFA3t",
        "outputId": "a8976a13-f081-4008-fb1d-07097df56d35"
      },
      "execution_count": 70,
      "outputs": [
        {
          "output_type": "stream",
          "name": "stdout",
          "text": [
            "['Sneha']\n"
          ]
        }
      ]
    },
    {
      "cell_type": "markdown",
      "source": [
        "4. Create a new list of [name, average] ."
      ],
      "metadata": {
        "id": "eaLq8yjnFaBr"
      }
    },
    {
      "cell_type": "code",
      "source": [
        "avg_lis = [[name, sum(marks)/len(marks)] for name, marks in students]\n",
        "print(avg_lis)"
      ],
      "metadata": {
        "colab": {
          "base_uri": "https://localhost:8080/"
        },
        "id": "v1Fl6_sGFdaA",
        "outputId": "1406533d-1da7-4464-d20e-5e39f4afecc0"
      },
      "execution_count": 71,
      "outputs": [
        {
          "output_type": "stream",
          "name": "stdout",
          "text": [
            "[['Ravi', 82.33333333333333], ['Sneha', 91.66666666666667], ['Kabir', 65.0], ['Anita', 77.66666666666667]]\n"
          ]
        }
      ]
    },
    {
      "cell_type": "markdown",
      "source": [
        "**Section 2: Dictionary of Lists**"
      ],
      "metadata": {
        "id": "J6AlF2-OF9Wc"
      }
    },
    {
      "cell_type": "code",
      "source": [
        "data = {\n",
        "\"products\": [\"Mobile\", \"Laptop\", \"Tablet\", \"Camera\"],\n",
        "\"prices\": [12000, 55000, 18000, 25000],\n",
        "\"ratings\": [4.5, 4.7, 4.0, 4.2]\n",
        "}"
      ],
      "metadata": {
        "id": "wM3wHJm_GCNp"
      },
      "execution_count": 72,
      "outputs": []
    },
    {
      "cell_type": "markdown",
      "source": [
        "1. Create a list of dictionaries for each product:"
      ],
      "metadata": {
        "id": "1J50jRP5GC9F"
      }
    },
    {
      "cell_type": "code",
      "source": [
        "prod_lis=[{'product':data['products'][i],'price':data['prices'][i],'rating':data['ratings'][i]} for i in range(len(data['products']))]\n",
        "print(prod_lis)"
      ],
      "metadata": {
        "colab": {
          "base_uri": "https://localhost:8080/"
        },
        "id": "0LPbzhKfGFKB",
        "outputId": "4a6d21b2-d9db-483a-ded8-90fd60a648d0"
      },
      "execution_count": 73,
      "outputs": [
        {
          "output_type": "stream",
          "name": "stdout",
          "text": [
            "[{'product': 'Mobile', 'price': 12000, 'rating': 4.5}, {'product': 'Laptop', 'price': 55000, 'rating': 4.7}, {'product': 'Tablet', 'price': 18000, 'rating': 4.0}, {'product': 'Camera', 'price': 25000, 'rating': 4.2}]\n"
          ]
        }
      ]
    },
    {
      "cell_type": "markdown",
      "source": [
        "2. Filter and print products with price > 20,000 and rating >= 4.5"
      ],
      "metadata": {
        "id": "CCj-WO1pGNEI"
      }
    },
    {
      "cell_type": "code",
      "source": [
        "fil_prod=[i for i in prod_lis if i['price']>20000 and i['rating']>=4.5]\n",
        "print(fil_prod)"
      ],
      "metadata": {
        "colab": {
          "base_uri": "https://localhost:8080/"
        },
        "id": "gG-2_tdtGOBz",
        "outputId": "b3203805-c40c-420b-980c-a6dc2785099e"
      },
      "execution_count": 74,
      "outputs": [
        {
          "output_type": "stream",
          "name": "stdout",
          "text": [
            "[{'product': 'Laptop', 'price': 55000, 'rating': 4.7}]\n"
          ]
        }
      ]
    },
    {
      "cell_type": "markdown",
      "source": [
        "3. Sort the product list by rating (descending)"
      ],
      "metadata": {
        "id": "jmt_T0QyGRHF"
      }
    },
    {
      "cell_type": "code",
      "source": [
        "sort_prod=sorted(prod_lis,key=lambda x:x['rating'],reverse=True)\n",
        "print(sort_prod)"
      ],
      "metadata": {
        "colab": {
          "base_uri": "https://localhost:8080/"
        },
        "id": "86lOqQJRGTgf",
        "outputId": "8badb404-a5b5-44a8-fedd-f2af2d79ccba"
      },
      "execution_count": 75,
      "outputs": [
        {
          "output_type": "stream",
          "name": "stdout",
          "text": [
            "[{'product': 'Laptop', 'price': 55000, 'rating': 4.7}, {'product': 'Mobile', 'price': 12000, 'rating': 4.5}, {'product': 'Camera', 'price': 25000, 'rating': 4.2}, {'product': 'Tablet', 'price': 18000, 'rating': 4.0}]\n"
          ]
        }
      ]
    },
    {
      "cell_type": "markdown",
      "source": [
        "Section 3: Frequency Dictionary + Set Operations"
      ],
      "metadata": {
        "id": "ZsQR9GkHGWlG"
      }
    },
    {
      "cell_type": "code",
      "source": [
        "text = \"ai is the future and ai will change everything in the ai world\""
      ],
      "metadata": {
        "id": "7yvVxIg6GXiC"
      },
      "execution_count": 76,
      "outputs": []
    },
    {
      "cell_type": "markdown",
      "source": [
        "1. Count frequency of each word using a dictionary"
      ],
      "metadata": {
        "id": "ji_Dh2W3GZiV"
      }
    },
    {
      "cell_type": "code",
      "source": [
        "words=text.split()\n",
        "freq={word:words.count(word) for word in words}\n",
        "print(freq)"
      ],
      "metadata": {
        "colab": {
          "base_uri": "https://localhost:8080/"
        },
        "id": "fQr_KjixGbXk",
        "outputId": "ce203c5d-180a-498b-d611-b4fb12e8f430"
      },
      "execution_count": 77,
      "outputs": [
        {
          "output_type": "stream",
          "name": "stdout",
          "text": [
            "{'ai': 3, 'is': 1, 'the': 2, 'future': 1, 'and': 1, 'will': 1, 'change': 1, 'everything': 1, 'in': 1, 'world': 1}\n"
          ]
        }
      ]
    },
    {
      "cell_type": "markdown",
      "source": [
        "2. Print only the words that appear more than once"
      ],
      "metadata": {
        "id": "gNYmUVSGGb5D"
      }
    },
    {
      "cell_type": "code",
      "source": [
        "print([word for word,count in freq.items() if count>1])"
      ],
      "metadata": {
        "colab": {
          "base_uri": "https://localhost:8080/"
        },
        "id": "nICVLiGSGd9z",
        "outputId": "01d10f5b-8534-43f9-8449-275fbdac727a"
      },
      "execution_count": 78,
      "outputs": [
        {
          "output_type": "stream",
          "name": "stdout",
          "text": [
            "['ai', 'the']\n"
          ]
        }
      ]
    },
    {
      "cell_type": "markdown",
      "source": [
        "3. Convert words into a set and print sorted unique words"
      ],
      "metadata": {
        "id": "Yu06DBkZGeeD"
      }
    },
    {
      "cell_type": "code",
      "source": [
        "uniq_sorted=sorted(set(words))\n",
        "print(uniq_sorted)"
      ],
      "metadata": {
        "colab": {
          "base_uri": "https://localhost:8080/"
        },
        "id": "AjaiDFhqGglC",
        "outputId": "428393fa-8b82-460d-d5ba-105e08071106"
      },
      "execution_count": 79,
      "outputs": [
        {
          "output_type": "stream",
          "name": "stdout",
          "text": [
            "['ai', 'and', 'change', 'everything', 'future', 'in', 'is', 'the', 'will', 'world']\n"
          ]
        }
      ]
    },
    {
      "cell_type": "markdown",
      "source": [
        "4. Find common words between:"
      ],
      "metadata": {
        "id": "BAq1M3IMGhIb"
      }
    },
    {
      "cell_type": "code",
      "source": [
        "set1=set(words)\n",
        "set2={\"ai\", \"ml\", \"data\", \"future\"}\n",
        "print(set1&set2)"
      ],
      "metadata": {
        "colab": {
          "base_uri": "https://localhost:8080/"
        },
        "id": "Z6yP12fIGqVW",
        "outputId": "c7d673ab-090d-43f4-94d4-31337b3e6572"
      },
      "execution_count": 80,
      "outputs": [
        {
          "output_type": "stream",
          "name": "stdout",
          "text": [
            "{'ai', 'future'}\n"
          ]
        }
      ]
    },
    {
      "cell_type": "markdown",
      "source": [
        "**Section 4: Dictionary Comprehension + Conditional Logic**"
      ],
      "metadata": {
        "id": "itfvdS0fMgMM"
      }
    },
    {
      "cell_type": "code",
      "source": [
        "sales = {\n",
        "'Amit': 70000,\n",
        "'Sneha': 45000,\n",
        "'Ravi': 30000,\n",
        "'Anita': 90000,\n",
        "'Kabir': 20000\n",
        "}"
      ],
      "metadata": {
        "id": "VI7XKZAkMjXA"
      },
      "execution_count": 81,
      "outputs": []
    },
    {
      "cell_type": "markdown",
      "source": [
        "1. Create a new dictionary with 10% bonus added to each sale"
      ],
      "metadata": {
        "id": "8lNOfQFoMlcF"
      }
    },
    {
      "cell_type": "code",
      "source": [
        "print({name:sale+(sale*0.10) for name,sale in sales.items()})"
      ],
      "metadata": {
        "colab": {
          "base_uri": "https://localhost:8080/"
        },
        "id": "h3BthteHNrBF",
        "outputId": "c1bab863-e227-4194-b06c-b7c660307d83"
      },
      "execution_count": 82,
      "outputs": [
        {
          "output_type": "stream",
          "name": "stdout",
          "text": [
            "{'Amit': 77000.0, 'Sneha': 49500.0, 'Ravi': 33000.0, 'Anita': 99000.0, 'Kabir': 22000.0}\n"
          ]
        }
      ]
    },
    {
      "cell_type": "markdown",
      "source": [
        "2. Filter and return only those with sales >50,000"
      ],
      "metadata": {
        "id": "HgC4xItYODpn"
      }
    },
    {
      "cell_type": "code",
      "source": [
        "print({name:sale for name,sale in sales.items() if sale>50000})"
      ],
      "metadata": {
        "colab": {
          "base_uri": "https://localhost:8080/"
        },
        "id": "4kSpuFtQOE0C",
        "outputId": "3194b01e-92b2-4f7f-85f1-39211c3c0f15"
      },
      "execution_count": 83,
      "outputs": [
        {
          "output_type": "stream",
          "name": "stdout",
          "text": [
            "{'Amit': 70000, 'Anita': 90000}\n"
          ]
        }
      ]
    },
    {
      "cell_type": "markdown",
      "source": [
        "3. Label each person as 'High' , 'Medium' , or 'Low' based on:\n",
        "\n",
        "75,000: High\n",
        "\n",
        "40,000: Medium\n",
        "\n",
        "Else: Low"
      ],
      "metadata": {
        "id": "ukqIjbkmOUZp"
      }
    },
    {
      "cell_type": "code",
      "source": [
        "print({name:('High' if sale>=75000 else \"Medium\" if sale>=40000 else'Low' )for name,sale in sales.items()})"
      ],
      "metadata": {
        "colab": {
          "base_uri": "https://localhost:8080/"
        },
        "id": "IG--guYPOUCM",
        "outputId": "df3910c1-3397-4430-84e0-bf01780d8187"
      },
      "execution_count": 84,
      "outputs": [
        {
          "output_type": "stream",
          "name": "stdout",
          "text": [
            "{'Amit': 'Medium', 'Sneha': 'Medium', 'Ravi': 'Low', 'Anita': 'High', 'Kabir': 'Low'}\n"
          ]
        }
      ]
    },
    {
      "cell_type": "markdown",
      "source": [
        "**Section 5: Tuples, Sets, and Zipping**"
      ],
      "metadata": {
        "id": "g4-WxUcTPnys"
      }
    },
    {
      "cell_type": "code",
      "source": [
        "names = (\"Ravi\", \"Sneha\", \"Kabir\")\n",
        "marks = (88, 92, 76)"
      ],
      "metadata": {
        "id": "uEd_gS_zPrpS"
      },
      "execution_count": 85,
      "outputs": []
    },
    {
      "cell_type": "markdown",
      "source": [
        "1. Convert both tuples to a dictionary using zip()"
      ],
      "metadata": {
        "id": "qJqCb6yuPwY6"
      }
    },
    {
      "cell_type": "code",
      "source": [
        "data={name:mark for name,mark in zip(names,marks)}\n",
        "print(data)"
      ],
      "metadata": {
        "colab": {
          "base_uri": "https://localhost:8080/"
        },
        "id": "XeYPz7OJPykO",
        "outputId": "4ef1f0a6-d3ce-4dee-f441-a368bbd4c3d4"
      },
      "execution_count": 86,
      "outputs": [
        {
          "output_type": "stream",
          "name": "stdout",
          "text": [
            "{'Ravi': 88, 'Sneha': 92, 'Kabir': 76}\n"
          ]
        }
      ]
    },
    {
      "cell_type": "markdown",
      "source": [
        "2. Find min and max marks"
      ],
      "metadata": {
        "id": "01_74s9YP3vc"
      }
    },
    {
      "cell_type": "code",
      "source": [
        "print(\"Min Marks:\",min(data.values()))\n",
        "print(\"Max Marks:\",max(data.values()))"
      ],
      "metadata": {
        "colab": {
          "base_uri": "https://localhost:8080/"
        },
        "id": "yJ_LYPpQP5kY",
        "outputId": "63c7d76d-1b7a-4501-8e34-09d6f87ad90f"
      },
      "execution_count": 87,
      "outputs": [
        {
          "output_type": "stream",
          "name": "stdout",
          "text": [
            "Min Marks: 76\n",
            "Max Marks: 92\n"
          ]
        }
      ]
    },
    {
      "cell_type": "markdown",
      "source": [
        "3. Create a set from marks and add a new value"
      ],
      "metadata": {
        "id": "xKlxs7LsP86I"
      }
    },
    {
      "cell_type": "code",
      "source": [
        "mark=set(data.values())\n",
        "mark.add(95)\n",
        "print(mark)"
      ],
      "metadata": {
        "colab": {
          "base_uri": "https://localhost:8080/"
        },
        "id": "y0SmkF7cQD1G",
        "outputId": "9b651ae7-f7a7-4743-d86c-96e0779f10ac"
      },
      "execution_count": 88,
      "outputs": [
        {
          "output_type": "stream",
          "name": "stdout",
          "text": [
            "{88, 92, 95, 76}\n"
          ]
        }
      ]
    },
    {
      "cell_type": "markdown",
      "source": [
        "4. Merge two sets and show unique elements"
      ],
      "metadata": {
        "id": "8GV1HRABQasj"
      }
    },
    {
      "cell_type": "code",
      "source": [
        "add_mark={90,95,88,70,75}\n",
        "print(mark.union(add_mark))"
      ],
      "metadata": {
        "colab": {
          "base_uri": "https://localhost:8080/"
        },
        "id": "yqI-s-qgQei7",
        "outputId": "ad9a8eb4-2c71-4cec-b100-3a7014cdfaed"
      },
      "execution_count": 89,
      "outputs": [
        {
          "output_type": "stream",
          "name": "stdout",
          "text": [
            "{70, 75, 76, 88, 90, 92, 95}\n"
          ]
        }
      ]
    },
    {
      "cell_type": "markdown",
      "source": [
        "**Bonus Challenge**"
      ],
      "metadata": {
        "id": "ZVWzBw5nTaA0"
      }
    },
    {
      "cell_type": "code",
      "source": [
        "employees = {\n",
        "\"E101\": {\"name\": \"Ravi\", \"dept\": \"Sales\", \"salary\": 50000},\n",
        "\"E102\": {\"name\": \"Sneha\", \"dept\": \"Engineering\", \"salary\": 80000},\n",
        "\"E103\": {\"name\": \"Kabir\", \"dept\": \"HR\", \"salary\": 45000}\n",
        "}"
      ],
      "metadata": {
        "id": "Ayfn4LC9Tc0d"
      },
      "execution_count": 90,
      "outputs": []
    },
    {
      "cell_type": "markdown",
      "source": [
        "1. Add a new employee \"E104\""
      ],
      "metadata": {
        "id": "cwIq_HvqTcT7"
      }
    },
    {
      "cell_type": "code",
      "source": [
        "employees[\"E104\"] = {\"name\": \"Harish\", \"dept\": \"Engineering\", \"salary\": 90000}\n",
        "print(employees)"
      ],
      "metadata": {
        "colab": {
          "base_uri": "https://localhost:8080/"
        },
        "id": "Qi2ZdFgoTkMS",
        "outputId": "866f326b-5323-4dcc-90fd-e3d1c2314699"
      },
      "execution_count": 91,
      "outputs": [
        {
          "output_type": "stream",
          "name": "stdout",
          "text": [
            "{'E101': {'name': 'Ravi', 'dept': 'Sales', 'salary': 50000}, 'E102': {'name': 'Sneha', 'dept': 'Engineering', 'salary': 80000}, 'E103': {'name': 'Kabir', 'dept': 'HR', 'salary': 45000}, 'E104': {'name': 'Harish', 'dept': 'Engineering', 'salary': 90000}}\n"
          ]
        }
      ]
    },
    {
      "cell_type": "markdown",
      "source": [
        "2. Increase salary by 10% for Engineering department only"
      ],
      "metadata": {
        "id": "qvVxFnT_TlGX"
      }
    },
    {
      "cell_type": "code",
      "source": [
        "for emp in employees.values():\n",
        "    if emp[\"dept\"] == \"Engineering\":\n",
        "        emp[\"salary\"] *= 1.10\n",
        "print(employees)"
      ],
      "metadata": {
        "colab": {
          "base_uri": "https://localhost:8080/"
        },
        "id": "BFe6TaAtTnds",
        "outputId": "e81f9fb8-29c8-4389-9c60-6cc99081828d"
      },
      "execution_count": 92,
      "outputs": [
        {
          "output_type": "stream",
          "name": "stdout",
          "text": [
            "{'E101': {'name': 'Ravi', 'dept': 'Sales', 'salary': 50000}, 'E102': {'name': 'Sneha', 'dept': 'Engineering', 'salary': 88000.0}, 'E103': {'name': 'Kabir', 'dept': 'HR', 'salary': 45000}, 'E104': {'name': 'Harish', 'dept': 'Engineering', 'salary': 99000.00000000001}}\n"
          ]
        }
      ]
    },
    {
      "cell_type": "markdown",
      "source": [
        "3. Find the department with the highest average salary"
      ],
      "metadata": {
        "id": "Hep6VKv4ToEc"
      }
    },
    {
      "cell_type": "code",
      "source": [
        "from collections import defaultdict\n",
        "\n",
        "dept_salaries = defaultdict(list)\n",
        "for emp in employees.values():\n",
        "    dept_salaries[emp[\"dept\"]].append(emp[\"salary\"])\n",
        "\n",
        "avg_salaries = {dept: sum(sals)/len(sals) for dept, sals in dept_salaries.items()}\n",
        "highest_avg_dept = max(avg_salaries, key=avg_salaries.get)\n",
        "print(highest_avg_dept)\n"
      ],
      "metadata": {
        "colab": {
          "base_uri": "https://localhost:8080/"
        },
        "id": "TSa6P9I3TqDj",
        "outputId": "33613732-2988-4fa7-9815-5506d0a1bcf4"
      },
      "execution_count": 93,
      "outputs": [
        {
          "output_type": "stream",
          "name": "stdout",
          "text": [
            "Engineering\n"
          ]
        }
      ]
    }
  ]
}