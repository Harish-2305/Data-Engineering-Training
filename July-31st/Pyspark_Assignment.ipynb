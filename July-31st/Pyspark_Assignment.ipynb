{
  "nbformat": 4,
  "nbformat_minor": 0,
  "metadata": {
    "colab": {
      "provenance": []
    },
    "kernelspec": {
      "name": "python3",
      "display_name": "Python 3"
    },
    "language_info": {
      "name": "python"
    }
  },
  "cells": [
    {
      "cell_type": "markdown",
      "source": [
        "**Assignment: Movie Ratings & Revenue Analysis**\n",
        "\n",
        "Step 1: Create a CSV – movies.csv"
      ],
      "metadata": {
        "id": "fo-8cLYDNaQ0"
      }
    },
    {
      "cell_type": "code",
      "source": [
        "data=\"\"\"MovieID,Title,Genre,ReleaseDate,Rating,Revenue,Budget\n",
        "1,Inception,Sci-Fi,2010-07-16,8.8,825532764,160000000\n",
        "2,The Dark Knight,Action,2008-07-18,9.0,1004558444,185000000\n",
        "3,Titanic,Romance,1997-12-19,7.8,2187463944,200000000\n",
        "4,Interstellar,Sci-Fi,2014-11-07,8.6,677471339,165000000\n",
        "5,Joker,Drama,2019-10-04,8.4,1074251311,55000000\n",
        "6,The Notebook,Romance,2004-06-25,7.9,,29000000\n",
        "7,Avengers: Endgame,Action,2019-04-26,8.4,2797800564,356000000\"\"\"\n",
        "\n",
        "with open('movies.csv', 'w') as f:\n",
        "  f.write(data)"
      ],
      "metadata": {
        "id": "136y4zVaNO1U"
      },
      "execution_count": 63,
      "outputs": []
    },
    {
      "cell_type": "markdown",
      "source": [
        "**PART 1: Pandas Operations**\n",
        "1. Load movies.csv into a Pandas DataFrame."
      ],
      "metadata": {
        "id": "jo1hI1cMOWr6"
      }
    },
    {
      "cell_type": "code",
      "source": [
        "import pandas as pd\n",
        "import numpy as np\n",
        "df=pd.read_csv('movies.csv')\n",
        "print(df)"
      ],
      "metadata": {
        "colab": {
          "base_uri": "https://localhost:8080/"
        },
        "id": "gYVM-k-9OfFr",
        "outputId": "48906f06-dc64-417a-883d-9c3755884fa6"
      },
      "execution_count": 64,
      "outputs": [
        {
          "output_type": "stream",
          "name": "stdout",
          "text": [
            "   MovieID              Title    Genre ReleaseDate  Rating       Revenue  \\\n",
            "0        1          Inception   Sci-Fi  2010-07-16     8.8  8.255328e+08   \n",
            "1        2    The Dark Knight   Action  2008-07-18     9.0  1.004558e+09   \n",
            "2        3            Titanic  Romance  1997-12-19     7.8  2.187464e+09   \n",
            "3        4       Interstellar   Sci-Fi  2014-11-07     8.6  6.774713e+08   \n",
            "4        5              Joker    Drama  2019-10-04     8.4  1.074251e+09   \n",
            "5        6       The Notebook  Romance  2004-06-25     7.9           NaN   \n",
            "6        7  Avengers: Endgame   Action  2019-04-26     8.4  2.797801e+09   \n",
            "\n",
            "      Budget  \n",
            "0  160000000  \n",
            "1  185000000  \n",
            "2  200000000  \n",
            "3  165000000  \n",
            "4   55000000  \n",
            "5   29000000  \n",
            "6  356000000  \n"
          ]
        }
      ]
    },
    {
      "cell_type": "markdown",
      "source": [
        "2. Convert ReleaseDate to datetime."
      ],
      "metadata": {
        "id": "hiojwo55O2Pz"
      }
    },
    {
      "cell_type": "code",
      "source": [
        "df['ReleaseDate']=pd.to_datetime(df['ReleaseDate'])\n",
        "print(df)"
      ],
      "metadata": {
        "colab": {
          "base_uri": "https://localhost:8080/"
        },
        "id": "Xj0iOnSsO4SA",
        "outputId": "b5190210-7ce6-4aee-bc66-353601dd1ef7"
      },
      "execution_count": 65,
      "outputs": [
        {
          "output_type": "stream",
          "name": "stdout",
          "text": [
            "   MovieID              Title    Genre ReleaseDate  Rating       Revenue  \\\n",
            "0        1          Inception   Sci-Fi  2010-07-16     8.8  8.255328e+08   \n",
            "1        2    The Dark Knight   Action  2008-07-18     9.0  1.004558e+09   \n",
            "2        3            Titanic  Romance  1997-12-19     7.8  2.187464e+09   \n",
            "3        4       Interstellar   Sci-Fi  2014-11-07     8.6  6.774713e+08   \n",
            "4        5              Joker    Drama  2019-10-04     8.4  1.074251e+09   \n",
            "5        6       The Notebook  Romance  2004-06-25     7.9           NaN   \n",
            "6        7  Avengers: Endgame   Action  2019-04-26     8.4  2.797801e+09   \n",
            "\n",
            "      Budget  \n",
            "0  160000000  \n",
            "1  185000000  \n",
            "2  200000000  \n",
            "3  165000000  \n",
            "4   55000000  \n",
            "5   29000000  \n",
            "6  356000000  \n"
          ]
        }
      ]
    },
    {
      "cell_type": "markdown",
      "source": [
        "3. Calculate Profit = Revenue - Budget ."
      ],
      "metadata": {
        "id": "PeYaG6o9PPNt"
      }
    },
    {
      "cell_type": "code",
      "source": [
        "df['Profit']=df['Revenue']-df['Budget']\n",
        "print(df)"
      ],
      "metadata": {
        "colab": {
          "base_uri": "https://localhost:8080/"
        },
        "id": "jLaB4SBCPG4j",
        "outputId": "1258fd4c-ab30-4f16-b402-f376651cbceb"
      },
      "execution_count": 66,
      "outputs": [
        {
          "output_type": "stream",
          "name": "stdout",
          "text": [
            "   MovieID              Title    Genre ReleaseDate  Rating       Revenue  \\\n",
            "0        1          Inception   Sci-Fi  2010-07-16     8.8  8.255328e+08   \n",
            "1        2    The Dark Knight   Action  2008-07-18     9.0  1.004558e+09   \n",
            "2        3            Titanic  Romance  1997-12-19     7.8  2.187464e+09   \n",
            "3        4       Interstellar   Sci-Fi  2014-11-07     8.6  6.774713e+08   \n",
            "4        5              Joker    Drama  2019-10-04     8.4  1.074251e+09   \n",
            "5        6       The Notebook  Romance  2004-06-25     7.9           NaN   \n",
            "6        7  Avengers: Endgame   Action  2019-04-26     8.4  2.797801e+09   \n",
            "\n",
            "      Budget        Profit  \n",
            "0  160000000  6.655328e+08  \n",
            "1  185000000  8.195584e+08  \n",
            "2  200000000  1.987464e+09  \n",
            "3  165000000  5.124713e+08  \n",
            "4   55000000  1.019251e+09  \n",
            "5   29000000           NaN  \n",
            "6  356000000  2.441801e+09  \n"
          ]
        }
      ]
    },
    {
      "cell_type": "markdown",
      "source": [
        "4. Add a column \"Era\" :\n",
        "\n",
        "Before 2000 → Classic\n",
        "\n",
        "2000-2010 → Mid\n",
        "\n",
        "After 2010 → Modern"
      ],
      "metadata": {
        "id": "kOfShFmuQBxL"
      }
    },
    {
      "cell_type": "code",
      "source": [
        "df['Era']=np.where(df['ReleaseDate']<'2000-01-01','Classic',np.where(df['ReleaseDate']>'2010-12-31','Modern','Mid'))\n",
        "print(df)"
      ],
      "metadata": {
        "colab": {
          "base_uri": "https://localhost:8080/"
        },
        "id": "jg5I4cNOQGp8",
        "outputId": "cd9d3672-ca6c-444e-9516-adf3c5a5064c"
      },
      "execution_count": 67,
      "outputs": [
        {
          "output_type": "stream",
          "name": "stdout",
          "text": [
            "   MovieID              Title    Genre ReleaseDate  Rating       Revenue  \\\n",
            "0        1          Inception   Sci-Fi  2010-07-16     8.8  8.255328e+08   \n",
            "1        2    The Dark Knight   Action  2008-07-18     9.0  1.004558e+09   \n",
            "2        3            Titanic  Romance  1997-12-19     7.8  2.187464e+09   \n",
            "3        4       Interstellar   Sci-Fi  2014-11-07     8.6  6.774713e+08   \n",
            "4        5              Joker    Drama  2019-10-04     8.4  1.074251e+09   \n",
            "5        6       The Notebook  Romance  2004-06-25     7.9           NaN   \n",
            "6        7  Avengers: Endgame   Action  2019-04-26     8.4  2.797801e+09   \n",
            "\n",
            "      Budget        Profit      Era  \n",
            "0  160000000  6.655328e+08      Mid  \n",
            "1  185000000  8.195584e+08      Mid  \n",
            "2  200000000  1.987464e+09  Classic  \n",
            "3  165000000  5.124713e+08   Modern  \n",
            "4   55000000  1.019251e+09   Modern  \n",
            "5   29000000           NaN      Mid  \n",
            "6  356000000  2.441801e+09   Modern  \n"
          ]
        }
      ]
    },
    {
      "cell_type": "markdown",
      "source": [
        "5. Handle nulls in Revenue by filling with average revenue."
      ],
      "metadata": {
        "id": "W4kxhVBtQUHN"
      }
    },
    {
      "cell_type": "code",
      "source": [
        "df['Revenue']=df['Revenue'].fillna(df['Revenue'].mean())\n",
        "print(df)"
      ],
      "metadata": {
        "colab": {
          "base_uri": "https://localhost:8080/"
        },
        "id": "tyLRVyziQW3I",
        "outputId": "08a11a9c-c35a-4f35-befd-99a493e871d9"
      },
      "execution_count": 68,
      "outputs": [
        {
          "output_type": "stream",
          "name": "stdout",
          "text": [
            "   MovieID              Title    Genre ReleaseDate  Rating       Revenue  \\\n",
            "0        1          Inception   Sci-Fi  2010-07-16     8.8  8.255328e+08   \n",
            "1        2    The Dark Knight   Action  2008-07-18     9.0  1.004558e+09   \n",
            "2        3            Titanic  Romance  1997-12-19     7.8  2.187464e+09   \n",
            "3        4       Interstellar   Sci-Fi  2014-11-07     8.6  6.774713e+08   \n",
            "4        5              Joker    Drama  2019-10-04     8.4  1.074251e+09   \n",
            "5        6       The Notebook  Romance  2004-06-25     7.9  1.427846e+09   \n",
            "6        7  Avengers: Endgame   Action  2019-04-26     8.4  2.797801e+09   \n",
            "\n",
            "      Budget        Profit      Era  \n",
            "0  160000000  6.655328e+08      Mid  \n",
            "1  185000000  8.195584e+08      Mid  \n",
            "2  200000000  1.987464e+09  Classic  \n",
            "3  165000000  5.124713e+08   Modern  \n",
            "4   55000000  1.019251e+09   Modern  \n",
            "5   29000000           NaN      Mid  \n",
            "6  356000000  2.441801e+09   Modern  \n"
          ]
        }
      ]
    },
    {
      "cell_type": "markdown",
      "source": [
        "6. Sort by Rating descending."
      ],
      "metadata": {
        "id": "1IuHbMBYRDJ-"
      }
    },
    {
      "cell_type": "code",
      "source": [
        "print(df.sort_values(by='Rating',ascending=False))"
      ],
      "metadata": {
        "colab": {
          "base_uri": "https://localhost:8080/"
        },
        "id": "jONyAAkiRG-k",
        "outputId": "1ed097f0-edc6-45e8-b392-d6b4908b786c"
      },
      "execution_count": 69,
      "outputs": [
        {
          "output_type": "stream",
          "name": "stdout",
          "text": [
            "   MovieID              Title    Genre ReleaseDate  Rating       Revenue  \\\n",
            "1        2    The Dark Knight   Action  2008-07-18     9.0  1.004558e+09   \n",
            "0        1          Inception   Sci-Fi  2010-07-16     8.8  8.255328e+08   \n",
            "3        4       Interstellar   Sci-Fi  2014-11-07     8.6  6.774713e+08   \n",
            "6        7  Avengers: Endgame   Action  2019-04-26     8.4  2.797801e+09   \n",
            "4        5              Joker    Drama  2019-10-04     8.4  1.074251e+09   \n",
            "5        6       The Notebook  Romance  2004-06-25     7.9  1.427846e+09   \n",
            "2        3            Titanic  Romance  1997-12-19     7.8  2.187464e+09   \n",
            "\n",
            "      Budget        Profit      Era  \n",
            "1  185000000  8.195584e+08      Mid  \n",
            "0  160000000  6.655328e+08      Mid  \n",
            "3  165000000  5.124713e+08   Modern  \n",
            "6  356000000  2.441801e+09   Modern  \n",
            "4   55000000  1.019251e+09   Modern  \n",
            "5   29000000           NaN      Mid  \n",
            "2  200000000  1.987464e+09  Classic  \n"
          ]
        }
      ]
    },
    {
      "cell_type": "markdown",
      "source": [
        "7. Group by Genre → average Rating & total Revenue."
      ],
      "metadata": {
        "id": "HykGig-hRSej"
      }
    },
    {
      "cell_type": "code",
      "source": [
        "print(df.groupby('Genre').agg({'Rating':'mean','Revenue':'sum'}))"
      ],
      "metadata": {
        "colab": {
          "base_uri": "https://localhost:8080/"
        },
        "id": "L9DJU5QYRPoZ",
        "outputId": "02108726-6808-47f5-af14-cb688281e72a"
      },
      "execution_count": 70,
      "outputs": [
        {
          "output_type": "stream",
          "name": "stdout",
          "text": [
            "         Rating       Revenue\n",
            "Genre                        \n",
            "Action     8.70  3.802359e+09\n",
            "Drama      8.40  1.074251e+09\n",
            "Romance    7.85  3.615310e+09\n",
            "Sci-Fi     8.70  1.503004e+09\n"
          ]
        }
      ]
    },
    {
      "cell_type": "markdown",
      "source": [
        "8. Filter movies with Rating ≥ 8.5 and Profit >\n",
        "500M."
      ],
      "metadata": {
        "id": "4-1Lt1z7R_yC"
      }
    },
    {
      "cell_type": "code",
      "source": [
        "print(df[(df['Rating']>=8.5)&(df['Profit']>500000000)])"
      ],
      "metadata": {
        "colab": {
          "base_uri": "https://localhost:8080/"
        },
        "id": "9kVhml90SBnt",
        "outputId": "019854bf-3367-42aa-9d3b-616399862e63"
      },
      "execution_count": 71,
      "outputs": [
        {
          "output_type": "stream",
          "name": "stdout",
          "text": [
            "   MovieID            Title   Genre ReleaseDate  Rating       Revenue  \\\n",
            "0        1        Inception  Sci-Fi  2010-07-16     8.8  8.255328e+08   \n",
            "1        2  The Dark Knight  Action  2008-07-18     9.0  1.004558e+09   \n",
            "3        4     Interstellar  Sci-Fi  2014-11-07     8.6  6.774713e+08   \n",
            "\n",
            "      Budget       Profit     Era  \n",
            "0  160000000  665532764.0     Mid  \n",
            "1  185000000  819558444.0     Mid  \n",
            "3  165000000  512471339.0  Modern  \n"
          ]
        }
      ]
    },
    {
      "cell_type": "markdown",
      "source": [
        "9. Plot bar chart of Movie Title vs Profit."
      ],
      "metadata": {
        "id": "L0aqGsiwS71y"
      }
    },
    {
      "cell_type": "code",
      "source": [
        "import matplotlib.pyplot as plt\n",
        "plt.bar(df['Title'],df['Profit'],color=['blue','red'])\n",
        "plt.xlabel('Movie Title')\n",
        "plt.ylabel('Profit')\n",
        "plt.xticks(rotation=90)\n",
        "plt.title('Movie Title vs Profit')\n",
        "plt.grid(True)\n",
        "plt.tight_layout()\n",
        "plt.show()"
      ],
      "metadata": {
        "colab": {
          "base_uri": "https://localhost:8080/",
          "height": 486
        },
        "id": "jmM749ZIS-MS",
        "outputId": "141b97bf-208d-4c17-b9c8-fc8ce282cadc"
      },
      "execution_count": 72,
      "outputs": [
        {
          "output_type": "display_data",
          "data": {
            "text/plain": [
              "<Figure size 640x480 with 1 Axes>"
            ],
            "image/png": "[encoded data removed]"
          },
          "metadata": {}
        }
      ]
    },
    {
      "cell_type": "markdown",
      "source": [
        "**PART 2: PySpark Operations**\n",
        "\n",
        "1. Read the same CSV using PySpark."
      ],
      "metadata": {
        "id": "KXA2o83pTum2"
      }
    },
    {
      "cell_type": "code",
      "source": [
        "from pyspark.sql import SparkSession\n",
        "import pyspark.sql.functions as F\n",
        "spark=SparkSession.builder.appName('movies').getOrCreate()\n",
        "df=spark.read.csv('movies.csv',header=True,inferSchema=True)\n",
        "df.show()"
      ],
      "metadata": {
        "colab": {
          "base_uri": "https://localhost:8080/"
        },
        "id": "y0n1QMgDTyBl",
        "outputId": "5591644c-ced3-49c9-dbd4-a4a1efad4313"
      },
      "execution_count": 73,
      "outputs": [
        {
          "output_type": "stream",
          "name": "stdout",
          "text": [
            "+-------+-----------------+-------+-----------+------+----------+---------+\n",
            "|MovieID|            Title|  Genre|ReleaseDate|Rating|   Revenue|   Budget|\n",
            "+-------+-----------------+-------+-----------+------+----------+---------+\n",
            "|      1|        Inception| Sci-Fi| 2010-07-16|   8.8| 825532764|160000000|\n",
            "|      2|  The Dark Knight| Action| 2008-07-18|   9.0|1004558444|185000000|\n",
            "|      3|          Titanic|Romance| 1997-12-19|   7.8|2187463944|200000000|\n",
            "|      4|     Interstellar| Sci-Fi| 2014-11-07|   8.6| 677471339|165000000|\n",
            "|      5|            Joker|  Drama| 2019-10-04|   8.4|1074251311| 55000000|\n",
            "|      6|     The Notebook|Romance| 2004-06-25|   7.9|      NULL| 29000000|\n",
            "|      7|Avengers: Endgame| Action| 2019-04-26|   8.4|2797800564|356000000|\n",
            "+-------+-----------------+-------+-----------+------+----------+---------+\n",
            "\n"
          ]
        }
      ]
    },
    {
      "cell_type": "markdown",
      "source": [
        "2. Create Profit column ( Revenue - Budget )."
      ],
      "metadata": {
        "id": "x4tJLOdYUKUc"
      }
    },
    {
      "cell_type": "code",
      "source": [
        "df=df.withColumn('Profit',F.col('Revenue')-F.col('Budget'))\n",
        "df.show()"
      ],
      "metadata": {
        "colab": {
          "base_uri": "https://localhost:8080/"
        },
        "id": "TD7KlO7BULLd",
        "outputId": "f9a4015a-a900-4df2-f44d-20c295ae53fc"
      },
      "execution_count": 74,
      "outputs": [
        {
          "output_type": "stream",
          "name": "stdout",
          "text": [
            "+-------+-----------------+-------+-----------+------+----------+---------+----------+\n",
            "|MovieID|            Title|  Genre|ReleaseDate|Rating|   Revenue|   Budget|    Profit|\n",
            "+-------+-----------------+-------+-----------+------+----------+---------+----------+\n",
            "|      1|        Inception| Sci-Fi| 2010-07-16|   8.8| 825532764|160000000| 665532764|\n",
            "|      2|  The Dark Knight| Action| 2008-07-18|   9.0|1004558444|185000000| 819558444|\n",
            "|      3|          Titanic|Romance| 1997-12-19|   7.8|2187463944|200000000|1987463944|\n",
            "|      4|     Interstellar| Sci-Fi| 2014-11-07|   8.6| 677471339|165000000| 512471339|\n",
            "|      5|            Joker|  Drama| 2019-10-04|   8.4|1074251311| 55000000|1019251311|\n",
            "|      6|     The Notebook|Romance| 2004-06-25|   7.9|      NULL| 29000000|      NULL|\n",
            "|      7|Avengers: Endgame| Action| 2019-04-26|   8.4|2797800564|356000000|2441800564|\n",
            "+-------+-----------------+-------+-----------+------+----------+---------+----------+\n",
            "\n"
          ]
        }
      ]
    },
    {
      "cell_type": "markdown",
      "source": [
        "3. Filter where Genre == 'Sci-Fi' and Profit > 500000000 ."
      ],
      "metadata": {
        "id": "cGR9KHalUaQT"
      }
    },
    {
      "cell_type": "code",
      "source": [
        "df.filter((F.col('Genre')=='Sci-Fi')&(F.col('Profit')>500000000)).show()"
      ],
      "metadata": {
        "colab": {
          "base_uri": "https://localhost:8080/"
        },
        "id": "13ZbUJiaUb6B",
        "outputId": "9082d4aa-f0b5-42d3-8a67-63d70d7d8f62"
      },
      "execution_count": 75,
      "outputs": [
        {
          "output_type": "stream",
          "name": "stdout",
          "text": [
            "+-------+------------+------+-----------+------+---------+---------+---------+\n",
            "|MovieID|       Title| Genre|ReleaseDate|Rating|  Revenue|   Budget|   Profit|\n",
            "+-------+------------+------+-----------+------+---------+---------+---------+\n",
            "|      1|   Inception|Sci-Fi| 2010-07-16|   8.8|825532764|160000000|665532764|\n",
            "|      4|Interstellar|Sci-Fi| 2014-11-07|   8.6|677471339|165000000|512471339|\n",
            "+-------+------------+------+-----------+------+---------+---------+---------+\n",
            "\n"
          ]
        }
      ]
    },
    {
      "cell_type": "markdown",
      "source": [
        "4. Group by Genre → avg(Rating) , sum(Profit)"
      ],
      "metadata": {
        "id": "WIbFuaNVVF4e"
      }
    },
    {
      "cell_type": "code",
      "source": [
        "df.groupBy('Genre').agg(F.avg('Rating'),F.sum('Profit')).show()"
      ],
      "metadata": {
        "colab": {
          "base_uri": "https://localhost:8080/"
        },
        "id": "NXodJYzIVH5V",
        "outputId": "67e52165-9102-471f-d2fe-da52bb7c9b82"
      },
      "execution_count": 76,
      "outputs": [
        {
          "output_type": "stream",
          "name": "stdout",
          "text": [
            "+-------+-----------+-----------+\n",
            "|  Genre|avg(Rating)|sum(Profit)|\n",
            "+-------+-----------+-----------+\n",
            "|Romance|       7.85| 1987463944|\n",
            "|  Drama|        8.4| 1019251311|\n",
            "| Action|        8.7| 3261359008|\n",
            "| Sci-Fi|        8.7| 1178004103|\n",
            "+-------+-----------+-----------+\n",
            "\n"
          ]
        }
      ]
    },
    {
      "cell_type": "markdown",
      "source": [
        "Use when().otherwise() to classify Rating as:\n",
        "\n",
        "=9 → Blockbuster\n",
        "\n",
        "8–9 → Hit\n",
        "\n",
        "below 8 → Average"
      ],
      "metadata": {
        "id": "_boKrt2uVeib"
      }
    },
    {
      "cell_type": "code",
      "source": [
        "df=df.withColumn('Rating_category',F.when(F.col('Rating')==9,'Blockbuster').when((F.col('Rating')<=8)&(F.col('Rating')<9),'Hit').otherwise('Average'))\n",
        "df.show()"
      ],
      "metadata": {
        "colab": {
          "base_uri": "https://localhost:8080/"
        },
        "id": "BwcWbtADVptd",
        "outputId": "e378de48-fc14-4aeb-d569-9f1516b89a1b"
      },
      "execution_count": 77,
      "outputs": [
        {
          "output_type": "stream",
          "name": "stdout",
          "text": [
            "+-------+-----------------+-------+-----------+------+----------+---------+----------+---------------+\n",
            "|MovieID|            Title|  Genre|ReleaseDate|Rating|   Revenue|   Budget|    Profit|Rating_category|\n",
            "+-------+-----------------+-------+-----------+------+----------+---------+----------+---------------+\n",
            "|      1|        Inception| Sci-Fi| 2010-07-16|   8.8| 825532764|160000000| 665532764|        Average|\n",
            "|      2|  The Dark Knight| Action| 2008-07-18|   9.0|1004558444|185000000| 819558444|    Blockbuster|\n",
            "|      3|          Titanic|Romance| 1997-12-19|   7.8|2187463944|200000000|1987463944|            Hit|\n",
            "|      4|     Interstellar| Sci-Fi| 2014-11-07|   8.6| 677471339|165000000| 512471339|        Average|\n",
            "|      5|            Joker|  Drama| 2019-10-04|   8.4|1074251311| 55000000|1019251311|        Average|\n",
            "|      6|     The Notebook|Romance| 2004-06-25|   7.9|      NULL| 29000000|      NULL|            Hit|\n",
            "|      7|Avengers: Endgame| Action| 2019-04-26|   8.4|2797800564|356000000|2441800564|        Average|\n",
            "+-------+-----------------+-------+-----------+------+----------+---------+----------+---------------+\n",
            "\n"
          ]
        }
      ]
    },
    {
      "cell_type": "markdown",
      "source": [
        "6. Drop the Budget column."
      ],
      "metadata": {
        "id": "jNXHV_hFXgM2"
      }
    },
    {
      "cell_type": "code",
      "source": [
        "df=df.drop('Budget')\n",
        "df.show()"
      ],
      "metadata": {
        "colab": {
          "base_uri": "https://localhost:8080/"
        },
        "id": "Ka59X52-XiyG",
        "outputId": "6c862d33-24cd-4135-ac4a-03d3917b2623"
      },
      "execution_count": 78,
      "outputs": [
        {
          "output_type": "stream",
          "name": "stdout",
          "text": [
            "+-------+-----------------+-------+-----------+------+----------+----------+---------------+\n",
            "|MovieID|            Title|  Genre|ReleaseDate|Rating|   Revenue|    Profit|Rating_category|\n",
            "+-------+-----------------+-------+-----------+------+----------+----------+---------------+\n",
            "|      1|        Inception| Sci-Fi| 2010-07-16|   8.8| 825532764| 665532764|        Average|\n",
            "|      2|  The Dark Knight| Action| 2008-07-18|   9.0|1004558444| 819558444|    Blockbuster|\n",
            "|      3|          Titanic|Romance| 1997-12-19|   7.8|2187463944|1987463944|            Hit|\n",
            "|      4|     Interstellar| Sci-Fi| 2014-11-07|   8.6| 677471339| 512471339|        Average|\n",
            "|      5|            Joker|  Drama| 2019-10-04|   8.4|1074251311|1019251311|        Average|\n",
            "|      6|     The Notebook|Romance| 2004-06-25|   7.9|      NULL|      NULL|            Hit|\n",
            "|      7|Avengers: Endgame| Action| 2019-04-26|   8.4|2797800564|2441800564|        Average|\n",
            "+-------+-----------------+-------+-----------+------+----------+----------+---------------+\n",
            "\n"
          ]
        }
      ]
    },
    {
      "cell_type": "markdown",
      "source": [
        "7. Fill null revenue with average (use na.fill() or na.replace() )."
      ],
      "metadata": {
        "id": "PgwP9D15XxYI"
      }
    },
    {
      "cell_type": "code",
      "source": [
        "df = df.na.fill({'Revenue': df.agg(F.avg('Revenue')).collect()[0][0]})\n",
        "df.show()"
      ],
      "metadata": {
        "colab": {
          "base_uri": "https://localhost:8080/"
        },
        "id": "K3N-WLFbXz0s",
        "outputId": "0a0a43e1-b40f-4b7d-c250-edd4be8b626a"
      },
      "execution_count": 79,
      "outputs": [
        {
          "output_type": "stream",
          "name": "stdout",
          "text": [
            "+-------+-----------------+-------+-----------+------+----------+----------+---------------+\n",
            "|MovieID|            Title|  Genre|ReleaseDate|Rating|   Revenue|    Profit|Rating_category|\n",
            "+-------+-----------------+-------+-----------+------+----------+----------+---------------+\n",
            "|      1|        Inception| Sci-Fi| 2010-07-16|   8.8| 825532764| 665532764|        Average|\n",
            "|      2|  The Dark Knight| Action| 2008-07-18|   9.0|1004558444| 819558444|    Blockbuster|\n",
            "|      3|          Titanic|Romance| 1997-12-19|   7.8|2187463944|1987463944|            Hit|\n",
            "|      4|     Interstellar| Sci-Fi| 2014-11-07|   8.6| 677471339| 512471339|        Average|\n",
            "|      5|            Joker|  Drama| 2019-10-04|   8.4|1074251311|1019251311|        Average|\n",
            "|      6|     The Notebook|Romance| 2004-06-25|   7.9|1427846394|      NULL|            Hit|\n",
            "|      7|Avengers: Endgame| Action| 2019-04-26|   8.4|2797800564|2441800564|        Average|\n",
            "+-------+-----------------+-------+-----------+------+----------+----------+---------------+\n",
            "\n"
          ]
        }
      ]
    },
    {
      "cell_type": "markdown",
      "source": [
        "8. Convert ReleaseDate to date type, extract year and month ."
      ],
      "metadata": {
        "id": "h81Zcg1SYg3T"
      }
    },
    {
      "cell_type": "code",
      "source": [
        "df=df.withColumn('ReleaseDate',F.to_date(F.col('ReleaseDate')))\n",
        "df.withColumn(\"Year\",F.year('ReleaseDate')).withColumn('month',F.month('ReleaseDate')).show()\n",
        "df.show()"
      ],
      "metadata": {
        "colab": {
          "base_uri": "https://localhost:8080/"
        },
        "id": "EYXeJGSlYjru",
        "outputId": "6e0ada08-87e4-437e-97fa-a411d744d977"
      },
      "execution_count": 80,
      "outputs": [
        {
          "output_type": "stream",
          "name": "stdout",
          "text": [
            "+-------+-----------------+-------+-----------+------+----------+----------+---------------+----+-----+\n",
            "|MovieID|            Title|  Genre|ReleaseDate|Rating|   Revenue|    Profit|Rating_category|Year|month|\n",
            "+-------+-----------------+-------+-----------+------+----------+----------+---------------+----+-----+\n",
            "|      1|        Inception| Sci-Fi| 2010-07-16|   8.8| 825532764| 665532764|        Average|2010|    7|\n",
            "|      2|  The Dark Knight| Action| 2008-07-18|   9.0|1004558444| 819558444|    Blockbuster|2008|    7|\n",
            "|      3|          Titanic|Romance| 1997-12-19|   7.8|2187463944|1987463944|            Hit|1997|   12|\n",
            "|      4|     Interstellar| Sci-Fi| 2014-11-07|   8.6| 677471339| 512471339|        Average|2014|   11|\n",
            "|      5|            Joker|  Drama| 2019-10-04|   8.4|1074251311|1019251311|        Average|2019|   10|\n",
            "|      6|     The Notebook|Romance| 2004-06-25|   7.9|1427846394|      NULL|            Hit|2004|    6|\n",
            "|      7|Avengers: Endgame| Action| 2019-04-26|   8.4|2797800564|2441800564|        Average|2019|    4|\n",
            "+-------+-----------------+-------+-----------+------+----------+----------+---------------+----+-----+\n",
            "\n",
            "+-------+-----------------+-------+-----------+------+----------+----------+---------------+\n",
            "|MovieID|            Title|  Genre|ReleaseDate|Rating|   Revenue|    Profit|Rating_category|\n",
            "+-------+-----------------+-------+-----------+------+----------+----------+---------------+\n",
            "|      1|        Inception| Sci-Fi| 2010-07-16|   8.8| 825532764| 665532764|        Average|\n",
            "|      2|  The Dark Knight| Action| 2008-07-18|   9.0|1004558444| 819558444|    Blockbuster|\n",
            "|      3|          Titanic|Romance| 1997-12-19|   7.8|2187463944|1987463944|            Hit|\n",
            "|      4|     Interstellar| Sci-Fi| 2014-11-07|   8.6| 677471339| 512471339|        Average|\n",
            "|      5|            Joker|  Drama| 2019-10-04|   8.4|1074251311|1019251311|        Average|\n",
            "|      6|     The Notebook|Romance| 2004-06-25|   7.9|1427846394|      NULL|            Hit|\n",
            "|      7|Avengers: Endgame| Action| 2019-04-26|   8.4|2797800564|2441800564|        Average|\n",
            "+-------+-----------------+-------+-----------+------+----------+----------+---------------+\n",
            "\n"
          ]
        }
      ]
    },
    {
      "cell_type": "markdown",
      "source": [
        "9. Use a window function to rank movies within each genre by profit."
      ],
      "metadata": {
        "id": "V-ikL1PVpIvT"
      }
    },
    {
      "cell_type": "code",
      "source": [
        "from pyspark.sql.window import Window\n",
        "window_spec=Window.partitionBy('Genre').orderBy(F.col('Profit').desc())\n",
        "df=df.withColumn('rank',F.rank().over(window_spec))\n",
        "df.show()"
      ],
      "metadata": {
        "colab": {
          "base_uri": "https://localhost:8080/"
        },
        "id": "Vr1KRfFZpKrE",
        "outputId": "2956f0b6-0cf3-46e8-b47c-b403fc991fa8"
      },
      "execution_count": 81,
      "outputs": [
        {
          "output_type": "stream",
          "name": "stdout",
          "text": [
            "+-------+-----------------+-------+-----------+------+----------+----------+---------------+----+\n",
            "|MovieID|            Title|  Genre|ReleaseDate|Rating|   Revenue|    Profit|Rating_category|rank|\n",
            "+-------+-----------------+-------+-----------+------+----------+----------+---------------+----+\n",
            "|      7|Avengers: Endgame| Action| 2019-04-26|   8.4|2797800564|2441800564|        Average|   1|\n",
            "|      2|  The Dark Knight| Action| 2008-07-18|   9.0|1004558444| 819558444|    Blockbuster|   2|\n",
            "|      5|            Joker|  Drama| 2019-10-04|   8.4|1074251311|1019251311|        Average|   1|\n",
            "|      3|          Titanic|Romance| 1997-12-19|   7.8|2187463944|1987463944|            Hit|   1|\n",
            "|      6|     The Notebook|Romance| 2004-06-25|   7.9|1427846394|      NULL|            Hit|   2|\n",
            "|      1|        Inception| Sci-Fi| 2010-07-16|   8.8| 825532764| 665532764|        Average|   1|\n",
            "|      4|     Interstellar| Sci-Fi| 2014-11-07|   8.6| 677471339| 512471339|        Average|   2|\n",
            "+-------+-----------------+-------+-----------+------+----------+----------+---------------+----+\n",
            "\n"
          ]
        }
      ]
    },
    {
      "cell_type": "markdown",
      "source": [
        "**PART 3: JSON + Union Example**\n",
        "1. Read this JSON using PySpark."
      ],
      "metadata": {
        "id": "uyK-zhU5qSxu"
      }
    },
    {
      "cell_type": "code",
      "source": [
        "import json\n",
        "data=[\n",
        "{\"MovieID\": 8, \"Title\": \"Barbie\", \"Genre\": \"Drama\", \"Rating\": 7.5, \"Revenue\":\n",
        "1456000000, \"Budget\": 145000000},\n",
        "{\"MovieID\": 9, \"Title\": \"Oppenheimer\", \"Genre\": \"Drama\", \"Rating\": 8.6, \"Revenue\":\n",
        "950000000, \"Budget\": 100000000}\n",
        "]\n",
        "\n",
        "with open('movies_bonus.json','w')as file:\n",
        "  json.dump(data,file,indent=4)\n",
        "\n",
        "df_j=spark.read.json('movies_bonus.json',multiLine=True)\n",
        "df_j.show()"
      ],
      "metadata": {
        "colab": {
          "base_uri": "https://localhost:8080/"
        },
        "id": "4A_gFrP2qbbz",
        "outputId": "3faaeae1-52e3-49bc-e6c6-8f0a89dad5b4"
      },
      "execution_count": 82,
      "outputs": [
        {
          "output_type": "stream",
          "name": "stdout",
          "text": [
            "+---------+-----+-------+------+----------+-----------+\n",
            "|   Budget|Genre|MovieID|Rating|   Revenue|      Title|\n",
            "+---------+-----+-------+------+----------+-----------+\n",
            "|145000000|Drama|      8|   7.5|1456000000|     Barbie|\n",
            "|100000000|Drama|      9|   8.6| 950000000|Oppenheimer|\n",
            "+---------+-----+-------+------+----------+-----------+\n",
            "\n"
          ]
        }
      ]
    },
    {
      "cell_type": "markdown",
      "source": [
        "2. Union it with your original movies DataFrame."
      ],
      "metadata": {
        "id": "9U630qvTrmM9"
      }
    },
    {
      "cell_type": "code",
      "source": [
        "df_union=df.unionByName(df_j,allowMissingColumns=True)\n",
        "df_union.show()"
      ],
      "metadata": {
        "colab": {
          "base_uri": "https://localhost:8080/"
        },
        "id": "GlIdoxlGrn4k",
        "outputId": "46aaf910-1316-4d89-a25d-6f4944cb3de4"
      },
      "execution_count": 83,
      "outputs": [
        {
          "output_type": "stream",
          "name": "stdout",
          "text": [
            "+-------+-----------------+-------+-----------+------+----------+----------+---------------+----+---------+\n",
            "|MovieID|            Title|  Genre|ReleaseDate|Rating|   Revenue|    Profit|Rating_category|rank|   Budget|\n",
            "+-------+-----------------+-------+-----------+------+----------+----------+---------------+----+---------+\n",
            "|      7|Avengers: Endgame| Action| 2019-04-26|   8.4|2797800564|2441800564|        Average|   1|     NULL|\n",
            "|      2|  The Dark Knight| Action| 2008-07-18|   9.0|1004558444| 819558444|    Blockbuster|   2|     NULL|\n",
            "|      5|            Joker|  Drama| 2019-10-04|   8.4|1074251311|1019251311|        Average|   1|     NULL|\n",
            "|      3|          Titanic|Romance| 1997-12-19|   7.8|2187463944|1987463944|            Hit|   1|     NULL|\n",
            "|      6|     The Notebook|Romance| 2004-06-25|   7.9|1427846394|      NULL|            Hit|   2|     NULL|\n",
            "|      1|        Inception| Sci-Fi| 2010-07-16|   8.8| 825532764| 665532764|        Average|   1|     NULL|\n",
            "|      4|     Interstellar| Sci-Fi| 2014-11-07|   8.6| 677471339| 512471339|        Average|   2|     NULL|\n",
            "|      8|           Barbie|  Drama|       NULL|   7.5|1456000000|      NULL|           NULL|NULL|145000000|\n",
            "|      9|      Oppenheimer|  Drama|       NULL|   8.6| 950000000|      NULL|           NULL|NULL|100000000|\n",
            "+-------+-----------------+-------+-----------+------+----------+----------+---------------+----+---------+\n",
            "\n"
          ]
        }
      ]
    },
    {
      "cell_type": "markdown",
      "source": [
        "3. Show top 5 highest grossing movies."
      ],
      "metadata": {
        "id": "HgHI8yWzsUao"
      }
    },
    {
      "cell_type": "code",
      "source": [
        "df_union.orderBy(F.col(\"Revenue\").desc()).limit(5).show()"
      ],
      "metadata": {
        "colab": {
          "base_uri": "https://localhost:8080/"
        },
        "id": "nv-gPEPJsWOD",
        "outputId": "b6d1fa52-d5e4-46e3-a038-931621c95001"
      },
      "execution_count": 84,
      "outputs": [
        {
          "output_type": "stream",
          "name": "stdout",
          "text": [
            "+-------+-----------------+-------+-----------+------+----------+----------+---------------+----+---------+\n",
            "|MovieID|            Title|  Genre|ReleaseDate|Rating|   Revenue|    Profit|Rating_category|rank|   Budget|\n",
            "+-------+-----------------+-------+-----------+------+----------+----------+---------------+----+---------+\n",
            "|      7|Avengers: Endgame| Action| 2019-04-26|   8.4|2797800564|2441800564|        Average|   1|     NULL|\n",
            "|      3|          Titanic|Romance| 1997-12-19|   7.8|2187463944|1987463944|            Hit|   1|     NULL|\n",
            "|      8|           Barbie|  Drama|       NULL|   7.5|1456000000|      NULL|           NULL|NULL|145000000|\n",
            "|      6|     The Notebook|Romance| 2004-06-25|   7.9|1427846394|      NULL|            Hit|   2|     NULL|\n",
            "|      5|            Joker|  Drama| 2019-10-04|   8.4|1074251311|1019251311|        Average|   1|     NULL|\n",
            "+-------+-----------------+-------+-----------+------+----------+----------+---------------+----+---------+\n",
            "\n"
          ]
        }
      ]
    },
    {
      "cell_type": "markdown",
      "source": [
        "4. Save final merged DataFrame as CSV."
      ],
      "metadata": {
        "id": "McSXqZ51sz7K"
      }
    },
    {
      "cell_type": "code",
      "source": [
        "df_union.write.csv('movies_final.csv', header=True, mode='overwrite')"
      ],
      "metadata": {
        "id": "EUKCTbsys2S5"
      },
      "execution_count": 85,
      "outputs": []
    },
    {
      "cell_type": "markdown",
      "source": [
        "Bonus:\n",
        "\n",
        "Create a column ReturnOnInvestment = Profit / Budget"
      ],
      "metadata": {
        "id": "LYDGCeGNtQfF"
      }
    },
    {
      "cell_type": "code",
      "source": [
        "df_union.show()\n",
        "df_union=df_union.withColumn('Budget',F.col('Revenue')-F.col('Profit'))"
      ],
      "metadata": {
        "colab": {
          "base_uri": "https://localhost:8080/"
        },
        "id": "Kkdshhghurjd",
        "outputId": "abcd35e6-0872-47d3-b747-0c73d5ac2c91"
      },
      "execution_count": 86,
      "outputs": [
        {
          "output_type": "stream",
          "name": "stdout",
          "text": [
            "+-------+-----------------+-------+-----------+------+----------+----------+---------------+----+---------+\n",
            "|MovieID|            Title|  Genre|ReleaseDate|Rating|   Revenue|    Profit|Rating_category|rank|   Budget|\n",
            "+-------+-----------------+-------+-----------+------+----------+----------+---------------+----+---------+\n",
            "|      7|Avengers: Endgame| Action| 2019-04-26|   8.4|2797800564|2441800564|        Average|   1|     NULL|\n",
            "|      2|  The Dark Knight| Action| 2008-07-18|   9.0|1004558444| 819558444|    Blockbuster|   2|     NULL|\n",
            "|      5|            Joker|  Drama| 2019-10-04|   8.4|1074251311|1019251311|        Average|   1|     NULL|\n",
            "|      3|          Titanic|Romance| 1997-12-19|   7.8|2187463944|1987463944|            Hit|   1|     NULL|\n",
            "|      6|     The Notebook|Romance| 2004-06-25|   7.9|1427846394|      NULL|            Hit|   2|     NULL|\n",
            "|      1|        Inception| Sci-Fi| 2010-07-16|   8.8| 825532764| 665532764|        Average|   1|     NULL|\n",
            "|      4|     Interstellar| Sci-Fi| 2014-11-07|   8.6| 677471339| 512471339|        Average|   2|     NULL|\n",
            "|      8|           Barbie|  Drama|       NULL|   7.5|1456000000|      NULL|           NULL|NULL|145000000|\n",
            "|      9|      Oppenheimer|  Drama|       NULL|   8.6| 950000000|      NULL|           NULL|NULL|100000000|\n",
            "+-------+-----------------+-------+-----------+------+----------+----------+---------------+----+---------+\n",
            "\n"
          ]
        }
      ]
    },
    {
      "cell_type": "code",
      "source": [
        "df_union=df_union.withColumn('ReturnOnInvestment',F.col('Profit')/F.col('Budget'))\n",
        "df_union.show()"
      ],
      "metadata": {
        "colab": {
          "base_uri": "https://localhost:8080/"
        },
        "id": "xZa_aZtStYSi",
        "outputId": "f07b9ea3-7bc0-44cc-82f0-49f3c41d1cd6"
      },
      "execution_count": 87,
      "outputs": [
        {
          "output_type": "stream",
          "name": "stdout",
          "text": [
            "+-------+-----------------+-------+-----------+------+----------+----------+---------------+----+---------+------------------+\n",
            "|MovieID|            Title|  Genre|ReleaseDate|Rating|   Revenue|    Profit|Rating_category|rank|   Budget|ReturnOnInvestment|\n",
            "+-------+-----------------+-------+-----------+------+----------+----------+---------------+----+---------+------------------+\n",
            "|      7|Avengers: Endgame| Action| 2019-04-26|   8.4|2797800564|2441800564|        Average|   1|356000000| 6.858990348314607|\n",
            "|      2|  The Dark Knight| Action| 2008-07-18|   9.0|1004558444| 819558444|    Blockbuster|   2|185000000| 4.430045643243243|\n",
            "|      5|            Joker|  Drama| 2019-10-04|   8.4|1074251311|1019251311|        Average|   1| 55000000| 18.53184201818182|\n",
            "|      3|          Titanic|Romance| 1997-12-19|   7.8|2187463944|1987463944|            Hit|   1|200000000|        9.93731972|\n",
            "|      6|     The Notebook|Romance| 2004-06-25|   7.9|1427846394|      NULL|            Hit|   2|     NULL|              NULL|\n",
            "|      1|        Inception| Sci-Fi| 2010-07-16|   8.8| 825532764| 665532764|        Average|   1|160000000|       4.159579775|\n",
            "|      4|     Interstellar| Sci-Fi| 2014-11-07|   8.6| 677471339| 512471339|        Average|   2|165000000| 3.105886903030303|\n",
            "|      8|           Barbie|  Drama|       NULL|   7.5|1456000000|      NULL|           NULL|NULL|     NULL|              NULL|\n",
            "|      9|      Oppenheimer|  Drama|       NULL|   8.6| 950000000|      NULL|           NULL|NULL|     NULL|              NULL|\n",
            "+-------+-----------------+-------+-----------+------+----------+----------+---------------+----+---------+------------------+\n",
            "\n"
          ]
        }
      ]
    },
    {
      "cell_type": "markdown",
      "source": [
        "Show top ROI movies (minimum budget\n",
        "50M)"
      ],
      "metadata": {
        "id": "d8Izc2Z3tYtF"
      }
    },
    {
      "cell_type": "code",
      "source": [
        "filter_df=df_union.filter((F.col('Budget')>50000000)&(F.col('ReturnOnInvestment').isNotNull()))\n",
        "filter_df.orderBy(F.col('ReturnOnInvestment').desc()).show()"
      ],
      "metadata": {
        "colab": {
          "base_uri": "https://localhost:8080/"
        },
        "id": "amD-qVRitb0m",
        "outputId": "1aee6a3f-8851-4d14-88b0-0d5f3995121d"
      },
      "execution_count": 88,
      "outputs": [
        {
          "output_type": "stream",
          "name": "stdout",
          "text": [
            "+-------+-----------------+-------+-----------+------+----------+----------+---------------+----+---------+------------------+\n",
            "|MovieID|            Title|  Genre|ReleaseDate|Rating|   Revenue|    Profit|Rating_category|rank|   Budget|ReturnOnInvestment|\n",
            "+-------+-----------------+-------+-----------+------+----------+----------+---------------+----+---------+------------------+\n",
            "|      5|            Joker|  Drama| 2019-10-04|   8.4|1074251311|1019251311|        Average|   1| 55000000| 18.53184201818182|\n",
            "|      3|          Titanic|Romance| 1997-12-19|   7.8|2187463944|1987463944|            Hit|   1|200000000|        9.93731972|\n",
            "|      7|Avengers: Endgame| Action| 2019-04-26|   8.4|2797800564|2441800564|        Average|   1|356000000| 6.858990348314607|\n",
            "|      2|  The Dark Knight| Action| 2008-07-18|   9.0|1004558444| 819558444|    Blockbuster|   2|185000000| 4.430045643243243|\n",
            "|      1|        Inception| Sci-Fi| 2010-07-16|   8.8| 825532764| 665532764|        Average|   1|160000000|       4.159579775|\n",
            "|      4|     Interstellar| Sci-Fi| 2014-11-07|   8.6| 677471339| 512471339|        Average|   2|165000000| 3.105886903030303|\n",
            "+-------+-----------------+-------+-----------+------+----------+----------+---------------+----+---------+------------------+\n",
            "\n"
          ]
        }
      ]
    },
    {
      "cell_type": "markdown",
      "source": [
        "Plot genre-wise ROI as a bar chart using Pandas"
      ],
      "metadata": {
        "id": "y2R9U8d9tcQ3"
      }
    },
    {
      "cell_type": "code",
      "source": [
        "group_genre=filter_df.groupBy('Genre').agg(F.avg('ReturnOnInvestment').alias('avg_roi'))\n",
        "group_genre_pd = group_genre.toPandas()\n",
        "import matplotlib.pyplot as plt\n",
        "plt.bar(group_genre_pd['Genre'],group_genre_pd['avg_roi'],color=['blue','red'])\n",
        "plt.xlabel('Genre')\n",
        "plt.ylabel('Average Return On Investment')\n",
        "plt.xticks(rotation=45, ha='right')\n",
        "plt.title('Genre-wise Average Return On Investment')\n",
        "plt.tight_layout()\n",
        "plt.grid(True)\n",
        "plt.show()"
      ],
      "metadata": {
        "colab": {
          "base_uri": "https://localhost:8080/",
          "height": 486
        },
        "id": "7dZISdlptd6f",
        "outputId": "49381448-bffd-4bfc-a34e-632b1bde07c4"
      },
      "execution_count": 89,
      "outputs": [
        {
          "output_type": "display_data",
          "data": {
            "text/plain": [
              "<Figure size 640x480 with 1 Axes>"
            ],
            "image/png": "[encoded data removed]"
          },
          "metadata": {}
        }
      ]
    }
  ]
}