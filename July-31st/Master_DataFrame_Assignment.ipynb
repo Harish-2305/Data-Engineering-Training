{
  "nbformat": 4,
  "nbformat_minor": 0,
  "metadata": {
    "colab": {
      "provenance": []
    },
    "kernelspec": {
      "name": "python3",
      "display_name": "Python 3"
    },
    "language_info": {
      "name": "python"
    }
  },
  "cells": [
    {
      "cell_type": "markdown",
      "source": [
        "Master DataFrame Assignment – Retail Sales Superstore\n",
        "Dataset (All-In-One)\n",
        "\n",
        "We'll use a well-structured retail dataset like the Superstore Sales dataset (mini\n",
        "version provided below)."
      ],
      "metadata": {
        "id": "_wrGfR_jvOVP"
      }
    },
    {
      "cell_type": "markdown",
      "source": [
        "Step 1: Sample Dataset (create CSV)\n",
        "\n",
        "Save as superstore.csv :"
      ],
      "metadata": {
        "id": "zPVR7WxovdZi"
      }
    },
    {
      "cell_type": "code",
      "source": [
        "from google.colab import drive\n",
        "drive.mount('/content/drive')"
      ],
      "metadata": {
        "colab": {
          "base_uri": "https://localhost:8080/"
        },
        "id": "FQGMDecRwLxm",
        "outputId": "71e2cfca-fdaf-4ce1-e9d1-812b6dc165ea"
      },
      "execution_count": 127,
      "outputs": [
        {
          "output_type": "stream",
          "name": "stdout",
          "text": [
            "Drive already mounted at /content/drive; to attempt to forcibly remount, call drive.mount(\"/content/drive\", force_remount=True).\n"
          ]
        }
      ]
    },
    {
      "cell_type": "code",
      "source": [
        "import pandas as pd\n",
        "import numpy as np"
      ],
      "metadata": {
        "id": "yF0G5aGcvr4L"
      },
      "execution_count": 128,
      "outputs": []
    },
    {
      "cell_type": "code",
      "execution_count": 129,
      "metadata": {
        "id": "sLxP9_z2e3l-"
      },
      "outputs": [],
      "source": [
        "csv_data=\"\"\"OrderID,OrderDate,Customer,Segment,Region,Product,Category,SubCategory,Quantity,UnitPrice,Discount,Profit\n",
        "CA-1001,2023-01-15,Ravi,Consumer,South,Laptop,Technology,Computers,1,55000,0.10,5000\n",
        "CA-1002,2023-02-\n",
        "20,Priya,Corporate,North,Printer,Technology,Peripherals,2,12000,0.15,1800\n",
        "CA-1003,2023-01-25,Amit,Consumer,East,Notebook,Office Supplies,Paper,3,200,0.05,150\n",
        "CA-1004,2023-03-01,Anita,Home Office,West,Table,Furniture,Tables,1,18000,0.20,-1500\n",
        "CA-1005,2023-02-05,Divya,Consumer,South,Phone,Technology,Phones,2,20000,0.00,3000\"\"\"\n",
        "\n",
        "\n",
        "with open(\"/content/drive/MyDrive/Colab Notebooks/superstore.csv\",\"w\") as file:\n",
        "  file.write(csv_data)"
      ]
    },
    {
      "cell_type": "markdown",
      "source": [
        "TASKS ACROSS Pandas, PySpark, and Dask\n",
        "\n",
        "PART 1: Pandas DataFrame Operations\n",
        "\n",
        "1. Load the CSV using pandas ."
      ],
      "metadata": {
        "id": "qaOdqhb_xAXQ"
      }
    },
    {
      "cell_type": "code",
      "source": [
        "df=pd.read_csv(\"/content/drive/MyDrive/Colab Notebooks/superstore.csv\")\n",
        "print(df)"
      ],
      "metadata": {
        "colab": {
          "base_uri": "https://localhost:8080/"
        },
        "id": "DQ4Nf4isweMb",
        "outputId": "b1d0d356-669e-484c-9a99-4a1bf45d5e14"
      },
      "execution_count": 130,
      "outputs": [
        {
          "output_type": "stream",
          "name": "stdout",
          "text": [
            "   OrderID   OrderDate   Customer      Segment   Region     Product  \\\n",
            "0  CA-1001  2023-01-15       Ravi     Consumer    South      Laptop   \n",
            "1  CA-1002    2023-02-        NaN          NaN      NaN         NaN   \n",
            "2       20       Priya  Corporate        North  Printer  Technology   \n",
            "3  CA-1003  2023-01-25       Amit     Consumer     East    Notebook   \n",
            "4  CA-1004  2023-03-01      Anita  Home Office     West       Table   \n",
            "5  CA-1005  2023-02-05      Divya     Consumer    South       Phone   \n",
            "\n",
            "          Category SubCategory  Quantity  UnitPrice  Discount  Profit  \n",
            "0       Technology   Computers       1.0   55000.00      0.10  5000.0  \n",
            "1              NaN         NaN       NaN        NaN       NaN     NaN  \n",
            "2      Peripherals           2   12000.0       0.15   1800.00     NaN  \n",
            "3  Office Supplies       Paper       3.0     200.00      0.05   150.0  \n",
            "4        Furniture      Tables       1.0   18000.00      0.20 -1500.0  \n",
            "5       Technology      Phones       2.0   20000.00      0.00  3000.0  \n"
          ]
        }
      ]
    },
    {
      "cell_type": "markdown",
      "source": [
        "2. Print schema, head, shape, dtypes."
      ],
      "metadata": {
        "id": "vYUo7Q6nxhX0"
      }
    },
    {
      "cell_type": "code",
      "source": [
        "print(df.info())\n",
        "print(df.head())\n",
        "print(df.shape)\n",
        "print(df.dtypes)"
      ],
      "metadata": {
        "colab": {
          "base_uri": "https://localhost:8080/"
        },
        "id": "8PXwXtjRxjai",
        "outputId": "31e18bbf-4796-46bd-8135-13131836575b"
      },
      "execution_count": 131,
      "outputs": [
        {
          "output_type": "stream",
          "name": "stdout",
          "text": [
            "<class 'pandas.core.frame.DataFrame'>\n",
            "RangeIndex: 6 entries, 0 to 5\n",
            "Data columns (total 12 columns):\n",
            " #   Column       Non-Null Count  Dtype  \n",
            "---  ------       --------------  -----  \n",
            " 0   OrderID      6 non-null      object \n",
            " 1   OrderDate    6 non-null      object \n",
            " 2   Customer     5 non-null      object \n",
            " 3   Segment      5 non-null      object \n",
            " 4   Region       5 non-null      object \n",
            " 5   Product      5 non-null      object \n",
            " 6   Category     5 non-null      object \n",
            " 7   SubCategory  5 non-null      object \n",
            " 8   Quantity     5 non-null      float64\n",
            " 9   UnitPrice    5 non-null      float64\n",
            " 10  Discount     5 non-null      float64\n",
            " 11  Profit       4 non-null      float64\n",
            "dtypes: float64(4), object(8)\n",
            "memory usage: 708.0+ bytes\n",
            "None\n",
            "   OrderID   OrderDate   Customer      Segment   Region     Product  \\\n",
            "0  CA-1001  2023-01-15       Ravi     Consumer    South      Laptop   \n",
            "1  CA-1002    2023-02-        NaN          NaN      NaN         NaN   \n",
            "2       20       Priya  Corporate        North  Printer  Technology   \n",
            "3  CA-1003  2023-01-25       Amit     Consumer     East    Notebook   \n",
            "4  CA-1004  2023-03-01      Anita  Home Office     West       Table   \n",
            "\n",
            "          Category SubCategory  Quantity  UnitPrice  Discount  Profit  \n",
            "0       Technology   Computers       1.0   55000.00      0.10  5000.0  \n",
            "1              NaN         NaN       NaN        NaN       NaN     NaN  \n",
            "2      Peripherals           2   12000.0       0.15   1800.00     NaN  \n",
            "3  Office Supplies       Paper       3.0     200.00      0.05   150.0  \n",
            "4        Furniture      Tables       1.0   18000.00      0.20 -1500.0  \n",
            "(6, 12)\n",
            "OrderID         object\n",
            "OrderDate       object\n",
            "Customer        object\n",
            "Segment         object\n",
            "Region          object\n",
            "Product         object\n",
            "Category        object\n",
            "SubCategory     object\n",
            "Quantity       float64\n",
            "UnitPrice      float64\n",
            "Discount       float64\n",
            "Profit         float64\n",
            "dtype: object\n"
          ]
        }
      ]
    },
    {
      "cell_type": "markdown",
      "source": [
        "3. Select Customer , Product , Profit columns."
      ],
      "metadata": {
        "id": "VbPH-B9BySWo"
      }
    },
    {
      "cell_type": "code",
      "source": [
        "print(df[['Customer','Product','Profit']])"
      ],
      "metadata": {
        "colab": {
          "base_uri": "https://localhost:8080/"
        },
        "id": "l3KmRlMAyUlk",
        "outputId": "90aa8b19-6b75-4a9f-f09e-24f51bad255b"
      },
      "execution_count": 132,
      "outputs": [
        {
          "output_type": "stream",
          "name": "stdout",
          "text": [
            "    Customer     Product  Profit\n",
            "0       Ravi      Laptop  5000.0\n",
            "1        NaN         NaN     NaN\n",
            "2  Corporate  Technology     NaN\n",
            "3       Amit    Notebook   150.0\n",
            "4      Anita       Table -1500.0\n",
            "5      Divya       Phone  3000.0\n"
          ]
        }
      ]
    },
    {
      "cell_type": "markdown",
      "source": [
        "4. Filter orders where Profit > 2000 and Discount = 0 ."
      ],
      "metadata": {
        "id": "8YwbU80Rziby"
      }
    },
    {
      "cell_type": "code",
      "source": [
        "print(df[(df['Profit']>2000)&(df['Discount']==0)])"
      ],
      "metadata": {
        "colab": {
          "base_uri": "https://localhost:8080/"
        },
        "id": "8-fPzI6gzf1z",
        "outputId": "e4dc6e3a-9001-492e-cc4b-e1a04832dc06"
      },
      "execution_count": 133,
      "outputs": [
        {
          "output_type": "stream",
          "name": "stdout",
          "text": [
            "   OrderID   OrderDate Customer   Segment Region Product    Category  \\\n",
            "5  CA-1005  2023-02-05    Divya  Consumer  South   Phone  Technology   \n",
            "\n",
            "  SubCategory  Quantity  UnitPrice  Discount  Profit  \n",
            "5      Phones       2.0    20000.0       0.0  3000.0  \n"
          ]
        }
      ]
    },
    {
      "cell_type": "markdown",
      "source": [
        "5. Sort by Profit descending."
      ],
      "metadata": {
        "id": "a4oQzwUF0EK5"
      }
    },
    {
      "cell_type": "code",
      "source": [
        "print(df.sort_values(by='Profit',ascending=False))"
      ],
      "metadata": {
        "colab": {
          "base_uri": "https://localhost:8080/"
        },
        "id": "pWQ_LEmG0D1i",
        "outputId": "107c64ca-d81d-4ffc-9527-36534d0e2af0"
      },
      "execution_count": 134,
      "outputs": [
        {
          "output_type": "stream",
          "name": "stdout",
          "text": [
            "   OrderID   OrderDate   Customer      Segment   Region     Product  \\\n",
            "0  CA-1001  2023-01-15       Ravi     Consumer    South      Laptop   \n",
            "5  CA-1005  2023-02-05      Divya     Consumer    South       Phone   \n",
            "3  CA-1003  2023-01-25       Amit     Consumer     East    Notebook   \n",
            "4  CA-1004  2023-03-01      Anita  Home Office     West       Table   \n",
            "1  CA-1002    2023-02-        NaN          NaN      NaN         NaN   \n",
            "2       20       Priya  Corporate        North  Printer  Technology   \n",
            "\n",
            "          Category SubCategory  Quantity  UnitPrice  Discount  Profit  \n",
            "0       Technology   Computers       1.0   55000.00      0.10  5000.0  \n",
            "5       Technology      Phones       2.0   20000.00      0.00  3000.0  \n",
            "3  Office Supplies       Paper       3.0     200.00      0.05   150.0  \n",
            "4        Furniture      Tables       1.0   18000.00      0.20 -1500.0  \n",
            "1              NaN         NaN       NaN        NaN       NaN     NaN  \n",
            "2      Peripherals           2   12000.0       0.15   1800.00     NaN  \n"
          ]
        }
      ]
    },
    {
      "cell_type": "markdown",
      "source": [
        "6. GroupBy Category → Total Profit, Avg Discount."
      ],
      "metadata": {
        "id": "uBS6kP5O0c9t"
      }
    },
    {
      "cell_type": "code",
      "source": [
        "df1=(df.groupby('Category')[['Profit','Discount']].agg(['sum','mean']))\n",
        "print(df1)"
      ],
      "metadata": {
        "colab": {
          "base_uri": "https://localhost:8080/"
        },
        "id": "mbE2F31K0gQi",
        "outputId": "d59bd0ff-9da5-40eb-d499-6e9a70897c21"
      },
      "execution_count": 135,
      "outputs": [
        {
          "output_type": "stream",
          "name": "stdout",
          "text": [
            "                 Profit         Discount         \n",
            "                    sum    mean      sum     mean\n",
            "Category                                         \n",
            "Furniture       -1500.0 -1500.0     0.20     0.20\n",
            "Office Supplies   150.0   150.0     0.05     0.05\n",
            "Peripherals         0.0     NaN  1800.00  1800.00\n",
            "Technology       8000.0  4000.0     0.10     0.05\n"
          ]
        }
      ]
    },
    {
      "cell_type": "markdown",
      "source": [
        "7. Add a column TotalPrice = Quantity * UnitPrice ."
      ],
      "metadata": {
        "id": "AzryLGJk1Iit"
      }
    },
    {
      "cell_type": "code",
      "source": [
        "df['Totalprice']=df['Quantity']*df['UnitPrice']\n",
        "print(df)"
      ],
      "metadata": {
        "colab": {
          "base_uri": "https://localhost:8080/"
        },
        "id": "3F62qBgm1LYw",
        "outputId": "d4827fe3-df4b-45a8-a515-71bc4c98967a"
      },
      "execution_count": 136,
      "outputs": [
        {
          "output_type": "stream",
          "name": "stdout",
          "text": [
            "   OrderID   OrderDate   Customer      Segment   Region     Product  \\\n",
            "0  CA-1001  2023-01-15       Ravi     Consumer    South      Laptop   \n",
            "1  CA-1002    2023-02-        NaN          NaN      NaN         NaN   \n",
            "2       20       Priya  Corporate        North  Printer  Technology   \n",
            "3  CA-1003  2023-01-25       Amit     Consumer     East    Notebook   \n",
            "4  CA-1004  2023-03-01      Anita  Home Office     West       Table   \n",
            "5  CA-1005  2023-02-05      Divya     Consumer    South       Phone   \n",
            "\n",
            "          Category SubCategory  Quantity  UnitPrice  Discount  Profit  \\\n",
            "0       Technology   Computers       1.0   55000.00      0.10  5000.0   \n",
            "1              NaN         NaN       NaN        NaN       NaN     NaN   \n",
            "2      Peripherals           2   12000.0       0.15   1800.00     NaN   \n",
            "3  Office Supplies       Paper       3.0     200.00      0.05   150.0   \n",
            "4        Furniture      Tables       1.0   18000.00      0.20 -1500.0   \n",
            "5       Technology      Phones       2.0   20000.00      0.00  3000.0   \n",
            "\n",
            "   Totalprice  \n",
            "0     55000.0  \n",
            "1         NaN  \n",
            "2      1800.0  \n",
            "3       600.0  \n",
            "4     18000.0  \n",
            "5     40000.0  \n"
          ]
        }
      ]
    },
    {
      "cell_type": "markdown",
      "source": [
        "8. Drop the SubCategory column."
      ],
      "metadata": {
        "id": "URyQzXcS1pQH"
      }
    },
    {
      "cell_type": "code",
      "source": [
        "df.drop(columns='SubCategory',inplace=True)\n",
        "print(df)"
      ],
      "metadata": {
        "colab": {
          "base_uri": "https://localhost:8080/"
        },
        "id": "uAFKnxtJ1rkw",
        "outputId": "0be856eb-f62e-433c-a294-ba626b6d1ba9"
      },
      "execution_count": 137,
      "outputs": [
        {
          "output_type": "stream",
          "name": "stdout",
          "text": [
            "   OrderID   OrderDate   Customer      Segment   Region     Product  \\\n",
            "0  CA-1001  2023-01-15       Ravi     Consumer    South      Laptop   \n",
            "1  CA-1002    2023-02-        NaN          NaN      NaN         NaN   \n",
            "2       20       Priya  Corporate        North  Printer  Technology   \n",
            "3  CA-1003  2023-01-25       Amit     Consumer     East    Notebook   \n",
            "4  CA-1004  2023-03-01      Anita  Home Office     West       Table   \n",
            "5  CA-1005  2023-02-05      Divya     Consumer    South       Phone   \n",
            "\n",
            "          Category  Quantity  UnitPrice  Discount  Profit  Totalprice  \n",
            "0       Technology       1.0   55000.00      0.10  5000.0     55000.0  \n",
            "1              NaN       NaN        NaN       NaN     NaN         NaN  \n",
            "2      Peripherals   12000.0       0.15   1800.00     NaN      1800.0  \n",
            "3  Office Supplies       3.0     200.00      0.05   150.0       600.0  \n",
            "4        Furniture       1.0   18000.00      0.20 -1500.0     18000.0  \n",
            "5       Technology       2.0   20000.00      0.00  3000.0     40000.0  \n"
          ]
        }
      ]
    },
    {
      "cell_type": "markdown",
      "source": [
        "9. Fill nulls in Discount with 0.10."
      ],
      "metadata": {
        "id": "tlmWBQ-02kCU"
      }
    },
    {
      "cell_type": "code",
      "source": [
        "df['Discount']=df['Discount'].fillna(0.10)\n",
        "print(df)"
      ],
      "metadata": {
        "colab": {
          "base_uri": "https://localhost:8080/"
        },
        "id": "0W1dEKbp2mr5",
        "outputId": "ee2f575f-2deb-44d5-c6c1-b10bdad80cb8"
      },
      "execution_count": 138,
      "outputs": [
        {
          "output_type": "stream",
          "name": "stdout",
          "text": [
            "   OrderID   OrderDate   Customer      Segment   Region     Product  \\\n",
            "0  CA-1001  2023-01-15       Ravi     Consumer    South      Laptop   \n",
            "1  CA-1002    2023-02-        NaN          NaN      NaN         NaN   \n",
            "2       20       Priya  Corporate        North  Printer  Technology   \n",
            "3  CA-1003  2023-01-25       Amit     Consumer     East    Notebook   \n",
            "4  CA-1004  2023-03-01      Anita  Home Office     West       Table   \n",
            "5  CA-1005  2023-02-05      Divya     Consumer    South       Phone   \n",
            "\n",
            "          Category  Quantity  UnitPrice  Discount  Profit  Totalprice  \n",
            "0       Technology       1.0   55000.00      0.10  5000.0     55000.0  \n",
            "1              NaN       NaN        NaN      0.10     NaN         NaN  \n",
            "2      Peripherals   12000.0       0.15   1800.00     NaN      1800.0  \n",
            "3  Office Supplies       3.0     200.00      0.05   150.0       600.0  \n",
            "4        Furniture       1.0   18000.00      0.20 -1500.0     18000.0  \n",
            "5       Technology       2.0   20000.00      0.00  3000.0     40000.0  \n"
          ]
        }
      ]
    },
    {
      "cell_type": "markdown",
      "source": [
        "10. Apply a function to categorize orders:"
      ],
      "metadata": {
        "id": "twGilGbM267c"
      }
    },
    {
      "cell_type": "code",
      "source": [
        "def classify(row):\n",
        "  if row['Profit'] > 4000:\n",
        "    return 'High'\n",
        "  elif row['Profit'] > 0:\n",
        "    return 'Medium'\n",
        "  else:\n",
        "    return 'Low'\n",
        "\n",
        "df['Categorize_Orders']=df.apply(classify,axis=1)\n",
        "print(df)"
      ],
      "metadata": {
        "colab": {
          "base_uri": "https://localhost:8080/"
        },
        "id": "U3h72Q602966",
        "outputId": "9fcfa33d-d80f-4914-c0d0-8470e01a10a4"
      },
      "execution_count": 139,
      "outputs": [
        {
          "output_type": "stream",
          "name": "stdout",
          "text": [
            "   OrderID   OrderDate   Customer      Segment   Region     Product  \\\n",
            "0  CA-1001  2023-01-15       Ravi     Consumer    South      Laptop   \n",
            "1  CA-1002    2023-02-        NaN          NaN      NaN         NaN   \n",
            "2       20       Priya  Corporate        North  Printer  Technology   \n",
            "3  CA-1003  2023-01-25       Amit     Consumer     East    Notebook   \n",
            "4  CA-1004  2023-03-01      Anita  Home Office     West       Table   \n",
            "5  CA-1005  2023-02-05      Divya     Consumer    South       Phone   \n",
            "\n",
            "          Category  Quantity  UnitPrice  Discount  Profit  Totalprice  \\\n",
            "0       Technology       1.0   55000.00      0.10  5000.0     55000.0   \n",
            "1              NaN       NaN        NaN      0.10     NaN         NaN   \n",
            "2      Peripherals   12000.0       0.15   1800.00     NaN      1800.0   \n",
            "3  Office Supplies       3.0     200.00      0.05   150.0       600.0   \n",
            "4        Furniture       1.0   18000.00      0.20 -1500.0     18000.0   \n",
            "5       Technology       2.0   20000.00      0.00  3000.0     40000.0   \n",
            "\n",
            "  Categorize_Orders  \n",
            "0              High  \n",
            "1               Low  \n",
            "2               Low  \n",
            "3            Medium  \n",
            "4               Low  \n",
            "5            Medium  \n"
          ]
        }
      ]
    },
    {
      "cell_type": "markdown",
      "source": [
        "PART 2: PySpark DataFrame Operations\n",
        "\n",
        "1. Load the same CSV using PySpark."
      ],
      "metadata": {
        "id": "S7HdCfF46YtJ"
      }
    },
    {
      "cell_type": "code",
      "source": [
        "from pyspark.sql import SparkSession\n",
        "spark=SparkSession.builder.appName(\"superstore\").getOrCreate()\n",
        "import pyspark.sql.functions as F\n",
        "\n",
        "df=spark.read.csv(\"/content/drive/MyDrive/Colab Notebooks/superstore.csv\",header=True,inferSchema=True)\n",
        "df.show()"
      ],
      "metadata": {
        "colab": {
          "base_uri": "https://localhost:8080/"
        },
        "id": "ScWtKZBo6aEN",
        "outputId": "dc9d57f7-ae3f-4b78-ce1e-b1f2a1387cc0"
      },
      "execution_count": 140,
      "outputs": [
        {
          "output_type": "stream",
          "name": "stdout",
          "text": [
            "+-------+----------+---------+-----------+-------+----------+---------------+-----------+--------+---------+--------+------+\n",
            "|OrderID| OrderDate| Customer|    Segment| Region|   Product|       Category|SubCategory|Quantity|UnitPrice|Discount|Profit|\n",
            "+-------+----------+---------+-----------+-------+----------+---------------+-----------+--------+---------+--------+------+\n",
            "|CA-1001|2023-01-15|     Ravi|   Consumer|  South|    Laptop|     Technology|  Computers|       1|  55000.0|     0.1|  5000|\n",
            "|CA-1002|  2023-02-|     NULL|       NULL|   NULL|      NULL|           NULL|       NULL|    NULL|     NULL|    NULL|  NULL|\n",
            "|     20|     Priya|Corporate|      North|Printer|Technology|    Peripherals|          2|   12000|     0.15|  1800.0|  NULL|\n",
            "|CA-1003|2023-01-25|     Amit|   Consumer|   East|  Notebook|Office Supplies|      Paper|       3|    200.0|    0.05|   150|\n",
            "|CA-1004|2023-03-01|    Anita|Home Office|   West|     Table|      Furniture|     Tables|       1|  18000.0|     0.2| -1500|\n",
            "|CA-1005|2023-02-05|    Divya|   Consumer|  South|     Phone|     Technology|     Phones|       2|  20000.0|     0.0|  3000|\n",
            "+-------+----------+---------+-----------+-------+----------+---------------+-----------+--------+---------+--------+------+\n",
            "\n"
          ]
        }
      ]
    },
    {
      "cell_type": "markdown",
      "source": [
        "2. Show schema and first 5 rows."
      ],
      "metadata": {
        "id": "CstXiFfE7qeL"
      }
    },
    {
      "cell_type": "code",
      "source": [
        "df.printSchema()\n",
        "df.show(5)"
      ],
      "metadata": {
        "colab": {
          "base_uri": "https://localhost:8080/"
        },
        "id": "zIe04LAU6nQW",
        "outputId": "75b0ac3f-abe3-4d5c-efe0-fb13792092b3"
      },
      "execution_count": 141,
      "outputs": [
        {
          "output_type": "stream",
          "name": "stdout",
          "text": [
            "root\n",
            " |-- OrderID: string (nullable = true)\n",
            " |-- OrderDate: string (nullable = true)\n",
            " |-- Customer: string (nullable = true)\n",
            " |-- Segment: string (nullable = true)\n",
            " |-- Region: string (nullable = true)\n",
            " |-- Product: string (nullable = true)\n",
            " |-- Category: string (nullable = true)\n",
            " |-- SubCategory: string (nullable = true)\n",
            " |-- Quantity: integer (nullable = true)\n",
            " |-- UnitPrice: double (nullable = true)\n",
            " |-- Discount: double (nullable = true)\n",
            " |-- Profit: integer (nullable = true)\n",
            "\n",
            "+-------+----------+---------+-----------+-------+----------+---------------+-----------+--------+---------+--------+------+\n",
            "|OrderID| OrderDate| Customer|    Segment| Region|   Product|       Category|SubCategory|Quantity|UnitPrice|Discount|Profit|\n",
            "+-------+----------+---------+-----------+-------+----------+---------------+-----------+--------+---------+--------+------+\n",
            "|CA-1001|2023-01-15|     Ravi|   Consumer|  South|    Laptop|     Technology|  Computers|       1|  55000.0|     0.1|  5000|\n",
            "|CA-1002|  2023-02-|     NULL|       NULL|   NULL|      NULL|           NULL|       NULL|    NULL|     NULL|    NULL|  NULL|\n",
            "|     20|     Priya|Corporate|      North|Printer|Technology|    Peripherals|          2|   12000|     0.15|  1800.0|  NULL|\n",
            "|CA-1003|2023-01-25|     Amit|   Consumer|   East|  Notebook|Office Supplies|      Paper|       3|    200.0|    0.05|   150|\n",
            "|CA-1004|2023-03-01|    Anita|Home Office|   West|     Table|      Furniture|     Tables|       1|  18000.0|     0.2| -1500|\n",
            "+-------+----------+---------+-----------+-------+----------+---------------+-----------+--------+---------+--------+------+\n",
            "only showing top 5 rows\n",
            "\n"
          ]
        }
      ]
    },
    {
      "cell_type": "markdown",
      "source": [
        "3. Select columns, Rename Customer → Client ."
      ],
      "metadata": {
        "id": "ILZ97adw8KWN"
      }
    },
    {
      "cell_type": "code",
      "source": [
        "df=df.selectExpr(\"OrderID\",\"OrderDate\",\"Customer as Client\",\"Segment\",\"Region\",\"Product\",\"Category\",\"SubCategory\",\"Quantity\",\"UnitPrice\",\"Discount\",\"Profit\")\n",
        "df.show()"
      ],
      "metadata": {
        "colab": {
          "base_uri": "https://localhost:8080/"
        },
        "id": "mpYtDGOg8MlG",
        "outputId": "18e580e4-4736-4a22-9247-d33f9599707f"
      },
      "execution_count": 142,
      "outputs": [
        {
          "output_type": "stream",
          "name": "stdout",
          "text": [
            "+-------+----------+---------+-----------+-------+----------+---------------+-----------+--------+---------+--------+------+\n",
            "|OrderID| OrderDate|   Client|    Segment| Region|   Product|       Category|SubCategory|Quantity|UnitPrice|Discount|Profit|\n",
            "+-------+----------+---------+-----------+-------+----------+---------------+-----------+--------+---------+--------+------+\n",
            "|CA-1001|2023-01-15|     Ravi|   Consumer|  South|    Laptop|     Technology|  Computers|       1|  55000.0|     0.1|  5000|\n",
            "|CA-1002|  2023-02-|     NULL|       NULL|   NULL|      NULL|           NULL|       NULL|    NULL|     NULL|    NULL|  NULL|\n",
            "|     20|     Priya|Corporate|      North|Printer|Technology|    Peripherals|          2|   12000|     0.15|  1800.0|  NULL|\n",
            "|CA-1003|2023-01-25|     Amit|   Consumer|   East|  Notebook|Office Supplies|      Paper|       3|    200.0|    0.05|   150|\n",
            "|CA-1004|2023-03-01|    Anita|Home Office|   West|     Table|      Furniture|     Tables|       1|  18000.0|     0.2| -1500|\n",
            "|CA-1005|2023-02-05|    Divya|   Consumer|  South|     Phone|     Technology|     Phones|       2|  20000.0|     0.0|  3000|\n",
            "+-------+----------+---------+-----------+-------+----------+---------------+-----------+--------+---------+--------+------+\n",
            "\n"
          ]
        }
      ]
    },
    {
      "cell_type": "markdown",
      "source": [
        "4. Filter Segment = 'Consumer' and Profit < 1000 ."
      ],
      "metadata": {
        "id": "rSXMLG7e8b5t"
      }
    },
    {
      "cell_type": "code",
      "source": [
        "df.filter((F.col('Segment')=='Consumer')&(F.col('Profit')<1000)).show()"
      ],
      "metadata": {
        "colab": {
          "base_uri": "https://localhost:8080/"
        },
        "id": "FQDKWRZS8dzh",
        "outputId": "cb21beee-50af-4efd-82d5-a3877698d0a1"
      },
      "execution_count": 143,
      "outputs": [
        {
          "output_type": "stream",
          "name": "stdout",
          "text": [
            "+-------+----------+------+--------+------+--------+---------------+-----------+--------+---------+--------+------+\n",
            "|OrderID| OrderDate|Client| Segment|Region| Product|       Category|SubCategory|Quantity|UnitPrice|Discount|Profit|\n",
            "+-------+----------+------+--------+------+--------+---------------+-----------+--------+---------+--------+------+\n",
            "|CA-1003|2023-01-25|  Amit|Consumer|  East|Notebook|Office Supplies|      Paper|       3|    200.0|    0.05|   150|\n",
            "+-------+----------+------+--------+------+--------+---------------+-----------+--------+---------+--------+------+\n",
            "\n"
          ]
        }
      ]
    },
    {
      "cell_type": "markdown",
      "source": [
        "5. GroupBy Region and show average profit."
      ],
      "metadata": {
        "id": "-iImf1L8-U8J"
      }
    },
    {
      "cell_type": "code",
      "source": [
        "df.groupBy('Region').agg(F.avg('Profit')).show()"
      ],
      "metadata": {
        "colab": {
          "base_uri": "https://localhost:8080/"
        },
        "id": "f0sQfCzb-Xah",
        "outputId": "a50e8f70-9410-4e94-f995-3f005b509c7a"
      },
      "execution_count": 144,
      "outputs": [
        {
          "output_type": "stream",
          "name": "stdout",
          "text": [
            "+-------+-----------+\n",
            "| Region|avg(Profit)|\n",
            "+-------+-----------+\n",
            "|   NULL|       NULL|\n",
            "|  South|     4000.0|\n",
            "|   East|      150.0|\n",
            "|   West|    -1500.0|\n",
            "|Printer|       NULL|\n",
            "+-------+-----------+\n",
            "\n"
          ]
        }
      ]
    },
    {
      "cell_type": "markdown",
      "source": [
        "6. Use withColumn to create TotalPrice = Quantity * UnitPrice ."
      ],
      "metadata": {
        "id": "fKUr6xF6-hv2"
      }
    },
    {
      "cell_type": "code",
      "source": [
        "df=df.withColumn('TotalPrice',F.col('Quantity')*F.col('UnitPrice'))\n",
        "df.show()"
      ],
      "metadata": {
        "colab": {
          "base_uri": "https://localhost:8080/"
        },
        "id": "GJDLkQwo-lh-",
        "outputId": "5ba8cc79-7b42-4c7e-c2d4-b065340ab882"
      },
      "execution_count": 145,
      "outputs": [
        {
          "output_type": "stream",
          "name": "stdout",
          "text": [
            "+-------+----------+---------+-----------+-------+----------+---------------+-----------+--------+---------+--------+------+----------+\n",
            "|OrderID| OrderDate|   Client|    Segment| Region|   Product|       Category|SubCategory|Quantity|UnitPrice|Discount|Profit|TotalPrice|\n",
            "+-------+----------+---------+-----------+-------+----------+---------------+-----------+--------+---------+--------+------+----------+\n",
            "|CA-1001|2023-01-15|     Ravi|   Consumer|  South|    Laptop|     Technology|  Computers|       1|  55000.0|     0.1|  5000|   55000.0|\n",
            "|CA-1002|  2023-02-|     NULL|       NULL|   NULL|      NULL|           NULL|       NULL|    NULL|     NULL|    NULL|  NULL|      NULL|\n",
            "|     20|     Priya|Corporate|      North|Printer|Technology|    Peripherals|          2|   12000|     0.15|  1800.0|  NULL|    1800.0|\n",
            "|CA-1003|2023-01-25|     Amit|   Consumer|   East|  Notebook|Office Supplies|      Paper|       3|    200.0|    0.05|   150|     600.0|\n",
            "|CA-1004|2023-03-01|    Anita|Home Office|   West|     Table|      Furniture|     Tables|       1|  18000.0|     0.2| -1500|   18000.0|\n",
            "|CA-1005|2023-02-05|    Divya|   Consumer|  South|     Phone|     Technology|     Phones|       2|  20000.0|     0.0|  3000|   40000.0|\n",
            "+-------+----------+---------+-----------+-------+----------+---------------+-----------+--------+---------+--------+------+----------+\n",
            "\n"
          ]
        }
      ]
    },
    {
      "cell_type": "markdown",
      "source": [
        "7. Use when().otherwise() to classify Profit as:"
      ],
      "metadata": {
        "id": "BpkFduGC_MMl"
      }
    },
    {
      "cell_type": "code",
      "source": [
        "df=df.withColumn('Categorize_Orders',F.when(F.col('Profit')>2000,'High').otherwise(F.when(F.col('Profit')<=0,'Low').otherwise('Medium')))\n",
        "df.show()"
      ],
      "metadata": {
        "colab": {
          "base_uri": "https://localhost:8080/"
        },
        "id": "Ib6ij6t-_PH0",
        "outputId": "a1d561b0-0407-431f-cdfe-22616ca50ea2"
      },
      "execution_count": 146,
      "outputs": [
        {
          "output_type": "stream",
          "name": "stdout",
          "text": [
            "+-------+----------+---------+-----------+-------+----------+---------------+-----------+--------+---------+--------+------+----------+-----------------+\n",
            "|OrderID| OrderDate|   Client|    Segment| Region|   Product|       Category|SubCategory|Quantity|UnitPrice|Discount|Profit|TotalPrice|Categorize_Orders|\n",
            "+-------+----------+---------+-----------+-------+----------+---------------+-----------+--------+---------+--------+------+----------+-----------------+\n",
            "|CA-1001|2023-01-15|     Ravi|   Consumer|  South|    Laptop|     Technology|  Computers|       1|  55000.0|     0.1|  5000|   55000.0|             High|\n",
            "|CA-1002|  2023-02-|     NULL|       NULL|   NULL|      NULL|           NULL|       NULL|    NULL|     NULL|    NULL|  NULL|      NULL|           Medium|\n",
            "|     20|     Priya|Corporate|      North|Printer|Technology|    Peripherals|          2|   12000|     0.15|  1800.0|  NULL|    1800.0|           Medium|\n",
            "|CA-1003|2023-01-25|     Amit|   Consumer|   East|  Notebook|Office Supplies|      Paper|       3|    200.0|    0.05|   150|     600.0|           Medium|\n",
            "|CA-1004|2023-03-01|    Anita|Home Office|   West|     Table|      Furniture|     Tables|       1|  18000.0|     0.2| -1500|   18000.0|              Low|\n",
            "|CA-1005|2023-02-05|    Divya|   Consumer|  South|     Phone|     Technology|     Phones|       2|  20000.0|     0.0|  3000|   40000.0|             High|\n",
            "+-------+----------+---------+-----------+-------+----------+---------------+-----------+--------+---------+--------+------+----------+-----------------+\n",
            "\n"
          ]
        }
      ]
    },
    {
      "cell_type": "markdown",
      "source": [
        "8. Use drop() to remove SubCategory ."
      ],
      "metadata": {
        "id": "5Ay1e8hpBWo0"
      }
    },
    {
      "cell_type": "code",
      "source": [
        "df.drop('SubCategory').show()"
      ],
      "metadata": {
        "colab": {
          "base_uri": "https://localhost:8080/"
        },
        "id": "Qlf-0XClBYo2",
        "outputId": "61ff0469-eec8-490b-e15f-ee8e88ef2ac8"
      },
      "execution_count": 147,
      "outputs": [
        {
          "output_type": "stream",
          "name": "stdout",
          "text": [
            "+-------+----------+---------+-----------+-------+----------+---------------+--------+---------+--------+------+----------+-----------------+\n",
            "|OrderID| OrderDate|   Client|    Segment| Region|   Product|       Category|Quantity|UnitPrice|Discount|Profit|TotalPrice|Categorize_Orders|\n",
            "+-------+----------+---------+-----------+-------+----------+---------------+--------+---------+--------+------+----------+-----------------+\n",
            "|CA-1001|2023-01-15|     Ravi|   Consumer|  South|    Laptop|     Technology|       1|  55000.0|     0.1|  5000|   55000.0|             High|\n",
            "|CA-1002|  2023-02-|     NULL|       NULL|   NULL|      NULL|           NULL|    NULL|     NULL|    NULL|  NULL|      NULL|           Medium|\n",
            "|     20|     Priya|Corporate|      North|Printer|Technology|    Peripherals|   12000|     0.15|  1800.0|  NULL|    1800.0|           Medium|\n",
            "|CA-1003|2023-01-25|     Amit|   Consumer|   East|  Notebook|Office Supplies|       3|    200.0|    0.05|   150|     600.0|           Medium|\n",
            "|CA-1004|2023-03-01|    Anita|Home Office|   West|     Table|      Furniture|       1|  18000.0|     0.2| -1500|   18000.0|              Low|\n",
            "|CA-1005|2023-02-05|    Divya|   Consumer|  South|     Phone|     Technology|       2|  20000.0|     0.0|  3000|   40000.0|             High|\n",
            "+-------+----------+---------+-----------+-------+----------+---------------+--------+---------+--------+------+----------+-----------------+\n",
            "\n"
          ]
        }
      ]
    },
    {
      "cell_type": "markdown",
      "source": [
        "9. Handle nulls in Discount using fillna(0.10) ."
      ],
      "metadata": {
        "id": "7O0cXjt-BdMQ"
      }
    },
    {
      "cell_type": "code",
      "source": [
        "df=df.fillna({'Discount':0.10})\n",
        "df.show()"
      ],
      "metadata": {
        "colab": {
          "base_uri": "https://localhost:8080/"
        },
        "id": "a-Oe0EOnBfmu",
        "outputId": "5a045e16-67a9-4f90-b572-4f702814b983"
      },
      "execution_count": 148,
      "outputs": [
        {
          "output_type": "stream",
          "name": "stdout",
          "text": [
            "+-------+----------+---------+-----------+-------+----------+---------------+-----------+--------+---------+--------+------+----------+-----------------+\n",
            "|OrderID| OrderDate|   Client|    Segment| Region|   Product|       Category|SubCategory|Quantity|UnitPrice|Discount|Profit|TotalPrice|Categorize_Orders|\n",
            "+-------+----------+---------+-----------+-------+----------+---------------+-----------+--------+---------+--------+------+----------+-----------------+\n",
            "|CA-1001|2023-01-15|     Ravi|   Consumer|  South|    Laptop|     Technology|  Computers|       1|  55000.0|     0.1|  5000|   55000.0|             High|\n",
            "|CA-1002|  2023-02-|     NULL|       NULL|   NULL|      NULL|           NULL|       NULL|    NULL|     NULL|     0.1|  NULL|      NULL|           Medium|\n",
            "|     20|     Priya|Corporate|      North|Printer|Technology|    Peripherals|          2|   12000|     0.15|  1800.0|  NULL|    1800.0|           Medium|\n",
            "|CA-1003|2023-01-25|     Amit|   Consumer|   East|  Notebook|Office Supplies|      Paper|       3|    200.0|    0.05|   150|     600.0|           Medium|\n",
            "|CA-1004|2023-03-01|    Anita|Home Office|   West|     Table|      Furniture|     Tables|       1|  18000.0|     0.2| -1500|   18000.0|              Low|\n",
            "|CA-1005|2023-02-05|    Divya|   Consumer|  South|     Phone|     Technology|     Phones|       2|  20000.0|     0.0|  3000|   40000.0|             High|\n",
            "+-------+----------+---------+-----------+-------+----------+---------------+-----------+--------+---------+--------+------+----------+-----------------+\n",
            "\n"
          ]
        }
      ]
    },
    {
      "cell_type": "markdown",
      "source": [
        "10. Convert OrderDate to date type and extract year , month ."
      ],
      "metadata": {
        "id": "Ej64gBz1CAns"
      }
    },
    {
      "cell_type": "code",
      "source": [
        "df=df.withColumn('OrderDate',F.col('OrderDate').cast('date'))\n",
        "df.withColumn('Year',F.year('OrderDate')).show()\n",
        "df.withColumn('Month',F.month('OrderDate')).show()\n",
        "df.show()"
      ],
      "metadata": {
        "colab": {
          "base_uri": "https://localhost:8080/"
        },
        "id": "V-dQd7VvCC3y",
        "outputId": "6b98f36a-4d7b-46ae-c675-9e602d689d59"
      },
      "execution_count": 149,
      "outputs": [
        {
          "output_type": "stream",
          "name": "stdout",
          "text": [
            "+-------+----------+---------+-----------+-------+----------+---------------+-----------+--------+---------+--------+------+----------+-----------------+----+\n",
            "|OrderID| OrderDate|   Client|    Segment| Region|   Product|       Category|SubCategory|Quantity|UnitPrice|Discount|Profit|TotalPrice|Categorize_Orders|Year|\n",
            "+-------+----------+---------+-----------+-------+----------+---------------+-----------+--------+---------+--------+------+----------+-----------------+----+\n",
            "|CA-1001|2023-01-15|     Ravi|   Consumer|  South|    Laptop|     Technology|  Computers|       1|  55000.0|     0.1|  5000|   55000.0|             High|2023|\n",
            "|CA-1002|      NULL|     NULL|       NULL|   NULL|      NULL|           NULL|       NULL|    NULL|     NULL|     0.1|  NULL|      NULL|           Medium|NULL|\n",
            "|     20|      NULL|Corporate|      North|Printer|Technology|    Peripherals|          2|   12000|     0.15|  1800.0|  NULL|    1800.0|           Medium|NULL|\n",
            "|CA-1003|2023-01-25|     Amit|   Consumer|   East|  Notebook|Office Supplies|      Paper|       3|    200.0|    0.05|   150|     600.0|           Medium|2023|\n",
            "|CA-1004|2023-03-01|    Anita|Home Office|   West|     Table|      Furniture|     Tables|       1|  18000.0|     0.2| -1500|   18000.0|              Low|2023|\n",
            "|CA-1005|2023-02-05|    Divya|   Consumer|  South|     Phone|     Technology|     Phones|       2|  20000.0|     0.0|  3000|   40000.0|             High|2023|\n",
            "+-------+----------+---------+-----------+-------+----------+---------------+-----------+--------+---------+--------+------+----------+-----------------+----+\n",
            "\n",
            "+-------+----------+---------+-----------+-------+----------+---------------+-----------+--------+---------+--------+------+----------+-----------------+-----+\n",
            "|OrderID| OrderDate|   Client|    Segment| Region|   Product|       Category|SubCategory|Quantity|UnitPrice|Discount|Profit|TotalPrice|Categorize_Orders|Month|\n",
            "+-------+----------+---------+-----------+-------+----------+---------------+-----------+--------+---------+--------+------+----------+-----------------+-----+\n",
            "|CA-1001|2023-01-15|     Ravi|   Consumer|  South|    Laptop|     Technology|  Computers|       1|  55000.0|     0.1|  5000|   55000.0|             High|    1|\n",
            "|CA-1002|      NULL|     NULL|       NULL|   NULL|      NULL|           NULL|       NULL|    NULL|     NULL|     0.1|  NULL|      NULL|           Medium| NULL|\n",
            "|     20|      NULL|Corporate|      North|Printer|Technology|    Peripherals|          2|   12000|     0.15|  1800.0|  NULL|    1800.0|           Medium| NULL|\n",
            "|CA-1003|2023-01-25|     Amit|   Consumer|   East|  Notebook|Office Supplies|      Paper|       3|    200.0|    0.05|   150|     600.0|           Medium|    1|\n",
            "|CA-1004|2023-03-01|    Anita|Home Office|   West|     Table|      Furniture|     Tables|       1|  18000.0|     0.2| -1500|   18000.0|              Low|    3|\n",
            "|CA-1005|2023-02-05|    Divya|   Consumer|  South|     Phone|     Technology|     Phones|       2|  20000.0|     0.0|  3000|   40000.0|             High|    2|\n",
            "+-------+----------+---------+-----------+-------+----------+---------------+-----------+--------+---------+--------+------+----------+-----------------+-----+\n",
            "\n",
            "+-------+----------+---------+-----------+-------+----------+---------------+-----------+--------+---------+--------+------+----------+-----------------+\n",
            "|OrderID| OrderDate|   Client|    Segment| Region|   Product|       Category|SubCategory|Quantity|UnitPrice|Discount|Profit|TotalPrice|Categorize_Orders|\n",
            "+-------+----------+---------+-----------+-------+----------+---------------+-----------+--------+---------+--------+------+----------+-----------------+\n",
            "|CA-1001|2023-01-15|     Ravi|   Consumer|  South|    Laptop|     Technology|  Computers|       1|  55000.0|     0.1|  5000|   55000.0|             High|\n",
            "|CA-1002|      NULL|     NULL|       NULL|   NULL|      NULL|           NULL|       NULL|    NULL|     NULL|     0.1|  NULL|      NULL|           Medium|\n",
            "|     20|      NULL|Corporate|      North|Printer|Technology|    Peripherals|          2|   12000|     0.15|  1800.0|  NULL|    1800.0|           Medium|\n",
            "|CA-1003|2023-01-25|     Amit|   Consumer|   East|  Notebook|Office Supplies|      Paper|       3|    200.0|    0.05|   150|     600.0|           Medium|\n",
            "|CA-1004|2023-03-01|    Anita|Home Office|   West|     Table|      Furniture|     Tables|       1|  18000.0|     0.2| -1500|   18000.0|              Low|\n",
            "|CA-1005|2023-02-05|    Divya|   Consumer|  South|     Phone|     Technology|     Phones|       2|  20000.0|     0.0|  3000|   40000.0|             High|\n",
            "+-------+----------+---------+-----------+-------+----------+---------------+-----------+--------+---------+--------+------+----------+-----------------+\n",
            "\n"
          ]
        }
      ]
    },
    {
      "cell_type": "markdown",
      "source": [
        "PART 3: Dask DataFrame Operations (Pandas Alternative)\n",
        "\n",
        "1. Install Dask:\n",
        "\n",
        "!pip install dask"
      ],
      "metadata": {
        "id": "DlfYNaJVGnMO"
      }
    },
    {
      "cell_type": "code",
      "source": [
        "!pip install dask"
      ],
      "metadata": {
        "colab": {
          "base_uri": "https://localhost:8080/"
        },
        "id": "bS9PQ1sZG4FP",
        "outputId": "c8d058f7-eeaa-4b7e-940e-8cc482649ecc"
      },
      "execution_count": 150,
      "outputs": [
        {
          "output_type": "stream",
          "name": "stdout",
          "text": [
            "Requirement already satisfied: dask in /usr/local/lib/python3.11/dist-packages (2025.5.0)\n",
            "Requirement already satisfied: click>=8.1 in /usr/local/lib/python3.11/dist-packages (from dask) (8.2.1)\n",
            "Requirement already satisfied: cloudpickle>=3.0.0 in /usr/local/lib/python3.11/dist-packages (from dask) (3.1.1)\n",
            "Requirement already satisfied: fsspec>=2021.09.0 in /usr/local/lib/python3.11/dist-packages (from dask) (2025.3.0)\n",
            "Requirement already satisfied: packaging>=20.0 in /usr/local/lib/python3.11/dist-packages (from dask) (25.0)\n",
            "Requirement already satisfied: partd>=1.4.0 in /usr/local/lib/python3.11/dist-packages (from dask) (1.4.2)\n",
            "Requirement already satisfied: pyyaml>=5.3.1 in /usr/local/lib/python3.11/dist-packages (from dask) (6.0.2)\n",
            "Requirement already satisfied: toolz>=0.10.0 in /usr/local/lib/python3.11/dist-packages (from dask) (0.12.1)\n",
            "Requirement already satisfied: importlib_metadata>=4.13.0 in /usr/local/lib/python3.11/dist-packages (from dask) (8.7.0)\n",
            "Requirement already satisfied: zipp>=3.20 in /usr/local/lib/python3.11/dist-packages (from importlib_metadata>=4.13.0->dask) (3.23.0)\n",
            "Requirement already satisfied: locket in /usr/local/lib/python3.11/dist-packages (from partd>=1.4.0->dask) (1.0.0)\n"
          ]
        }
      ]
    },
    {
      "cell_type": "markdown",
      "source": [
        "2.Load the same superstore.csv :"
      ],
      "metadata": {
        "id": "iKFL6s8rG9tc"
      }
    },
    {
      "cell_type": "code",
      "source": [
        "import dask.dataframe as dd\n",
        "df=dd.read_csv(\"/content/drive/MyDrive/Colab Notebooks/superstore.csv\")\n",
        "df.compute()"
      ],
      "metadata": {
        "colab": {
          "base_uri": "https://localhost:8080/",
          "height": 344
        },
        "id": "XCnT0flKHALm",
        "outputId": "e9fbf154-b853-4b95-c751-82e129ce7d57"
      },
      "execution_count": 151,
      "outputs": [
        {
          "output_type": "execute_result",
          "data": {
            "text/plain": [
              "   OrderID   OrderDate   Customer      Segment   Region     Product  \\\n",
              "0  CA-1001  2023-01-15       Ravi     Consumer    South      Laptop   \n",
              "1  CA-1002    2023-02-       <NA>         <NA>     <NA>        <NA>   \n",
              "2       20       Priya  Corporate        North  Printer  Technology   \n",
              "3  CA-1003  2023-01-25       Amit     Consumer     East    Notebook   \n",
              "4  CA-1004  2023-03-01      Anita  Home Office     West       Table   \n",
              "5  CA-1005  2023-02-05      Divya     Consumer    South       Phone   \n",
              "\n",
              "          Category SubCategory  Quantity  UnitPrice  Discount  Profit  \n",
              "0       Technology   Computers       1.0   55000.00      0.10  5000.0  \n",
              "1             <NA>        <NA>       NaN        NaN       NaN     NaN  \n",
              "2      Peripherals           2   12000.0       0.15   1800.00     NaN  \n",
              "3  Office Supplies       Paper       3.0     200.00      0.05   150.0  \n",
              "4        Furniture      Tables       1.0   18000.00      0.20 -1500.0  \n",
              "5       Technology      Phones       2.0   20000.00      0.00  3000.0  "
            ],
            "text/html": [
              "\n",
              "  <div id=\"df-b5ee775d-b21f-435b-874d-18d5345ee770\" class=\"colab-df-container\">\n",
              "    <div>\n",
              "<style scoped>\n",
              "    .dataframe tbody tr th:only-of-type {\n",
              "        vertical-align: middle;\n",
              "    }\n",
              "\n",
              "    .dataframe tbody tr th {\n",
              "        vertical-align: top;\n",
              "    }\n",
              "\n",
              "    .dataframe thead th {\n",
              "        text-align: right;\n",
              "    }\n",
              "</style>\n",
              "<table border=\"1\" class=\"dataframe\">\n",
              "  <thead>\n",
              "    <tr style=\"text-align: right;\">\n",
              "      <th></th>\n",
              "      <th>OrderID</th>\n",
              "      <th>OrderDate</th>\n",
              "      <th>Customer</th>\n",
              "      <th>Segment</th>\n",
              "      <th>Region</th>\n",
              "      <th>Product</th>\n",
              "      <th>Category</th>\n",
              "      <th>SubCategory</th>\n",
              "      <th>Quantity</th>\n",
              "      <th>UnitPrice</th>\n",
              "      <th>Discount</th>\n",
              "      <th>Profit</th>\n",
              "    </tr>\n",
              "  </thead>\n",
              "  <tbody>\n",
              "    <tr>\n",
              "      <th>0</th>\n",
              "      <td>CA-1001</td>\n",
              "      <td>2023-01-15</td>\n",
              "      <td>Ravi</td>\n",
              "      <td>Consumer</td>\n",
              "      <td>South</td>\n",
              "      <td>Laptop</td>\n",
              "      <td>Technology</td>\n",
              "      <td>Computers</td>\n",
              "      <td>1.0</td>\n",
              "      <td>55000.00</td>\n",
              "      <td>0.10</td>\n",
              "      <td>5000.0</td>\n",
              "    </tr>\n",
              "    <tr>\n",
              "      <th>1</th>\n",
              "      <td>CA-1002</td>\n",
              "      <td>2023-02-</td>\n",
              "      <td>&lt;NA&gt;</td>\n",
              "      <td>&lt;NA&gt;</td>\n",
              "      <td>&lt;NA&gt;</td>\n",
              "      <td>&lt;NA&gt;</td>\n",
              "      <td>&lt;NA&gt;</td>\n",
              "      <td>&lt;NA&gt;</td>\n",
              "      <td>NaN</td>\n",
              "      <td>NaN</td>\n",
              "      <td>NaN</td>\n",
              "      <td>NaN</td>\n",
              "    </tr>\n",
              "    <tr>\n",
              "      <th>2</th>\n",
              "      <td>20</td>\n",
              "      <td>Priya</td>\n",
              "      <td>Corporate</td>\n",
              "      <td>North</td>\n",
              "      <td>Printer</td>\n",
              "      <td>Technology</td>\n",
              "      <td>Peripherals</td>\n",
              "      <td>2</td>\n",
              "      <td>12000.0</td>\n",
              "      <td>0.15</td>\n",
              "      <td>1800.00</td>\n",
              "      <td>NaN</td>\n",
              "    </tr>\n",
              "    <tr>\n",
              "      <th>3</th>\n",
              "      <td>CA-1003</td>\n",
              "      <td>2023-01-25</td>\n",
              "      <td>Amit</td>\n",
              "      <td>Consumer</td>\n",
              "      <td>East</td>\n",
              "      <td>Notebook</td>\n",
              "      <td>Office Supplies</td>\n",
              "      <td>Paper</td>\n",
              "      <td>3.0</td>\n",
              "      <td>200.00</td>\n",
              "      <td>0.05</td>\n",
              "      <td>150.0</td>\n",
              "    </tr>\n",
              "    <tr>\n",
              "      <th>4</th>\n",
              "      <td>CA-1004</td>\n",
              "      <td>2023-03-01</td>\n",
              "      <td>Anita</td>\n",
              "      <td>Home Office</td>\n",
              "      <td>West</td>\n",
              "      <td>Table</td>\n",
              "      <td>Furniture</td>\n",
              "      <td>Tables</td>\n",
              "      <td>1.0</td>\n",
              "      <td>18000.00</td>\n",
              "      <td>0.20</td>\n",
              "      <td>-1500.0</td>\n",
              "    </tr>\n",
              "    <tr>\n",
              "      <th>5</th>\n",
              "      <td>CA-1005</td>\n",
              "      <td>2023-02-05</td>\n",
              "      <td>Divya</td>\n",
              "      <td>Consumer</td>\n",
              "      <td>South</td>\n",
              "      <td>Phone</td>\n",
              "      <td>Technology</td>\n",
              "      <td>Phones</td>\n",
              "      <td>2.0</td>\n",
              "      <td>20000.00</td>\n",
              "      <td>0.00</td>\n",
              "      <td>3000.0</td>\n",
              "    </tr>\n",
              "  </tbody>\n",
              "</table>\n",
              "</div>\n",
              "    <div class=\"colab-df-buttons\">\n",
              "\n",
              "  <div class=\"colab-df-container\">\n",
              "    <button class=\"colab-df-convert\" onclick=\"convertToInteractive('df-b5ee775d-b21f-435b-874d-18d5345ee770')\"\n",
              "            title=\"Convert this dataframe to an interactive table.\"\n",
              "            style=\"display:none;\">\n",
              "\n",
              "  <svg xmlns=\"http://www.w3.org/2000/svg\" height=\"24px\" viewBox=\"0 -960 960 960\">\n",
              "    <path d=\"M120-120v-720h720v720H120Zm60-500h600v-160H180v160Zm220 220h160v-160H400v160Zm0 220h160v-160H400v160ZM180-400h160v-160H180v160Zm440 0h160v-160H620v160ZM180-180h160v-160H180v160Zm440 0h160v-160H620v160Z\"/>\n",
              "  </svg>\n",
              "    </button>\n",
              "\n",
              "  <style>\n",
              "    .colab-df-container {\n",
              "      display:flex;\n",
              "      gap: 12px;\n",
              "    }\n",
              "\n",
              "    .colab-df-convert {\n",
              "      background-color: #E8F0FE;\n",
              "      border: none;\n",
              "      border-radius: 50%;\n",
              "      cursor: pointer;\n",
              "      display: none;\n",
              "      fill: #1967D2;\n",
              "      height: 32px;\n",
              "      padding: 0 0 0 0;\n",
              "      width: 32px;\n",
              "    }\n",
              "\n",
              "    .colab-df-convert:hover {\n",
              "      background-color: #E2EBFA;\n",
              "      box-shadow: 0px 1px 2px rgba(60, 64, 67, 0.3), 0px 1px 3px 1px rgba(60, 64, 67, 0.15);\n",
              "      fill: #174EA6;\n",
              "    }\n",
              "\n",
              "    .colab-df-buttons div {\n",
              "      margin-bottom: 4px;\n",
              "    }\n",
              "\n",
              "    [theme=dark] .colab-df-convert {\n",
              "      background-color: #3B4455;\n",
              "      fill: #D2E3FC;\n",
              "    }\n",
              "\n",
              "    [theme=dark] .colab-df-convert:hover {\n",
              "      background-color: #434B5C;\n",
              "      box-shadow: 0px 1px 3px 1px rgba(0, 0, 0, 0.15);\n",
              "      filter: drop-shadow(0px 1px 2px rgba(0, 0, 0, 0.3));\n",
              "      fill: #FFFFFF;\n",
              "    }\n",
              "  </style>\n",
              "\n",
              "    <script>\n",
              "      const buttonEl =\n",
              "        document.querySelector('#df-b5ee775d-b21f-435b-874d-18d5345ee770 button.colab-df-convert');\n",
              "      buttonEl.style.display =\n",
              "        google.colab.kernel.accessAllowed ? 'block' : 'none';\n",
              "\n",
              "      async function convertToInteractive(key) {\n",
              "        const element = document.querySelector('#df-b5ee775d-b21f-435b-874d-18d5345ee770');\n",
              "        const dataTable =\n",
              "          await google.colab.kernel.invokeFunction('convertToInteractive',\n",
              "                                                    [key], {});\n",
              "        if (!dataTable) return;\n",
              "\n",
              "        const docLinkHtml = 'Like what you see? Visit the ' +\n",
              "          '<a target=\"_blank\" href=https://colab.research.google.com/notebooks/data_table.ipynb>data table notebook</a>'\n",
              "          + ' to learn more about interactive tables.';\n",
              "        element.innerHTML = '';\n",
              "        dataTable['output_type'] = 'display_data';\n",
              "        await google.colab.output.renderOutput(dataTable, element);\n",
              "        const docLink = document.createElement('div');\n",
              "        docLink.innerHTML = docLinkHtml;\n",
              "        element.appendChild(docLink);\n",
              "      }\n",
              "    </script>\n",
              "  </div>\n",
              "\n",
              "\n",
              "    <div id=\"df-88b4f8c9-4bb4-4d4a-ab35-daf7e73c1b5a\">\n",
              "      <button class=\"colab-df-quickchart\" onclick=\"quickchart('df-88b4f8c9-4bb4-4d4a-ab35-daf7e73c1b5a')\"\n",
              "                title=\"Suggest charts\"\n",
              "                style=\"display:none;\">\n",
              "\n",
              "<svg xmlns=\"http://www.w3.org/2000/svg\" height=\"24px\"viewBox=\"0 0 24 24\"\n",
              "     width=\"24px\">\n",
              "    <g>\n",
              "        <path d=\"M19 3H5c-1.1 0-2 .9-2 2v14c0 1.1.9 2 2 2h14c1.1 0 2-.9 2-2V5c0-1.1-.9-2-2-2zM9 17H7v-7h2v7zm4 0h-2V7h2v10zm4 0h-2v-4h2v4z\"/>\n",
              "    </g>\n",
              "</svg>\n",
              "      </button>\n",
              "\n",
              "<style>\n",
              "  .colab-df-quickchart {\n",
              "      --bg-color: #E8F0FE;\n",
              "      --fill-color: #1967D2;\n",
              "      --hover-bg-color: #E2EBFA;\n",
              "      --hover-fill-color: #174EA6;\n",
              "      --disabled-fill-color: #AAA;\n",
              "      --disabled-bg-color: #DDD;\n",
              "  }\n",
              "\n",
              "  [theme=dark] .colab-df-quickchart {\n",
              "      --bg-color: #3B4455;\n",
              "      --fill-color: #D2E3FC;\n",
              "      --hover-bg-color: #434B5C;\n",
              "      --hover-fill-color: #FFFFFF;\n",
              "      --disabled-bg-color: #3B4455;\n",
              "      --disabled-fill-color: #666;\n",
              "  }\n",
              "\n",
              "  .colab-df-quickchart {\n",
              "    background-color: var(--bg-color);\n",
              "    border: none;\n",
              "    border-radius: 50%;\n",
              "    cursor: pointer;\n",
              "    display: none;\n",
              "    fill: var(--fill-color);\n",
              "    height: 32px;\n",
              "    padding: 0;\n",
              "    width: 32px;\n",
              "  }\n",
              "\n",
              "  .colab-df-quickchart:hover {\n",
              "    background-color: var(--hover-bg-color);\n",
              "    box-shadow: 0 1px 2px rgba(60, 64, 67, 0.3), 0 1px 3px 1px rgba(60, 64, 67, 0.15);\n",
              "    fill: var(--button-hover-fill-color);\n",
              "  }\n",
              "\n",
              "  .colab-df-quickchart-complete:disabled,\n",
              "  .colab-df-quickchart-complete:disabled:hover {\n",
              "    background-color: var(--disabled-bg-color);\n",
              "    fill: var(--disabled-fill-color);\n",
              "    box-shadow: none;\n",
              "  }\n",
              "\n",
              "  .colab-df-spinner {\n",
              "    border: 2px solid var(--fill-color);\n",
              "    border-color: transparent;\n",
              "    border-bottom-color: var(--fill-color);\n",
              "    animation:\n",
              "      spin 1s steps(1) infinite;\n",
              "  }\n",
              "\n",
              "  @keyframes spin {\n",
              "    0% {\n",
              "      border-color: transparent;\n",
              "      border-bottom-color: var(--fill-color);\n",
              "      border-left-color: var(--fill-color);\n",
              "    }\n",
              "    20% {\n",
              "      border-color: transparent;\n",
              "      border-left-color: var(--fill-color);\n",
              "      border-top-color: var(--fill-color);\n",
              "    }\n",
              "    30% {\n",
              "      border-color: transparent;\n",
              "      border-left-color: var(--fill-color);\n",
              "      border-top-color: var(--fill-color);\n",
              "      border-right-color: var(--fill-color);\n",
              "    }\n",
              "    40% {\n",
              "      border-color: transparent;\n",
              "      border-right-color: var(--fill-color);\n",
              "      border-top-color: var(--fill-color);\n",
              "    }\n",
              "    60% {\n",
              "      border-color: transparent;\n",
              "      border-right-color: var(--fill-color);\n",
              "    }\n",
              "    80% {\n",
              "      border-color: transparent;\n",
              "      border-right-color: var(--fill-color);\n",
              "      border-bottom-color: var(--fill-color);\n",
              "    }\n",
              "    90% {\n",
              "      border-color: transparent;\n",
              "      border-bottom-color: var(--fill-color);\n",
              "    }\n",
              "  }\n",
              "</style>\n",
              "\n",
              "      <script>\n",
              "        async function quickchart(key) {\n",
              "          const quickchartButtonEl =\n",
              "            document.querySelector('#' + key + ' button');\n",
              "          quickchartButtonEl.disabled = true;  // To prevent multiple clicks.\n",
              "          quickchartButtonEl.classList.add('colab-df-spinner');\n",
              "          try {\n",
              "            const charts = await google.colab.kernel.invokeFunction(\n",
              "                'suggestCharts', [key], {});\n",
              "          } catch (error) {\n",
              "            console.error('Error during call to suggestCharts:', error);\n",
              "          }\n",
              "          quickchartButtonEl.classList.remove('colab-df-spinner');\n",
              "          quickchartButtonEl.classList.add('colab-df-quickchart-complete');\n",
              "        }\n",
              "        (() => {\n",
              "          let quickchartButtonEl =\n",
              "            document.querySelector('#df-88b4f8c9-4bb4-4d4a-ab35-daf7e73c1b5a button');\n",
              "          quickchartButtonEl.style.display =\n",
              "            google.colab.kernel.accessAllowed ? 'block' : 'none';\n",
              "        })();\n",
              "      </script>\n",
              "    </div>\n",
              "\n",
              "    </div>\n",
              "  </div>\n"
            ],
            "application/vnd.google.colaboratory.intrinsic+json": {
              "type": "dataframe",
              "summary": "{\n  \"name\": \"df\",\n  \"rows\": 6,\n  \"fields\": [\n    {\n      \"column\": \"OrderID\",\n      \"properties\": {\n        \"dtype\": \"string\",\n        \"num_unique_values\": 6,\n        \"samples\": [\n          \"CA-1001\",\n          \"CA-1002\",\n          \"CA-1005\"\n        ],\n        \"semantic_type\": \"\",\n        \"description\": \"\"\n      }\n    },\n    {\n      \"column\": \"OrderDate\",\n      \"properties\": {\n        \"dtype\": \"string\",\n        \"num_unique_values\": 6,\n        \"samples\": [\n          \"2023-01-15\",\n          \"2023-02-\",\n          \"2023-02-05\"\n        ],\n        \"semantic_type\": \"\",\n        \"description\": \"\"\n      }\n    },\n    {\n      \"column\": \"Customer\",\n      \"properties\": {\n        \"dtype\": \"string\",\n        \"num_unique_values\": 5,\n        \"samples\": [\n          \"Corporate\",\n          \"Divya\",\n          \"Amit\"\n        ],\n        \"semantic_type\": \"\",\n        \"description\": \"\"\n      }\n    },\n    {\n      \"column\": \"Segment\",\n      \"properties\": {\n        \"dtype\": \"string\",\n        \"num_unique_values\": 3,\n        \"samples\": [\n          \"Consumer\",\n          \"North\",\n          \"Home Office\"\n        ],\n        \"semantic_type\": \"\",\n        \"description\": \"\"\n      }\n    },\n    {\n      \"column\": \"Region\",\n      \"properties\": {\n        \"dtype\": \"string\",\n        \"num_unique_values\": 4,\n        \"samples\": [\n          \"Printer\",\n          \"West\",\n          \"South\"\n        ],\n        \"semantic_type\": \"\",\n        \"description\": \"\"\n      }\n    },\n    {\n      \"column\": \"Product\",\n      \"properties\": {\n        \"dtype\": \"string\",\n        \"num_unique_values\": 5,\n        \"samples\": [\n          \"Technology\",\n          \"Phone\",\n          \"Notebook\"\n        ],\n        \"semantic_type\": \"\",\n        \"description\": \"\"\n      }\n    },\n    {\n      \"column\": \"Category\",\n      \"properties\": {\n        \"dtype\": \"string\",\n        \"num_unique_values\": 4,\n        \"samples\": [\n          \"Peripherals\",\n          \"Furniture\",\n          \"Technology\"\n        ],\n        \"semantic_type\": \"\",\n        \"description\": \"\"\n      }\n    },\n    {\n      \"column\": \"SubCategory\",\n      \"properties\": {\n        \"dtype\": \"string\",\n        \"num_unique_values\": 5,\n        \"samples\": [\n          \"2\",\n          \"Phones\",\n          \"Paper\"\n        ],\n        \"semantic_type\": \"\",\n        \"description\": \"\"\n      }\n    },\n    {\n      \"column\": \"Quantity\",\n      \"properties\": {\n        \"dtype\": \"number\",\n        \"std\": 5365.780586270743,\n        \"min\": 1.0,\n        \"max\": 12000.0,\n        \"num_unique_values\": 4,\n        \"samples\": [\n          12000.0,\n          2.0,\n          1.0\n        ],\n        \"semantic_type\": \"\",\n        \"description\": \"\"\n      }\n    },\n    {\n      \"column\": \"UnitPrice\",\n      \"properties\": {\n        \"dtype\": \"number\",\n        \"std\": 22426.47101093928,\n        \"min\": 0.15,\n        \"max\": 55000.0,\n        \"num_unique_values\": 5,\n        \"samples\": [\n          0.15,\n          20000.0,\n          200.0\n        ],\n        \"semantic_type\": \"\",\n        \"description\": \"\"\n      }\n    },\n    {\n      \"column\": \"Discount\",\n      \"properties\": {\n        \"dtype\": \"number\",\n        \"std\": 804.9453441072878,\n        \"min\": 0.0,\n        \"max\": 1800.0,\n        \"num_unique_values\": 5,\n        \"samples\": [\n          1800.0,\n          0.0,\n          0.05\n        ],\n        \"semantic_type\": \"\",\n        \"description\": \"\"\n      }\n    },\n    {\n      \"column\": \"Profit\",\n      \"properties\": {\n        \"dtype\": \"number\",\n        \"std\": 2899.245591528941,\n        \"min\": -1500.0,\n        \"max\": 5000.0,\n        \"num_unique_values\": 4,\n        \"samples\": [\n          150.0,\n          3000.0,\n          5000.0\n        ],\n        \"semantic_type\": \"\",\n        \"description\": \"\"\n      }\n    }\n  ]\n}"
            }
          },
          "metadata": {},
          "execution_count": 151
        }
      ]
    },
    {
      "cell_type": "markdown",
      "source": [
        "3. Do the following:\n",
        "\n",
        "Compute average discount by category."
      ],
      "metadata": {
        "id": "a7CZ7FeTH_UE"
      }
    },
    {
      "cell_type": "code",
      "source": [
        "df.groupby('Category')['Discount'].mean().compute()"
      ],
      "metadata": {
        "colab": {
          "base_uri": "https://localhost:8080/",
          "height": 272
        },
        "id": "pXxbdHi5IGCr",
        "outputId": "8abf5cac-207b-4599-a41c-7732e3603da9"
      },
      "execution_count": 152,
      "outputs": [
        {
          "output_type": "execute_result",
          "data": {
            "text/plain": [
              "Category\n",
              "Furniture             0.20\n",
              "Office Supplies       0.05\n",
              "Peripherals        1800.00\n",
              "Technology            0.05\n",
              "<NA>                   NaN\n",
              "Name: Discount, dtype: float64"
            ],
            "text/html": [
              "<div>\n",
              "<style scoped>\n",
              "    .dataframe tbody tr th:only-of-type {\n",
              "        vertical-align: middle;\n",
              "    }\n",
              "\n",
              "    .dataframe tbody tr th {\n",
              "        vertical-align: top;\n",
              "    }\n",
              "\n",
              "    .dataframe thead th {\n",
              "        text-align: right;\n",
              "    }\n",
              "</style>\n",
              "<table border=\"1\" class=\"dataframe\">\n",
              "  <thead>\n",
              "    <tr style=\"text-align: right;\">\n",
              "      <th></th>\n",
              "      <th>Discount</th>\n",
              "    </tr>\n",
              "    <tr>\n",
              "      <th>Category</th>\n",
              "      <th></th>\n",
              "    </tr>\n",
              "  </thead>\n",
              "  <tbody>\n",
              "    <tr>\n",
              "      <th>Furniture</th>\n",
              "      <td>0.20</td>\n",
              "    </tr>\n",
              "    <tr>\n",
              "      <th>Office Supplies</th>\n",
              "      <td>0.05</td>\n",
              "    </tr>\n",
              "    <tr>\n",
              "      <th>Peripherals</th>\n",
              "      <td>1800.00</td>\n",
              "    </tr>\n",
              "    <tr>\n",
              "      <th>Technology</th>\n",
              "      <td>0.05</td>\n",
              "    </tr>\n",
              "    <tr>\n",
              "      <th>&lt;NA&gt;</th>\n",
              "      <td>NaN</td>\n",
              "    </tr>\n",
              "  </tbody>\n",
              "</table>\n",
              "</div><br><label><b>dtype:</b> float64</label>"
            ]
          },
          "metadata": {},
          "execution_count": 152
        }
      ]
    },
    {
      "cell_type": "markdown",
      "source": [
        "Filter orders with more than 1 quantity and high profit."
      ],
      "metadata": {
        "id": "_b0pnN8yIGf3"
      }
    },
    {
      "cell_type": "code",
      "source": [
        "df[(df['Quantity']>1)&(df['Profit']>2000)].compute()"
      ],
      "metadata": {
        "colab": {
          "base_uri": "https://localhost:8080/",
          "height": 118
        },
        "id": "EuD8GTw9IImW",
        "outputId": "9b8a53ab-ecc8-4cce-b16c-301f1bf388a2"
      },
      "execution_count": 153,
      "outputs": [
        {
          "output_type": "execute_result",
          "data": {
            "text/plain": [
              "   OrderID   OrderDate Customer   Segment Region Product    Category  \\\n",
              "5  CA-1005  2023-02-05    Divya  Consumer  South   Phone  Technology   \n",
              "\n",
              "  SubCategory  Quantity  UnitPrice  Discount  Profit  \n",
              "5      Phones       2.0    20000.0       0.0  3000.0  "
            ],
            "text/html": [
              "\n",
              "  <div id=\"df-5efa2c43-2e48-4412-afde-ccce9c0d8554\" class=\"colab-df-container\">\n",
              "    <div>\n",
              "<style scoped>\n",
              "    .dataframe tbody tr th:only-of-type {\n",
              "        vertical-align: middle;\n",
              "    }\n",
              "\n",
              "    .dataframe tbody tr th {\n",
              "        vertical-align: top;\n",
              "    }\n",
              "\n",
              "    .dataframe thead th {\n",
              "        text-align: right;\n",
              "    }\n",
              "</style>\n",
              "<table border=\"1\" class=\"dataframe\">\n",
              "  <thead>\n",
              "    <tr style=\"text-align: right;\">\n",
              "      <th></th>\n",
              "      <th>OrderID</th>\n",
              "      <th>OrderDate</th>\n",
              "      <th>Customer</th>\n",
              "      <th>Segment</th>\n",
              "      <th>Region</th>\n",
              "      <th>Product</th>\n",
              "      <th>Category</th>\n",
              "      <th>SubCategory</th>\n",
              "      <th>Quantity</th>\n",
              "      <th>UnitPrice</th>\n",
              "      <th>Discount</th>\n",
              "      <th>Profit</th>\n",
              "    </tr>\n",
              "  </thead>\n",
              "  <tbody>\n",
              "    <tr>\n",
              "      <th>5</th>\n",
              "      <td>CA-1005</td>\n",
              "      <td>2023-02-05</td>\n",
              "      <td>Divya</td>\n",
              "      <td>Consumer</td>\n",
              "      <td>South</td>\n",
              "      <td>Phone</td>\n",
              "      <td>Technology</td>\n",
              "      <td>Phones</td>\n",
              "      <td>2.0</td>\n",
              "      <td>20000.0</td>\n",
              "      <td>0.0</td>\n",
              "      <td>3000.0</td>\n",
              "    </tr>\n",
              "  </tbody>\n",
              "</table>\n",
              "</div>\n",
              "    <div class=\"colab-df-buttons\">\n",
              "\n",
              "  <div class=\"colab-df-container\">\n",
              "    <button class=\"colab-df-convert\" onclick=\"convertToInteractive('df-5efa2c43-2e48-4412-afde-ccce9c0d8554')\"\n",
              "            title=\"Convert this dataframe to an interactive table.\"\n",
              "            style=\"display:none;\">\n",
              "\n",
              "  <svg xmlns=\"http://www.w3.org/2000/svg\" height=\"24px\" viewBox=\"0 -960 960 960\">\n",
              "    <path d=\"M120-120v-720h720v720H120Zm60-500h600v-160H180v160Zm220 220h160v-160H400v160Zm0 220h160v-160H400v160ZM180-400h160v-160H180v160Zm440 0h160v-160H620v160ZM180-180h160v-160H180v160Zm440 0h160v-160H620v160Z\"/>\n",
              "  </svg>\n",
              "    </button>\n",
              "\n",
              "  <style>\n",
              "    .colab-df-container {\n",
              "      display:flex;\n",
              "      gap: 12px;\n",
              "    }\n",
              "\n",
              "    .colab-df-convert {\n",
              "      background-color: #E8F0FE;\n",
              "      border: none;\n",
              "      border-radius: 50%;\n",
              "      cursor: pointer;\n",
              "      display: none;\n",
              "      fill: #1967D2;\n",
              "      height: 32px;\n",
              "      padding: 0 0 0 0;\n",
              "      width: 32px;\n",
              "    }\n",
              "\n",
              "    .colab-df-convert:hover {\n",
              "      background-color: #E2EBFA;\n",
              "      box-shadow: 0px 1px 2px rgba(60, 64, 67, 0.3), 0px 1px 3px 1px rgba(60, 64, 67, 0.15);\n",
              "      fill: #174EA6;\n",
              "    }\n",
              "\n",
              "    .colab-df-buttons div {\n",
              "      margin-bottom: 4px;\n",
              "    }\n",
              "\n",
              "    [theme=dark] .colab-df-convert {\n",
              "      background-color: #3B4455;\n",
              "      fill: #D2E3FC;\n",
              "    }\n",
              "\n",
              "    [theme=dark] .colab-df-convert:hover {\n",
              "      background-color: #434B5C;\n",
              "      box-shadow: 0px 1px 3px 1px rgba(0, 0, 0, 0.15);\n",
              "      filter: drop-shadow(0px 1px 2px rgba(0, 0, 0, 0.3));\n",
              "      fill: #FFFFFF;\n",
              "    }\n",
              "  </style>\n",
              "\n",
              "    <script>\n",
              "      const buttonEl =\n",
              "        document.querySelector('#df-5efa2c43-2e48-4412-afde-ccce9c0d8554 button.colab-df-convert');\n",
              "      buttonEl.style.display =\n",
              "        google.colab.kernel.accessAllowed ? 'block' : 'none';\n",
              "\n",
              "      async function convertToInteractive(key) {\n",
              "        const element = document.querySelector('#df-5efa2c43-2e48-4412-afde-ccce9c0d8554');\n",
              "        const dataTable =\n",
              "          await google.colab.kernel.invokeFunction('convertToInteractive',\n",
              "                                                    [key], {});\n",
              "        if (!dataTable) return;\n",
              "\n",
              "        const docLinkHtml = 'Like what you see? Visit the ' +\n",
              "          '<a target=\"_blank\" href=https://colab.research.google.com/notebooks/data_table.ipynb>data table notebook</a>'\n",
              "          + ' to learn more about interactive tables.';\n",
              "        element.innerHTML = '';\n",
              "        dataTable['output_type'] = 'display_data';\n",
              "        await google.colab.output.renderOutput(dataTable, element);\n",
              "        const docLink = document.createElement('div');\n",
              "        docLink.innerHTML = docLinkHtml;\n",
              "        element.appendChild(docLink);\n",
              "      }\n",
              "    </script>\n",
              "  </div>\n",
              "\n",
              "\n",
              "    </div>\n",
              "  </div>\n"
            ],
            "application/vnd.google.colaboratory.intrinsic+json": {
              "type": "dataframe",
              "summary": "{\n  \"name\": \"df[(df['Quantity']>1)&(df['Profit']>2000)]\",\n  \"rows\": 1,\n  \"fields\": [\n    {\n      \"column\": \"OrderID\",\n      \"properties\": {\n        \"dtype\": \"string\",\n        \"num_unique_values\": 1,\n        \"samples\": [\n          \"CA-1005\"\n        ],\n        \"semantic_type\": \"\",\n        \"description\": \"\"\n      }\n    },\n    {\n      \"column\": \"OrderDate\",\n      \"properties\": {\n        \"dtype\": \"string\",\n        \"num_unique_values\": 1,\n        \"samples\": [\n          \"2023-02-05\"\n        ],\n        \"semantic_type\": \"\",\n        \"description\": \"\"\n      }\n    },\n    {\n      \"column\": \"Customer\",\n      \"properties\": {\n        \"dtype\": \"string\",\n        \"num_unique_values\": 1,\n        \"samples\": [\n          \"Divya\"\n        ],\n        \"semantic_type\": \"\",\n        \"description\": \"\"\n      }\n    },\n    {\n      \"column\": \"Segment\",\n      \"properties\": {\n        \"dtype\": \"string\",\n        \"num_unique_values\": 1,\n        \"samples\": [\n          \"Consumer\"\n        ],\n        \"semantic_type\": \"\",\n        \"description\": \"\"\n      }\n    },\n    {\n      \"column\": \"Region\",\n      \"properties\": {\n        \"dtype\": \"string\",\n        \"num_unique_values\": 1,\n        \"samples\": [\n          \"South\"\n        ],\n        \"semantic_type\": \"\",\n        \"description\": \"\"\n      }\n    },\n    {\n      \"column\": \"Product\",\n      \"properties\": {\n        \"dtype\": \"string\",\n        \"num_unique_values\": 1,\n        \"samples\": [\n          \"Phone\"\n        ],\n        \"semantic_type\": \"\",\n        \"description\": \"\"\n      }\n    },\n    {\n      \"column\": \"Category\",\n      \"properties\": {\n        \"dtype\": \"string\",\n        \"num_unique_values\": 1,\n        \"samples\": [\n          \"Technology\"\n        ],\n        \"semantic_type\": \"\",\n        \"description\": \"\"\n      }\n    },\n    {\n      \"column\": \"SubCategory\",\n      \"properties\": {\n        \"dtype\": \"string\",\n        \"num_unique_values\": 1,\n        \"samples\": [\n          \"Phones\"\n        ],\n        \"semantic_type\": \"\",\n        \"description\": \"\"\n      }\n    },\n    {\n      \"column\": \"Quantity\",\n      \"properties\": {\n        \"dtype\": \"number\",\n        \"std\": null,\n        \"min\": 2.0,\n        \"max\": 2.0,\n        \"num_unique_values\": 1,\n        \"samples\": [\n          2.0\n        ],\n        \"semantic_type\": \"\",\n        \"description\": \"\"\n      }\n    },\n    {\n      \"column\": \"UnitPrice\",\n      \"properties\": {\n        \"dtype\": \"number\",\n        \"std\": null,\n        \"min\": 20000.0,\n        \"max\": 20000.0,\n        \"num_unique_values\": 1,\n        \"samples\": [\n          20000.0\n        ],\n        \"semantic_type\": \"\",\n        \"description\": \"\"\n      }\n    },\n    {\n      \"column\": \"Discount\",\n      \"properties\": {\n        \"dtype\": \"number\",\n        \"std\": null,\n        \"min\": 0.0,\n        \"max\": 0.0,\n        \"num_unique_values\": 1,\n        \"samples\": [\n          0.0\n        ],\n        \"semantic_type\": \"\",\n        \"description\": \"\"\n      }\n    },\n    {\n      \"column\": \"Profit\",\n      \"properties\": {\n        \"dtype\": \"number\",\n        \"std\": null,\n        \"min\": 3000.0,\n        \"max\": 3000.0,\n        \"num_unique_values\": 1,\n        \"samples\": [\n          3000.0\n        ],\n        \"semantic_type\": \"\",\n        \"description\": \"\"\n      }\n    }\n  ]\n}"
            }
          },
          "metadata": {},
          "execution_count": 153
        }
      ]
    },
    {
      "cell_type": "markdown",
      "source": [
        "Save filtered data to new CSV."
      ],
      "metadata": {
        "id": "cpqlJx-EIJFo"
      }
    },
    {
      "cell_type": "code",
      "source": [
        "df.to_csv('/content/drive/MyDrive/Colab Notebooks/superstore_filtered.csv',index=False)"
      ],
      "metadata": {
        "colab": {
          "base_uri": "https://localhost:8080/"
        },
        "id": "yP4j3m2FIKpb",
        "outputId": "98af6fd1-8690-4f33-9a36-4859db38da67"
      },
      "execution_count": 154,
      "outputs": [
        {
          "output_type": "execute_result",
          "data": {
            "text/plain": [
              "['/content/drive/MyDrive/Colab Notebooks/superstore_filtered.csv/0.part']"
            ]
          },
          "metadata": {},
          "execution_count": 154
        }
      ]
    },
    {
      "cell_type": "markdown",
      "source": [
        "PART 4: JSON Handling (Complex Nested)\n",
        "\n",
        "1. Create a nested JSON file:"
      ],
      "metadata": {
        "id": "jziDB2ovKfk5"
      }
    },
    {
      "cell_type": "code",
      "source": [
        "import json\n",
        "data=[\n",
        "{\n",
        "\"OrderID\": \"CA-1001\",\n",
        "\"Customer\": {\"Name\": \"Ravi\", \"Segment\": \"Consumer\"},\n",
        "\"Details\": {\"Region\": \"South\", \"Profit\": 5000}\n",
        "},\n",
        "{\n",
        "\"OrderID\": \"CA-1002\",\n",
        "\"Customer\": {\"Name\": \"Priya\", \"Segment\": \"Corporate\"},\n",
        "\"Details\": {\"Region\": \"North\", \"Profit\": 1800}\n",
        "}\n",
        "]\n",
        "\n",
        "with open(\"orders.json\",\"w\") as file:\n",
        "  json.dump(data,file,indent=4)"
      ],
      "metadata": {
        "id": "HobM3XgVKhU2"
      },
      "execution_count": 155,
      "outputs": []
    },
    {
      "cell_type": "markdown",
      "source": [
        "2. Load it using PySpark:"
      ],
      "metadata": {
        "id": "vpw0HMNWKyHh"
      }
    },
    {
      "cell_type": "code",
      "source": [
        "df_json = spark.read.json('orders.json', multiLine=True)\n",
        "df_json.printSchema()\n",
        "df_json.select(\"OrderID\", \"Customer.Name\", \"Details.Profit\").show()"
      ],
      "metadata": {
        "colab": {
          "base_uri": "https://localhost:8080/"
        },
        "id": "4qPnhCclKz5B",
        "outputId": "e66837cd-dce4-4a23-970b-15ee9220670c"
      },
      "execution_count": 156,
      "outputs": [
        {
          "output_type": "stream",
          "name": "stdout",
          "text": [
            "root\n",
            " |-- Customer: struct (nullable = true)\n",
            " |    |-- Name: string (nullable = true)\n",
            " |    |-- Segment: string (nullable = true)\n",
            " |-- Details: struct (nullable = true)\n",
            " |    |-- Profit: long (nullable = true)\n",
            " |    |-- Region: string (nullable = true)\n",
            " |-- OrderID: string (nullable = true)\n",
            "\n",
            "+-------+-----+------+\n",
            "|OrderID| Name|Profit|\n",
            "+-------+-----+------+\n",
            "|CA-1001| Ravi|  5000|\n",
            "|CA-1002|Priya|  1800|\n",
            "+-------+-----+------+\n",
            "\n"
          ]
        }
      ]
    }
  ]
}