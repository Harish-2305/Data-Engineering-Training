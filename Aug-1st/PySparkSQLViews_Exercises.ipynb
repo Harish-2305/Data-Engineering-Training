{
  "nbformat": 4,
  "nbformat_minor": 0,
  "metadata": {
    "colab": {
      "provenance": []
    },
    "kernelspec": {
      "name": "python3",
      "display_name": "Python 3"
    },
    "language_info": {
      "name": "python"
    }
  },
  "cells": [
    {
      "cell_type": "markdown",
      "source": [
        "**Scenario: Employee Work Data for a Tech Company**\n",
        "\n",
        "Step 1: Prepare Data in PySpark"
      ],
      "metadata": {
        "id": "4QypaWyy--ms"
      }
    },
    {
      "cell_type": "code",
      "execution_count": 36,
      "metadata": {
        "id": "xqfEQecO-40q"
      },
      "outputs": [],
      "source": [
        "from pyspark.sql import Row\n",
        "data = [\n",
        "Row(EmpID=101, Name=\"Ravi\", Department=\"Engineering\", Project=\"AI Engine\",\n",
        "Salary=95000, HoursPerWeek=42),\n",
        "Row(EmpID=102, Name=\"Sneha\", Department=\"Engineering\", Project=\"Data Platform\",\n",
        "Salary=87000, HoursPerWeek=45),\n",
        "Row(EmpID=103, Name=\"Kabir\", Department=\"Marketing\", Project=\"Product Launch\",\n",
        "Salary=65000, HoursPerWeek=40),\n",
        "Row(EmpID=104, Name=\"Anita\", Department=\"Sales\", Project=\"Client Outreach\",\n",
        "Salary=70000, HoursPerWeek=38),\n",
        "Row(EmpID=105, Name=\"Divya\", Department=\"Engineering\", Project=\"AI Engine\",\n",
        "Salary=99000, HoursPerWeek=48),\n",
        "Row(EmpID=106, Name=\"Amit\", Department=\"Marketing\", Project=\"Social Media\",\n",
        "Salary=62000, HoursPerWeek=35),\n",
        "Row(EmpID=107, Name=\"Priya\", Department=\"HR\", Project=\"Policy Revamp\",\n",
        "Salary=58000, HoursPerWeek=37),\n",
        "Row(EmpID=108, Name=\"Manav\", Department=\"Sales\", Project=\"Lead Gen\", Salary=73000,\n",
        "HoursPerWeek=41),\n",
        "Row(EmpID=109, Name=\"Neha\", Department=\"Engineering\", Project=\"Security Suite\",\n",
        "Salary=91000, HoursPerWeek=46),\n",
        "Row(EmpID=110, Name=\"Farah\", Department=\"HR\", Project=\"Onboarding\", Salary=60000,\n",
        "HoursPerWeek=36)\n",
        "]"
      ]
    },
    {
      "cell_type": "code",
      "source": [
        "from pyspark.sql import SparkSession\n",
        "spark = SparkSession.builder.appName(\"EmployeeData\").getOrCreate()\n",
        "df = spark.createDataFrame(data)\n",
        "df.show()"
      ],
      "metadata": {
        "colab": {
          "base_uri": "https://localhost:8080/"
        },
        "id": "KPZ1_6Vq_Q0e",
        "outputId": "8d7399c3-b9b5-4838-a1f0-005949f5dc4e"
      },
      "execution_count": 37,
      "outputs": [
        {
          "output_type": "stream",
          "name": "stdout",
          "text": [
            "+-----+-----+-----------+---------------+------+------------+\n",
            "|EmpID| Name| Department|        Project|Salary|HoursPerWeek|\n",
            "+-----+-----+-----------+---------------+------+------------+\n",
            "|  101| Ravi|Engineering|      AI Engine| 95000|          42|\n",
            "|  102|Sneha|Engineering|  Data Platform| 87000|          45|\n",
            "|  103|Kabir|  Marketing| Product Launch| 65000|          40|\n",
            "|  104|Anita|      Sales|Client Outreach| 70000|          38|\n",
            "|  105|Divya|Engineering|      AI Engine| 99000|          48|\n",
            "|  106| Amit|  Marketing|   Social Media| 62000|          35|\n",
            "|  107|Priya|         HR|  Policy Revamp| 58000|          37|\n",
            "|  108|Manav|      Sales|       Lead Gen| 73000|          41|\n",
            "|  109| Neha|Engineering| Security Suite| 91000|          46|\n",
            "|  110|Farah|         HR|     Onboarding| 60000|          36|\n",
            "+-----+-----+-----------+---------------+------+------------+\n",
            "\n"
          ]
        }
      ]
    },
    {
      "cell_type": "markdown",
      "source": [
        "**Step 2: Create Views**\n",
        "\n",
        "Create a Local Temp View"
      ],
      "metadata": {
        "id": "oZGCe1lC_g9d"
      }
    },
    {
      "cell_type": "code",
      "source": [
        "df.createOrReplaceTempView(\"employees_local\")"
      ],
      "metadata": {
        "id": "ycKI-L6V_tNx"
      },
      "execution_count": 38,
      "outputs": []
    },
    {
      "cell_type": "markdown",
      "source": [
        "Create a Global Temp View"
      ],
      "metadata": {
        "id": "ObVk54n3_vS6"
      }
    },
    {
      "cell_type": "code",
      "source": [
        "df.createOrReplaceGlobalTempView(\"employees_global\")"
      ],
      "metadata": {
        "id": "_y5CIQgq_z1g"
      },
      "execution_count": 39,
      "outputs": []
    },
    {
      "cell_type": "markdown",
      "source": [
        "**Part A: Exercises on Local View ( employees_local )**\n",
        "1. List all employees working on the \"AI Engine\" project."
      ],
      "metadata": {
        "id": "3X113HMM_3U4"
      }
    },
    {
      "cell_type": "code",
      "source": [
        "spark.sql(\"select * from employees_local where project='AI Engine';\").show()"
      ],
      "metadata": {
        "colab": {
          "base_uri": "https://localhost:8080/"
        },
        "id": "Wm51O38E_772",
        "outputId": "433b7b71-7391-45c7-dbdf-54668f6120c5"
      },
      "execution_count": 40,
      "outputs": [
        {
          "output_type": "stream",
          "name": "stdout",
          "text": [
            "+-----+-----+-----------+---------+------+------------+\n",
            "|EmpID| Name| Department|  Project|Salary|HoursPerWeek|\n",
            "+-----+-----+-----------+---------+------+------------+\n",
            "|  101| Ravi|Engineering|AI Engine| 95000|          42|\n",
            "|  105|Divya|Engineering|AI Engine| 99000|          48|\n",
            "+-----+-----+-----------+---------+------+------------+\n",
            "\n"
          ]
        }
      ]
    },
    {
      "cell_type": "markdown",
      "source": [
        "2. Show all employees from the \"Marketing\" department with salaries greater than\n",
        "60,000."
      ],
      "metadata": {
        "id": "Seum-gcMAU1t"
      }
    },
    {
      "cell_type": "code",
      "source": [
        "spark.sql(\"select * from employees_local where department='Marketing' and Salary>60000\").show()"
      ],
      "metadata": {
        "colab": {
          "base_uri": "https://localhost:8080/"
        },
        "id": "NnvawQB0AWcM",
        "outputId": "68a499b8-de12-4451-b9ce-9449f517dd59"
      },
      "execution_count": 41,
      "outputs": [
        {
          "output_type": "stream",
          "name": "stdout",
          "text": [
            "+-----+-----+----------+--------------+------+------------+\n",
            "|EmpID| Name|Department|       Project|Salary|HoursPerWeek|\n",
            "+-----+-----+----------+--------------+------+------------+\n",
            "|  103|Kabir| Marketing|Product Launch| 65000|          40|\n",
            "|  106| Amit| Marketing|  Social Media| 62000|          35|\n",
            "+-----+-----+----------+--------------+------+------------+\n",
            "\n"
          ]
        }
      ]
    },
    {
      "cell_type": "markdown",
      "source": [
        "3. Calculate the average salary for each department."
      ],
      "metadata": {
        "id": "76_Z4Ay6ApGq"
      }
    },
    {
      "cell_type": "code",
      "source": [
        "spark.sql(\"select department,avg(salary) as AVG_Sal from employees_local group by department\").show()"
      ],
      "metadata": {
        "colab": {
          "base_uri": "https://localhost:8080/"
        },
        "id": "mQ75qbamAtV3",
        "outputId": "88751b0e-e13f-4510-d0eb-05d6b162d51f"
      },
      "execution_count": 42,
      "outputs": [
        {
          "output_type": "stream",
          "name": "stdout",
          "text": [
            "+-----------+-------+\n",
            "| department|AVG_Sal|\n",
            "+-----------+-------+\n",
            "|      Sales|71500.0|\n",
            "|Engineering|93000.0|\n",
            "|  Marketing|63500.0|\n",
            "|         HR|59000.0|\n",
            "+-----------+-------+\n",
            "\n"
          ]
        }
      ]
    },
    {
      "cell_type": "markdown",
      "source": [
        "4. List the top 3 highest paid employees overall."
      ],
      "metadata": {
        "id": "S2SqQcyEA_kx"
      }
    },
    {
      "cell_type": "code",
      "source": [
        "spark.sql(\"select * from employees_local order by salary desc limit 3\").show()"
      ],
      "metadata": {
        "colab": {
          "base_uri": "https://localhost:8080/"
        },
        "id": "4GF5_Gc6BB3B",
        "outputId": "64c8b74a-cb00-490d-b80f-d7c6c97af292"
      },
      "execution_count": 43,
      "outputs": [
        {
          "output_type": "stream",
          "name": "stdout",
          "text": [
            "+-----+-----+-----------+--------------+------+------------+\n",
            "|EmpID| Name| Department|       Project|Salary|HoursPerWeek|\n",
            "+-----+-----+-----------+--------------+------+------------+\n",
            "|  105|Divya|Engineering|     AI Engine| 99000|          48|\n",
            "|  101| Ravi|Engineering|     AI Engine| 95000|          42|\n",
            "|  109| Neha|Engineering|Security Suite| 91000|          46|\n",
            "+-----+-----+-----------+--------------+------+------------+\n",
            "\n"
          ]
        }
      ]
    },
    {
      "cell_type": "markdown",
      "source": [
        "5. Find employees who work more than 40 hours per week."
      ],
      "metadata": {
        "id": "dVGmztEQBML5"
      }
    },
    {
      "cell_type": "code",
      "source": [
        "spark.sql(\"select * from employees_local where HoursPerWeek>40\").show()"
      ],
      "metadata": {
        "colab": {
          "base_uri": "https://localhost:8080/"
        },
        "id": "bsSg6Y2fBOJ-",
        "outputId": "4540adf5-9c7b-4e33-acec-8f2156bd9bc1"
      },
      "execution_count": 44,
      "outputs": [
        {
          "output_type": "stream",
          "name": "stdout",
          "text": [
            "+-----+-----+-----------+--------------+------+------------+\n",
            "|EmpID| Name| Department|       Project|Salary|HoursPerWeek|\n",
            "+-----+-----+-----------+--------------+------+------------+\n",
            "|  101| Ravi|Engineering|     AI Engine| 95000|          42|\n",
            "|  102|Sneha|Engineering| Data Platform| 87000|          45|\n",
            "|  105|Divya|Engineering|     AI Engine| 99000|          48|\n",
            "|  108|Manav|      Sales|      Lead Gen| 73000|          41|\n",
            "|  109| Neha|Engineering|Security Suite| 91000|          46|\n",
            "+-----+-----+-----------+--------------+------+------------+\n",
            "\n"
          ]
        }
      ]
    },
    {
      "cell_type": "markdown",
      "source": [
        "6. Group by project and display the number of employees per project."
      ],
      "metadata": {
        "id": "Zte80lFaBbcg"
      }
    },
    {
      "cell_type": "code",
      "source": [
        "spark.sql(\"select Project,count(EmpID) as Emp_count from employees_local group by Project\").show()"
      ],
      "metadata": {
        "colab": {
          "base_uri": "https://localhost:8080/"
        },
        "id": "LVJ8ps8yBfTk",
        "outputId": "4f7fb078-3f93-47bc-dc33-f6a3a6094a93"
      },
      "execution_count": 45,
      "outputs": [
        {
          "output_type": "stream",
          "name": "stdout",
          "text": [
            "+---------------+---------+\n",
            "|        Project|Emp_count|\n",
            "+---------------+---------+\n",
            "|  Data Platform|        1|\n",
            "|      AI Engine|        2|\n",
            "| Product Launch|        1|\n",
            "|Client Outreach|        1|\n",
            "| Security Suite|        1|\n",
            "|  Policy Revamp|        1|\n",
            "|       Lead Gen|        1|\n",
            "|   Social Media|        1|\n",
            "|     Onboarding|        1|\n",
            "+---------------+---------+\n",
            "\n"
          ]
        }
      ]
    },
    {
      "cell_type": "markdown",
      "source": [
        "7. Drop the local view. Try querying again — what happens?"
      ],
      "metadata": {
        "id": "vxsGAZs5CB4F"
      }
    },
    {
      "cell_type": "code",
      "source": [
        "spark.sql(\"drop view employees_local\")\n",
        "# spark.sql(\"select * from employees_local\").show()"
      ],
      "metadata": {
        "colab": {
          "base_uri": "https://localhost:8080/"
        },
        "id": "iGx1X2pfCEV3",
        "outputId": "ddcefbbb-a0b9-480c-ad11-f72a29a518e2"
      },
      "execution_count": 46,
      "outputs": [
        {
          "output_type": "execute_result",
          "data": {
            "text/plain": [
              "DataFrame[]"
            ]
          },
          "metadata": {},
          "execution_count": 46
        }
      ]
    },
    {
      "cell_type": "markdown",
      "source": [
        "**Part B: Exercises on Global View ( employees_global )**\n",
        "1. Retrieve all \"HR\" employees working fewer than 38 hours/week."
      ],
      "metadata": {
        "id": "YdRB3lSzCPZL"
      }
    },
    {
      "cell_type": "code",
      "source": [
        "spark.sql(\"select * from global_temp.employees_global where department='HR'\").show()"
      ],
      "metadata": {
        "colab": {
          "base_uri": "https://localhost:8080/"
        },
        "id": "4HBLBTPRCPCP",
        "outputId": "2508ed14-51d6-4800-c6c4-e62ed64f0ef8"
      },
      "execution_count": 47,
      "outputs": [
        {
          "output_type": "stream",
          "name": "stdout",
          "text": [
            "+-----+-----+----------+-------------+------+------------+\n",
            "|EmpID| Name|Department|      Project|Salary|HoursPerWeek|\n",
            "+-----+-----+----------+-------------+------+------------+\n",
            "|  107|Priya|        HR|Policy Revamp| 58000|          37|\n",
            "|  110|Farah|        HR|   Onboarding| 60000|          36|\n",
            "+-----+-----+----------+-------------+------+------------+\n",
            "\n"
          ]
        }
      ]
    },
    {
      "cell_type": "markdown",
      "source": [
        "2. Calculate the total salary payout for each department."
      ],
      "metadata": {
        "id": "E48hn-Y5C4B2"
      }
    },
    {
      "cell_type": "code",
      "source": [
        "spark.sql(\"select department,sum(Salary) from global_temp.employees_global group by department\").show()"
      ],
      "metadata": {
        "colab": {
          "base_uri": "https://localhost:8080/"
        },
        "id": "ZLFOisEBC3vq",
        "outputId": "78bf1107-7e7a-4bdc-d72b-2832c0c81684"
      },
      "execution_count": 48,
      "outputs": [
        {
          "output_type": "stream",
          "name": "stdout",
          "text": [
            "+-----------+-----------+\n",
            "| department|sum(Salary)|\n",
            "+-----------+-----------+\n",
            "|      Sales|     143000|\n",
            "|Engineering|     372000|\n",
            "|  Marketing|     127000|\n",
            "|         HR|     118000|\n",
            "+-----------+-----------+\n",
            "\n"
          ]
        }
      ]
    },
    {
      "cell_type": "markdown",
      "source": [
        "3. For each employee, add a derived column Status :\n",
        "\n",
        "If HoursPerWeek > 45 → 'Overworked'\n",
        "\n",
        "Otherwise → 'Normal'"
      ],
      "metadata": {
        "id": "pEfSTnVBDLjh"
      }
    },
    {
      "cell_type": "code",
      "source": [
        "spark.sql(\"\"\"select * ,\n",
        " case\n",
        " when HoursPerWeek>45 then 'Overworked'\n",
        " else 'Normal'\n",
        " End as Status\n",
        " from global_temp.employees_global\n",
        "  \"\"\").show()"
      ],
      "metadata": {
        "colab": {
          "base_uri": "https://localhost:8080/"
        },
        "id": "zkpC8TBXDfSN",
        "outputId": "ff7db8a4-746e-47c0-f734-453eb310cdc8"
      },
      "execution_count": 49,
      "outputs": [
        {
          "output_type": "stream",
          "name": "stdout",
          "text": [
            "+-----+-----+-----------+---------------+------+------------+----------+\n",
            "|EmpID| Name| Department|        Project|Salary|HoursPerWeek|    Status|\n",
            "+-----+-----+-----------+---------------+------+------------+----------+\n",
            "|  101| Ravi|Engineering|      AI Engine| 95000|          42|    Normal|\n",
            "|  102|Sneha|Engineering|  Data Platform| 87000|          45|    Normal|\n",
            "|  103|Kabir|  Marketing| Product Launch| 65000|          40|    Normal|\n",
            "|  104|Anita|      Sales|Client Outreach| 70000|          38|    Normal|\n",
            "|  105|Divya|Engineering|      AI Engine| 99000|          48|Overworked|\n",
            "|  106| Amit|  Marketing|   Social Media| 62000|          35|    Normal|\n",
            "|  107|Priya|         HR|  Policy Revamp| 58000|          37|    Normal|\n",
            "|  108|Manav|      Sales|       Lead Gen| 73000|          41|    Normal|\n",
            "|  109| Neha|Engineering| Security Suite| 91000|          46|Overworked|\n",
            "|  110|Farah|         HR|     Onboarding| 60000|          36|    Normal|\n",
            "+-----+-----+-----------+---------------+------+------------+----------+\n",
            "\n"
          ]
        }
      ]
    },
    {
      "cell_type": "markdown",
      "source": [
        "4. Count the total number of employees working on each \"Project\" ."
      ],
      "metadata": {
        "id": "9si_33jEEpPP"
      }
    },
    {
      "cell_type": "code",
      "source": [
        "spark.sql(\"select project,count(EmpID) from global_temp.employees_global group by project\").show()"
      ],
      "metadata": {
        "colab": {
          "base_uri": "https://localhost:8080/"
        },
        "id": "QB3l6aTzEswB",
        "outputId": "e281a09a-bd16-46f8-8519-7cfa9fa49f4b"
      },
      "execution_count": 50,
      "outputs": [
        {
          "output_type": "stream",
          "name": "stdout",
          "text": [
            "+---------------+------------+\n",
            "|        project|count(EmpID)|\n",
            "+---------------+------------+\n",
            "|  Data Platform|           1|\n",
            "|      AI Engine|           2|\n",
            "| Product Launch|           1|\n",
            "|Client Outreach|           1|\n",
            "| Security Suite|           1|\n",
            "|  Policy Revamp|           1|\n",
            "|       Lead Gen|           1|\n",
            "|   Social Media|           1|\n",
            "|     Onboarding|           1|\n",
            "+---------------+------------+\n",
            "\n"
          ]
        }
      ]
    },
    {
      "cell_type": "markdown",
      "source": [
        "5. List employees whose salary is above the average salary in their department."
      ],
      "metadata": {
        "id": "7qFonNX9E-lD"
      }
    },
    {
      "cell_type": "code",
      "source": [
        "spark.sql(\"select * from global_temp.employees_global where salary>(select avg(salary) from global_temp.employees_global)\").show()"
      ],
      "metadata": {
        "colab": {
          "base_uri": "https://localhost:8080/"
        },
        "id": "pXfWSU8lFBBm",
        "outputId": "a8d359ec-d8e3-4d13-e561-18d47dfb7a54"
      },
      "execution_count": 51,
      "outputs": [
        {
          "output_type": "stream",
          "name": "stdout",
          "text": [
            "+-----+-----+-----------+--------------+------+------------+\n",
            "|EmpID| Name| Department|       Project|Salary|HoursPerWeek|\n",
            "+-----+-----+-----------+--------------+------+------------+\n",
            "|  101| Ravi|Engineering|     AI Engine| 95000|          42|\n",
            "|  102|Sneha|Engineering| Data Platform| 87000|          45|\n",
            "|  105|Divya|Engineering|     AI Engine| 99000|          48|\n",
            "|  109| Neha|Engineering|Security Suite| 91000|          46|\n",
            "+-----+-----+-----------+--------------+------+------------+\n",
            "\n"
          ]
        }
      ]
    },
    {
      "cell_type": "markdown",
      "source": [
        "6. Open a new Spark session and query \"global_temp.employees_global\" from there."
      ],
      "metadata": {
        "id": "y609YGwAFu5v"
      }
    },
    {
      "cell_type": "code",
      "source": [
        "new_spark=SparkSession.builder.appName(\"New_Session\").getOrCreate()\n",
        "new_spark.sql(\"select * from global_temp.employees_global\").show()"
      ],
      "metadata": {
        "colab": {
          "base_uri": "https://localhost:8080/"
        },
        "id": "65ZRAj1zF9m3",
        "outputId": "54e30f42-96d8-4966-b134-fa14b162d68e"
      },
      "execution_count": 52,
      "outputs": [
        {
          "output_type": "stream",
          "name": "stdout",
          "text": [
            "+-----+-----+-----------+---------------+------+------------+\n",
            "|EmpID| Name| Department|        Project|Salary|HoursPerWeek|\n",
            "+-----+-----+-----------+---------------+------+------------+\n",
            "|  101| Ravi|Engineering|      AI Engine| 95000|          42|\n",
            "|  102|Sneha|Engineering|  Data Platform| 87000|          45|\n",
            "|  103|Kabir|  Marketing| Product Launch| 65000|          40|\n",
            "|  104|Anita|      Sales|Client Outreach| 70000|          38|\n",
            "|  105|Divya|Engineering|      AI Engine| 99000|          48|\n",
            "|  106| Amit|  Marketing|   Social Media| 62000|          35|\n",
            "|  107|Priya|         HR|  Policy Revamp| 58000|          37|\n",
            "|  108|Manav|      Sales|       Lead Gen| 73000|          41|\n",
            "|  109| Neha|Engineering| Security Suite| 91000|          46|\n",
            "|  110|Farah|         HR|     Onboarding| 60000|          36|\n",
            "+-----+-----+-----------+---------------+------+------------+\n",
            "\n"
          ]
        }
      ]
    },
    {
      "cell_type": "markdown",
      "source": [
        "**Bonus Challenges**\n",
        "1. Use a window function to assign rank to employees within each department based\n",
        "on salary."
      ],
      "metadata": {
        "id": "vdZ4RGB4GEDb"
      }
    },
    {
      "cell_type": "code",
      "source": [
        "from pyspark.sql.window import Window\n",
        "from pyspark.sql.functions import row_number\n",
        "windowSpec=Window.partitionBy(\"department\").orderBy(\"salary\")\n",
        "df.withColumn(\"rank\",row_number().over(windowSpec)).show()"
      ],
      "metadata": {
        "colab": {
          "base_uri": "https://localhost:8080/"
        },
        "id": "ZrkFXuVtGL-_",
        "outputId": "fb3c36c7-da59-4315-d290-753a23b5ff6e"
      },
      "execution_count": 53,
      "outputs": [
        {
          "output_type": "stream",
          "name": "stdout",
          "text": [
            "+-----+-----+-----------+---------------+------+------------+----+\n",
            "|EmpID| Name| Department|        Project|Salary|HoursPerWeek|rank|\n",
            "+-----+-----+-----------+---------------+------+------------+----+\n",
            "|  102|Sneha|Engineering|  Data Platform| 87000|          45|   1|\n",
            "|  109| Neha|Engineering| Security Suite| 91000|          46|   2|\n",
            "|  101| Ravi|Engineering|      AI Engine| 95000|          42|   3|\n",
            "|  105|Divya|Engineering|      AI Engine| 99000|          48|   4|\n",
            "|  107|Priya|         HR|  Policy Revamp| 58000|          37|   1|\n",
            "|  110|Farah|         HR|     Onboarding| 60000|          36|   2|\n",
            "|  106| Amit|  Marketing|   Social Media| 62000|          35|   1|\n",
            "|  103|Kabir|  Marketing| Product Launch| 65000|          40|   2|\n",
            "|  104|Anita|      Sales|Client Outreach| 70000|          38|   1|\n",
            "|  108|Manav|      Sales|       Lead Gen| 73000|          41|   2|\n",
            "+-----+-----+-----------+---------------+------+------------+----+\n",
            "\n"
          ]
        }
      ]
    },
    {
      "cell_type": "markdown",
      "source": [
        "2. Create another view (local or global) that only contains \"Engineering\"\n",
        "employees."
      ],
      "metadata": {
        "id": "i5gUPxOuGwtn"
      }
    },
    {
      "cell_type": "code",
      "source": [
        "eng_df=df.filter(df.Department==\"Engineering\")\n",
        "eng_df.createOrReplaceTempView(\"eng_employees\")\n",
        "eng_df.show()"
      ],
      "metadata": {
        "colab": {
          "base_uri": "https://localhost:8080/"
        },
        "id": "7TrDmlAoG2ns",
        "outputId": "1bd3add2-a134-4a29-f559-5fb84d531399"
      },
      "execution_count": 54,
      "outputs": [
        {
          "output_type": "stream",
          "name": "stdout",
          "text": [
            "+-----+-----+-----------+--------------+------+------------+\n",
            "|EmpID| Name| Department|       Project|Salary|HoursPerWeek|\n",
            "+-----+-----+-----------+--------------+------+------------+\n",
            "|  101| Ravi|Engineering|     AI Engine| 95000|          42|\n",
            "|  102|Sneha|Engineering| Data Platform| 87000|          45|\n",
            "|  105|Divya|Engineering|     AI Engine| 99000|          48|\n",
            "|  109| Neha|Engineering|Security Suite| 91000|          46|\n",
            "+-----+-----+-----------+--------------+------+------------+\n",
            "\n"
          ]
        }
      ]
    },
    {
      "cell_type": "markdown",
      "source": [
        "3. Create a SQL view that filters out all employees working < 38 hours and saves\n",
        "it as \"active_employees\""
      ],
      "metadata": {
        "id": "lKzUxbtSHS76"
      }
    },
    {
      "cell_type": "code",
      "source": [
        "filt_view=df.filter(df.HoursPerWeek>38)\n",
        "filt_view.createOrReplaceTempView(\"active_employees\")\n",
        "filt_view.show()"
      ],
      "metadata": {
        "colab": {
          "base_uri": "https://localhost:8080/"
        },
        "id": "WPijQZgfHXNK",
        "outputId": "0fa5a86a-de84-43c1-9724-06728307d9e5"
      },
      "execution_count": 55,
      "outputs": [
        {
          "output_type": "stream",
          "name": "stdout",
          "text": [
            "+-----+-----+-----------+--------------+------+------------+\n",
            "|EmpID| Name| Department|       Project|Salary|HoursPerWeek|\n",
            "+-----+-----+-----------+--------------+------+------------+\n",
            "|  101| Ravi|Engineering|     AI Engine| 95000|          42|\n",
            "|  102|Sneha|Engineering| Data Platform| 87000|          45|\n",
            "|  103|Kabir|  Marketing|Product Launch| 65000|          40|\n",
            "|  105|Divya|Engineering|     AI Engine| 99000|          48|\n",
            "|  108|Manav|      Sales|      Lead Gen| 73000|          41|\n",
            "|  109| Neha|Engineering|Security Suite| 91000|          46|\n",
            "+-----+-----+-----------+--------------+------+------------+\n",
            "\n"
          ]
        }
      ]
    }
  ]
}