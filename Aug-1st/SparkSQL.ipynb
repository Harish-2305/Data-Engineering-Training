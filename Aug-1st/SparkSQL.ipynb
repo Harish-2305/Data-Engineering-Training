{
  "nbformat": 4,
  "nbformat_minor": 0,
  "metadata": {
    "colab": {
      "provenance": []
    },
    "kernelspec": {
      "name": "python3",
      "display_name": "Python 3"
    },
    "language_info": {
      "name": "python"
    }
  },
  "cells": [
    {
      "cell_type": "code",
      "source": [
        "from pyspark.sql import SparkSession\n",
        "\n",
        "spark = SparkSession.builder \\\n",
        "    .appName(\"SparkSQLExample\") \\\n",
        "    .getOrCreate()\n",
        "\n",
        "\n",
        "from pyspark.sql import Row\n",
        "\n",
        "# Sample employee data\n",
        "data = [\n",
        "    Row(EmpID=101, Name=\"Ravi\", Department=\"Sales\", Salary=50000),\n",
        "    Row(EmpID=102, Name=\"Sneha\", Department=\"Engineering\", Salary=80000),\n",
        "    Row(EmpID=103, Name=\"Kabir\", Department=\"HR\", Salary=45000),\n",
        "    Row(EmpID=104, Name=\"Anita\", Department=\"Engineering\", Salary=85000),\n",
        "    Row(EmpID=105, Name=\"Amit\", Department=\"Sales\", Salary=55000),\n",
        "]"
      ],
      "metadata": {
        "id": "8zr0fZhO2rgy"
      },
      "execution_count": 2,
      "outputs": []
    },
    {
      "cell_type": "code",
      "source": [
        "df=spark.createDataFrame(data)\n",
        "df.show()\n",
        "df.createOrReplaceTempView(\"employees\")"
      ],
      "metadata": {
        "colab": {
          "base_uri": "https://localhost:8080/"
        },
        "id": "W5HYOWzf2zGp",
        "outputId": "a4e85ae9-17ad-4f86-b220-32d64afb3351"
      },
      "execution_count": 3,
      "outputs": [
        {
          "output_type": "stream",
          "name": "stdout",
          "text": [
            "+-----+-----+-----------+------+\n",
            "|EmpID| Name| Department|Salary|\n",
            "+-----+-----+-----------+------+\n",
            "|  101| Ravi|      Sales| 50000|\n",
            "|  102|Sneha|Engineering| 80000|\n",
            "|  103|Kabir|         HR| 45000|\n",
            "|  104|Anita|Engineering| 85000|\n",
            "|  105| Amit|      Sales| 55000|\n",
            "+-----+-----+-----------+------+\n",
            "\n"
          ]
        }
      ]
    },
    {
      "cell_type": "code",
      "execution_count": 5,
      "metadata": {
        "id": "E9vabSFApnNV",
        "colab": {
          "base_uri": "https://localhost:8080/"
        },
        "outputId": "d97ec9d3-f9fe-4c2f-ba77-12c48a80102b"
      },
      "outputs": [
        {
          "output_type": "stream",
          "name": "stdout",
          "text": [
            "+-----+-----+-----------+------+\n",
            "|EmpID| Name| Department|Salary|\n",
            "+-----+-----+-----------+------+\n",
            "|  101| Ravi|      Sales| 50000|\n",
            "|  102|Sneha|Engineering| 80000|\n",
            "|  103|Kabir|         HR| 45000|\n",
            "|  104|Anita|Engineering| 85000|\n",
            "|  105| Amit|      Sales| 55000|\n",
            "+-----+-----+-----------+------+\n",
            "\n"
          ]
        }
      ],
      "source": [
        "spark.sql(\"select * from employees\").show()"
      ]
    },
    {
      "cell_type": "code",
      "source": [
        "spark.sql(\"select Name,Salary from employees where salary>60000\").show()"
      ],
      "metadata": {
        "colab": {
          "base_uri": "https://localhost:8080/"
        },
        "id": "nWKf2Xxj3KAG",
        "outputId": "8cbf049e-b7ca-4493-d788-e70626edbe1e"
      },
      "execution_count": 6,
      "outputs": [
        {
          "output_type": "stream",
          "name": "stdout",
          "text": [
            "+-----+------+\n",
            "| Name|Salary|\n",
            "+-----+------+\n",
            "|Sneha| 80000|\n",
            "|Anita| 85000|\n",
            "+-----+------+\n",
            "\n"
          ]
        }
      ]
    },
    {
      "cell_type": "code",
      "source": [
        "spark.sql(\"\"\"\n",
        "select department,avg(salary) as avg_salary\n",
        "from employees\n",
        "group by department\n",
        "\"\"\").show()"
      ],
      "metadata": {
        "colab": {
          "base_uri": "https://localhost:8080/"
        },
        "id": "Q5nUhVNd3Y7u",
        "outputId": "a8a10d2b-9d53-4939-a4df-38dd386fc0b6"
      },
      "execution_count": 7,
      "outputs": [
        {
          "output_type": "stream",
          "name": "stdout",
          "text": [
            "+-----------+----------+\n",
            "| department|avg_salary|\n",
            "+-----------+----------+\n",
            "|      Sales|   52500.0|\n",
            "|Engineering|   82500.0|\n",
            "|         HR|   45000.0|\n",
            "+-----------+----------+\n",
            "\n"
          ]
        }
      ]
    },
    {
      "cell_type": "code",
      "source": [
        "spark.sql(\"select * from employees order by salary desc\").show()"
      ],
      "metadata": {
        "colab": {
          "base_uri": "https://localhost:8080/"
        },
        "id": "eLsiPYZc3pml",
        "outputId": "7cbbfd76-bfaa-4f4c-ce94-0cfc22289b3c"
      },
      "execution_count": 8,
      "outputs": [
        {
          "output_type": "stream",
          "name": "stdout",
          "text": [
            "+-----+-----+-----------+------+\n",
            "|EmpID| Name| Department|Salary|\n",
            "+-----+-----+-----------+------+\n",
            "|  104|Anita|Engineering| 85000|\n",
            "|  102|Sneha|Engineering| 80000|\n",
            "|  105| Amit|      Sales| 55000|\n",
            "|  101| Ravi|      Sales| 50000|\n",
            "|  103|Kabir|         HR| 45000|\n",
            "+-----+-----+-----------+------+\n",
            "\n"
          ]
        }
      ]
    },
    {
      "cell_type": "markdown",
      "source": [
        "Global View which can be accessed in the other sesion also"
      ],
      "metadata": {
        "id": "lTDajk0Z7I9n"
      }
    },
    {
      "cell_type": "code",
      "source": [
        "df.createOrReplaceGlobalTempView(\"employees_global\")"
      ],
      "metadata": {
        "id": "iHUd7JHp4DNW"
      },
      "execution_count": 9,
      "outputs": []
    },
    {
      "cell_type": "code",
      "source": [
        "spark.sql(\"select * from global_temp.employees_global\").show()"
      ],
      "metadata": {
        "colab": {
          "base_uri": "https://localhost:8080/"
        },
        "id": "EbXoo7N66Quc",
        "outputId": "99892b9a-45b0-4d56-97a7-cdbe786df850"
      },
      "execution_count": 10,
      "outputs": [
        {
          "output_type": "stream",
          "name": "stdout",
          "text": [
            "+-----+-----+-----------+------+\n",
            "|EmpID| Name| Department|Salary|\n",
            "+-----+-----+-----------+------+\n",
            "|  101| Ravi|      Sales| 50000|\n",
            "|  102|Sneha|Engineering| 80000|\n",
            "|  103|Kabir|         HR| 45000|\n",
            "|  104|Anita|Engineering| 85000|\n",
            "|  105| Amit|      Sales| 55000|\n",
            "+-----+-----+-----------+------+\n",
            "\n"
          ]
        }
      ]
    },
    {
      "cell_type": "markdown",
      "source": [
        "To access the global view in th eother session ** global_temp.table name**"
      ],
      "metadata": {
        "id": "WC6UazUh7ReL"
      }
    },
    {
      "cell_type": "code",
      "source": [
        "new_spark = SparkSession.builder.appName(\"NewSession\").getOrCreate()\n",
        "new_spark.sql(\"select * from global_temp.employees_global\").show()"
      ],
      "metadata": {
        "colab": {
          "base_uri": "https://localhost:8080/"
        },
        "id": "Cze3aTTg6Ots",
        "outputId": "38314e2b-16e6-4049-a86f-358063ad47ed"
      },
      "execution_count": 11,
      "outputs": [
        {
          "output_type": "stream",
          "name": "stdout",
          "text": [
            "+-----+-----+-----------+------+\n",
            "|EmpID| Name| Department|Salary|\n",
            "+-----+-----+-----------+------+\n",
            "|  101| Ravi|      Sales| 50000|\n",
            "|  102|Sneha|Engineering| 80000|\n",
            "|  103|Kabir|         HR| 45000|\n",
            "|  104|Anita|Engineering| 85000|\n",
            "|  105| Amit|      Sales| 55000|\n",
            "+-----+-----+-----------+------+\n",
            "\n"
          ]
        }
      ]
    },
    {
      "cell_type": "code",
      "source": [],
      "metadata": {
        "id": "6UHSnRjI7H1c"
      },
      "execution_count": null,
      "outputs": []
    }
  ]
}