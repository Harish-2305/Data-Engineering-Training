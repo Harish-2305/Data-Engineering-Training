{
  "nbformat": 4,
  "nbformat_minor": 0,
  "metadata": {
    "colab": {
      "provenance": []
    },
    "kernelspec": {
      "name": "python3",
      "display_name": "Python 3"
    },
    "language_info": {
      "name": "python"
    }
  },
  "cells": [
    {
      "cell_type": "markdown",
      "source": [
        "**Preparation Instructions**\n",
        "1. Create a PySpark DataFrame with the following schema:\n",
        "\n",
        "\n",
        "1. OrderID (int)\n",
        "2. CustomerName (string)\n",
        "3. Product (string)\n",
        "4. Category (string)\n",
        "5. Quantity (int)\n",
        "6. UnitPrice (int)\n",
        "7. OrderDate (string in YYYY-MM-DD format)\n",
        "\n",
        "\n",
        "2. Sample at least 12 rows across multiple categories:\n",
        "\n",
        "\"Electronics\" , \"Clothing\" , \"Furniture\" , \"Books\""
      ],
      "metadata": {
        "id": "s_kZKq79X7T0"
      }
    },
    {
      "cell_type": "code",
      "execution_count": 77,
      "metadata": {
        "id": "OzBApSVFLPY5"
      },
      "outputs": [],
      "source": [
        "from pyspark.sql import Row\n",
        "data=[\n",
        "    Row(OrderID=1,CustomerName='Harish',Product='Laptop',Category='Electronics',Quantity=1,UnitPrice=45000,OrderDate='2023-01-17'),\n",
        "    Row(OrderID=2,CustomerName='Vishal',Product='T shirt',Category='Clothing',Quantity=2,UnitPrice=400,OrderDate='2023-01-19'),\n",
        "    Row(OrderID=3,CustomerName='Valarmathi',Product='Mixer',Category='Electronics',Quantity=1,UnitPrice=1999,OrderDate='2023-01-22'),\n",
        "    Row(OrderID=4,CustomerName='Saravanan',Product='Wooden Table',Category='Furniture',Quantity=1,UnitPrice=15000,OrderDate='2023-01-22'),\n",
        "    Row(OrderID=5,CustomerName='Vishal',Product='Sports Shoe',Category='Clothing',Quantity=1,UnitPrice=599,OrderDate='2023-01-25'),\n",
        "    Row(OrderID=6,CustomerName='Harish',Product='C-type Cable',Category='Electronics',Quantity=3,UnitPrice=200,OrderDate='2023-01-29'),\n",
        "    Row(OrderID=7,CustomerName='Indhu',Product='Power of Mind',Category='Books',Quantity=1,UnitPrice=400,OrderDate='2023-02-01'),\n",
        "    Row(OrderID=8,CustomerName='Indhu',Product='Real Face',Category='Books',Quantity=2,UnitPrice=350,OrderDate='2023-02-10'),\n",
        "    Row(OrderID=9,CustomerName='Saravanan',Product='Wooden Chair',Category='Furniture',Quantity=6,UnitPrice=1500,OrderDate='2023-02-11'),\n",
        "    Row(OrderID=10,CustomerName='Vasanth',Product='T shirt',Category='Clothing',Quantity=2,UnitPrice=699,OrderDate='2023-02-14'),\n",
        "    Row(OrderID=11,CustomerName='Vishal',Product='Earbuds-samsung',Category='Electronics',Quantity=1,UnitPrice=1499,OrderDate='2023-02-14'),\n",
        "    Row(OrderID=12,CustomerName='Indhu',Product='The last word',Category='Books',Quantity=1,UnitPrice=300,OrderDate='2023-02-20'),\n",
        "    Row(OrderID=13,CustomerName='PalniSamy',Product='Cotton Towel',Category='Clothing',Quantity=5,UnitPrice=150,OrderDate='2023-02-25'),\n",
        "    Row(OrderID=14,CustomerName='Barani',Product='Samasung S20 Ultra',Category='Electronics',Quantity=1,UnitPrice=65000,OrderDate='2023-03-01'),\n",
        "    Row(OrderID=15,CustomerName='Vishal',Product='Shoe Stand',Category='Furniture',Quantity=1,UnitPrice=699,OrderDate='2023-03-01'),\n",
        "    Row(OrderID=16,CustomerName='Indhu',Product='HP Printer',Category='Electronics',Quantity=1,UnitPrice=15000,OrderDate='2023-03-07')\n",
        "]"
      ]
    },
    {
      "cell_type": "markdown",
      "source": [
        "3. Create:\n",
        "\n",
        "A local temporary view: \"orders_local\"\n",
        "\n",
        "A global temporary view: \"orders_global\""
      ],
      "metadata": {
        "id": "3yLWcjbUfBTE"
      }
    },
    {
      "cell_type": "code",
      "source": [
        "from pyspark.sql import SparkSession\n",
        "spark=SparkSession.builder.appName('E_com_Orders').getOrCreate()\n",
        "df=spark.createDataFrame(data)\n",
        "df.createOrReplaceTempView(\"orders_local\")\n",
        "df.createOrReplaceGlobalTempView(\"orders_global\")\n",
        "df.show()"
      ],
      "metadata": {
        "colab": {
          "base_uri": "https://localhost:8080/"
        },
        "id": "wqVIv6xye619",
        "outputId": "4d1f18d5-c4b5-49da-dfa1-33a5425439d7"
      },
      "execution_count": 78,
      "outputs": [
        {
          "output_type": "stream",
          "name": "stdout",
          "text": [
            "+-------+------------+------------------+-----------+--------+---------+----------+\n",
            "|OrderID|CustomerName|           Product|   Category|Quantity|UnitPrice| OrderDate|\n",
            "+-------+------------+------------------+-----------+--------+---------+----------+\n",
            "|      1|      Harish|            Laptop|Electronics|       1|    45000|2023-01-17|\n",
            "|      2|      Vishal|           T shirt|   Clothing|       2|      400|2023-01-19|\n",
            "|      3|  Valarmathi|             Mixer|Electronics|       1|     1999|2023-01-22|\n",
            "|      4|   Saravanan|      Wooden Table|  Furniture|       1|    15000|2023-01-22|\n",
            "|      5|      Vishal|       Sports Shoe|   Clothing|       1|      599|2023-01-25|\n",
            "|      6|      Harish|      C-type Cable|Electronics|       3|      200|2023-01-29|\n",
            "|      7|       Indhu|     Power of Mind|      Books|       1|      400|2023-02-01|\n",
            "|      8|       Indhu|         Real Face|      Books|       2|      350|2023-02-10|\n",
            "|      9|   Saravanan|      Wooden Chair|  Furniture|       6|     1500|2023-02-11|\n",
            "|     10|     Vasanth|           T shirt|   Clothing|       2|      699|2023-02-14|\n",
            "|     11|      Vishal|   Earbuds-samsung|Electronics|       1|     1499|2023-02-14|\n",
            "|     12|       Indhu|     The last word|      Books|       1|      300|2023-02-20|\n",
            "|     13|   PalniSamy|      Cotton Towel|   Clothing|       5|      150|2023-02-25|\n",
            "|     14|      Barani|Samasung S20 Ultra|Electronics|       1|    65000|2023-03-01|\n",
            "|     15|      Vishal|        Shoe Stand|  Furniture|       1|      699|2023-03-01|\n",
            "|     16|       Indhu|        HP Printer|Electronics|       1|    15000|2023-03-07|\n",
            "+-------+------------+------------------+-----------+--------+---------+----------+\n",
            "\n"
          ]
        }
      ]
    },
    {
      "cell_type": "markdown",
      "source": [
        "**Part A: Local View – orders_local**\n",
        "\n",
        "1. List all orders placed for \"Electronics\" with a Quantity of 2 or more."
      ],
      "metadata": {
        "id": "BvGGRYzyf4LG"
      }
    },
    {
      "cell_type": "code",
      "source": [
        "spark.sql(\"select * from orders_local where Category='Electronics' and Quantity>=2\").show()"
      ],
      "metadata": {
        "colab": {
          "base_uri": "https://localhost:8080/"
        },
        "id": "_or5Av3vfjfR",
        "outputId": "2e685780-07cf-489a-f54e-6010fde15026"
      },
      "execution_count": 79,
      "outputs": [
        {
          "output_type": "stream",
          "name": "stdout",
          "text": [
            "+-------+------------+------------+-----------+--------+---------+----------+\n",
            "|OrderID|CustomerName|     Product|   Category|Quantity|UnitPrice| OrderDate|\n",
            "+-------+------------+------------+-----------+--------+---------+----------+\n",
            "|      6|      Harish|C-type Cable|Electronics|       3|      200|2023-01-29|\n",
            "+-------+------------+------------+-----------+--------+---------+----------+\n",
            "\n"
          ]
        }
      ]
    },
    {
      "cell_type": "markdown",
      "source": [
        "2. Calculate TotalAmount (Quantity × UnitPrice) for each order."
      ],
      "metadata": {
        "id": "k8IDEKqvgStB"
      }
    },
    {
      "cell_type": "code",
      "source": [
        "spark.sql(\"select *,Quantity*unitPrice as Total_Amount from orders_local\").show()"
      ],
      "metadata": {
        "colab": {
          "base_uri": "https://localhost:8080/"
        },
        "id": "F9C9psX5gVpy",
        "outputId": "b91fc349-32de-4007-bc83-44901227fe44"
      },
      "execution_count": 80,
      "outputs": [
        {
          "output_type": "stream",
          "name": "stdout",
          "text": [
            "+-------+------------+------------------+-----------+--------+---------+----------+------------+\n",
            "|OrderID|CustomerName|           Product|   Category|Quantity|UnitPrice| OrderDate|Total_Amount|\n",
            "+-------+------------+------------------+-----------+--------+---------+----------+------------+\n",
            "|      1|      Harish|            Laptop|Electronics|       1|    45000|2023-01-17|       45000|\n",
            "|      2|      Vishal|           T shirt|   Clothing|       2|      400|2023-01-19|         800|\n",
            "|      3|  Valarmathi|             Mixer|Electronics|       1|     1999|2023-01-22|        1999|\n",
            "|      4|   Saravanan|      Wooden Table|  Furniture|       1|    15000|2023-01-22|       15000|\n",
            "|      5|      Vishal|       Sports Shoe|   Clothing|       1|      599|2023-01-25|         599|\n",
            "|      6|      Harish|      C-type Cable|Electronics|       3|      200|2023-01-29|         600|\n",
            "|      7|       Indhu|     Power of Mind|      Books|       1|      400|2023-02-01|         400|\n",
            "|      8|       Indhu|         Real Face|      Books|       2|      350|2023-02-10|         700|\n",
            "|      9|   Saravanan|      Wooden Chair|  Furniture|       6|     1500|2023-02-11|        9000|\n",
            "|     10|     Vasanth|           T shirt|   Clothing|       2|      699|2023-02-14|        1398|\n",
            "|     11|      Vishal|   Earbuds-samsung|Electronics|       1|     1499|2023-02-14|        1499|\n",
            "|     12|       Indhu|     The last word|      Books|       1|      300|2023-02-20|         300|\n",
            "|     13|   PalniSamy|      Cotton Towel|   Clothing|       5|      150|2023-02-25|         750|\n",
            "|     14|      Barani|Samasung S20 Ultra|Electronics|       1|    65000|2023-03-01|       65000|\n",
            "|     15|      Vishal|        Shoe Stand|  Furniture|       1|      699|2023-03-01|         699|\n",
            "|     16|       Indhu|        HP Printer|Electronics|       1|    15000|2023-03-07|       15000|\n",
            "+-------+------------+------------------+-----------+--------+---------+----------+------------+\n",
            "\n"
          ]
        }
      ]
    },
    {
      "cell_type": "markdown",
      "source": [
        "3. Show the total number of orders per Category ."
      ],
      "metadata": {
        "id": "2iC9fBtsgxLF"
      }
    },
    {
      "cell_type": "code",
      "source": [
        "spark.sql(\"select Category,count(*) as Total_Orders from orders_local group by Category\").show()"
      ],
      "metadata": {
        "colab": {
          "base_uri": "https://localhost:8080/"
        },
        "id": "ZxxlAfqogzS_",
        "outputId": "c16521aa-7e16-44ed-8b00-09813913546c"
      },
      "execution_count": 81,
      "outputs": [
        {
          "output_type": "stream",
          "name": "stdout",
          "text": [
            "+-----------+------------+\n",
            "|   Category|Total_Orders|\n",
            "+-----------+------------+\n",
            "|Electronics|           6|\n",
            "|   Clothing|           4|\n",
            "|      Books|           3|\n",
            "|  Furniture|           3|\n",
            "+-----------+------------+\n",
            "\n"
          ]
        }
      ]
    },
    {
      "cell_type": "markdown",
      "source": [
        "4. List orders placed in \"January 2023\" only."
      ],
      "metadata": {
        "id": "cdMgc-0NhCni"
      }
    },
    {
      "cell_type": "code",
      "source": [
        "spark.sql(\"select * from orders_local where OrderDate like '2023-01%' \").show()"
      ],
      "metadata": {
        "colab": {
          "base_uri": "https://localhost:8080/"
        },
        "id": "UfWUNchPhGSs",
        "outputId": "9c73f4ba-7639-497a-b0f4-8e026e537cc4"
      },
      "execution_count": 82,
      "outputs": [
        {
          "output_type": "stream",
          "name": "stdout",
          "text": [
            "+-------+------------+------------+-----------+--------+---------+----------+\n",
            "|OrderID|CustomerName|     Product|   Category|Quantity|UnitPrice| OrderDate|\n",
            "+-------+------------+------------+-----------+--------+---------+----------+\n",
            "|      1|      Harish|      Laptop|Electronics|       1|    45000|2023-01-17|\n",
            "|      2|      Vishal|     T shirt|   Clothing|       2|      400|2023-01-19|\n",
            "|      3|  Valarmathi|       Mixer|Electronics|       1|     1999|2023-01-22|\n",
            "|      4|   Saravanan|Wooden Table|  Furniture|       1|    15000|2023-01-22|\n",
            "|      5|      Vishal| Sports Shoe|   Clothing|       1|      599|2023-01-25|\n",
            "|      6|      Harish|C-type Cable|Electronics|       3|      200|2023-01-29|\n",
            "+-------+------------+------------+-----------+--------+---------+----------+\n",
            "\n"
          ]
        }
      ]
    },
    {
      "cell_type": "markdown",
      "source": [
        "5. Show the average UnitPrice per category."
      ],
      "metadata": {
        "id": "MM6za0WahbrT"
      }
    },
    {
      "cell_type": "code",
      "source": [
        "spark.sql(\"select Category,avg(UnitPrice) as AVG_UnitPrice from orders_local group by Category\").show()"
      ],
      "metadata": {
        "colab": {
          "base_uri": "https://localhost:8080/"
        },
        "id": "6s_CZygmheKQ",
        "outputId": "5e4603dc-7621-4f21-e0cd-6502108d8aae"
      },
      "execution_count": 83,
      "outputs": [
        {
          "output_type": "stream",
          "name": "stdout",
          "text": [
            "+-----------+------------------+\n",
            "|   Category|     AVG_UnitPrice|\n",
            "+-----------+------------------+\n",
            "|Electronics|21449.666666666668|\n",
            "|   Clothing|             462.0|\n",
            "|      Books|             350.0|\n",
            "|  Furniture|            5733.0|\n",
            "+-----------+------------------+\n",
            "\n"
          ]
        }
      ]
    },
    {
      "cell_type": "markdown",
      "source": [
        "6. Find the order with the highest total amount."
      ],
      "metadata": {
        "id": "UZquD80LhusE"
      }
    },
    {
      "cell_type": "code",
      "source": [
        "spark.sql(\"select *,Quantity*UnitPrice as Total_Price from orders_local order by Total_Price desc limit 1\").show()"
      ],
      "metadata": {
        "colab": {
          "base_uri": "https://localhost:8080/"
        },
        "id": "sGpoEjXzhxWW",
        "outputId": "eaaeb7f5-44cf-41ed-9aba-2b8ed817509a"
      },
      "execution_count": 84,
      "outputs": [
        {
          "output_type": "stream",
          "name": "stdout",
          "text": [
            "+-------+------------+------------------+-----------+--------+---------+----------+-----------+\n",
            "|OrderID|CustomerName|           Product|   Category|Quantity|UnitPrice| OrderDate|Total_Price|\n",
            "+-------+------------+------------------+-----------+--------+---------+----------+-----------+\n",
            "|     14|      Barani|Samasung S20 Ultra|Electronics|       1|    65000|2023-03-01|      65000|\n",
            "+-------+------------+------------------+-----------+--------+---------+----------+-----------+\n",
            "\n"
          ]
        }
      ]
    },
    {
      "cell_type": "markdown",
      "source": [
        "7. Drop the local view and try querying it again."
      ],
      "metadata": {
        "id": "V2ula-u5iw5G"
      }
    },
    {
      "cell_type": "code",
      "source": [
        "spark.sql(\"Drop view orders_local\")\n",
        "# spark.sql(\"select * from orders_local\")"
      ],
      "metadata": {
        "colab": {
          "base_uri": "https://localhost:8080/"
        },
        "id": "1i0tYLItizYM",
        "outputId": "1ae785cf-095e-498b-e0fd-3be37a2def03"
      },
      "execution_count": 85,
      "outputs": [
        {
          "output_type": "execute_result",
          "data": {
            "text/plain": [
              "DataFrame[]"
            ]
          },
          "metadata": {},
          "execution_count": 85
        }
      ]
    },
    {
      "cell_type": "markdown",
      "source": [
        "Part B: Global View – orders_global\n",
        "1. Display all \"Furniture\" orders with TotalAmount above\n",
        "10,000."
      ],
      "metadata": {
        "id": "sPuuN6jsi6Wh"
      }
    },
    {
      "cell_type": "code",
      "source": [
        "spark.sql(\"select * from global_temp.orders_global where Category='Furniture' and (Quantity*unitPrice)>10000\").show()"
      ],
      "metadata": {
        "colab": {
          "base_uri": "https://localhost:8080/"
        },
        "id": "oJO8Lt9mi6F2",
        "outputId": "08ed0c2b-2cb6-4116-99d7-bbefaaf1d0f7"
      },
      "execution_count": 86,
      "outputs": [
        {
          "output_type": "stream",
          "name": "stdout",
          "text": [
            "+-------+------------+------------+---------+--------+---------+----------+\n",
            "|OrderID|CustomerName|     Product| Category|Quantity|UnitPrice| OrderDate|\n",
            "+-------+------------+------------+---------+--------+---------+----------+\n",
            "|      4|   Saravanan|Wooden Table|Furniture|       1|    15000|2023-01-22|\n",
            "+-------+------------+------------+---------+--------+---------+----------+\n",
            "\n"
          ]
        }
      ]
    },
    {
      "cell_type": "markdown",
      "source": [
        "2. Create a column called DiscountFlag :\n",
        "\n",
        "Mark \"Yes\" if Quantity > 3\n",
        "\n",
        "Otherwise \"No\""
      ],
      "metadata": {
        "id": "CV-xoLvcr-qz"
      }
    },
    {
      "cell_type": "code",
      "source": [
        "spark.sql(\"\"\"\n",
        "select * ,\n",
        "case when Quantity>3 then 'Yes'\n",
        "else 'No'\n",
        "end as DiscountFlag\n",
        "from global_temp.orders_global\n",
        "\"\"\").show()"
      ],
      "metadata": {
        "colab": {
          "base_uri": "https://localhost:8080/"
        },
        "id": "spf5gHnZr-Qj",
        "outputId": "26894d0c-9d64-4d90-d36b-ddffcea5fa29"
      },
      "execution_count": 87,
      "outputs": [
        {
          "output_type": "stream",
          "name": "stdout",
          "text": [
            "+-------+------------+------------------+-----------+--------+---------+----------+------------+\n",
            "|OrderID|CustomerName|           Product|   Category|Quantity|UnitPrice| OrderDate|DiscountFlag|\n",
            "+-------+------------+------------------+-----------+--------+---------+----------+------------+\n",
            "|      1|      Harish|            Laptop|Electronics|       1|    45000|2023-01-17|          No|\n",
            "|      2|      Vishal|           T shirt|   Clothing|       2|      400|2023-01-19|          No|\n",
            "|      3|  Valarmathi|             Mixer|Electronics|       1|     1999|2023-01-22|          No|\n",
            "|      4|   Saravanan|      Wooden Table|  Furniture|       1|    15000|2023-01-22|          No|\n",
            "|      5|      Vishal|       Sports Shoe|   Clothing|       1|      599|2023-01-25|          No|\n",
            "|      6|      Harish|      C-type Cable|Electronics|       3|      200|2023-01-29|          No|\n",
            "|      7|       Indhu|     Power of Mind|      Books|       1|      400|2023-02-01|          No|\n",
            "|      8|       Indhu|         Real Face|      Books|       2|      350|2023-02-10|          No|\n",
            "|      9|   Saravanan|      Wooden Chair|  Furniture|       6|     1500|2023-02-11|         Yes|\n",
            "|     10|     Vasanth|           T shirt|   Clothing|       2|      699|2023-02-14|          No|\n",
            "|     11|      Vishal|   Earbuds-samsung|Electronics|       1|     1499|2023-02-14|          No|\n",
            "|     12|       Indhu|     The last word|      Books|       1|      300|2023-02-20|          No|\n",
            "|     13|   PalniSamy|      Cotton Towel|   Clothing|       5|      150|2023-02-25|         Yes|\n",
            "|     14|      Barani|Samasung S20 Ultra|Electronics|       1|    65000|2023-03-01|          No|\n",
            "|     15|      Vishal|        Shoe Stand|  Furniture|       1|      699|2023-03-01|          No|\n",
            "|     16|       Indhu|        HP Printer|Electronics|       1|    15000|2023-03-07|          No|\n",
            "+-------+------------+------------------+-----------+--------+---------+----------+------------+\n",
            "\n"
          ]
        }
      ]
    },
    {
      "cell_type": "markdown",
      "source": [
        "3. List customers who ordered more than 1 product type (Hint: use GROUP BY and\n",
        "HAVING)."
      ],
      "metadata": {
        "id": "7t4-Bk2Cswfo"
      }
    },
    {
      "cell_type": "code",
      "source": [
        "spark.sql(\"select CustomerName,count(Distinct Product) from global_temp.orders_global group by CustomerName\").show()"
      ],
      "metadata": {
        "colab": {
          "base_uri": "https://localhost:8080/"
        },
        "id": "ySNCXjzAszFd",
        "outputId": "f4cfc3ad-e1c1-4088-914f-1cdb7ce7973b"
      },
      "execution_count": 88,
      "outputs": [
        {
          "output_type": "stream",
          "name": "stdout",
          "text": [
            "+------------+-----------------------+\n",
            "|CustomerName|count(DISTINCT Product)|\n",
            "+------------+-----------------------+\n",
            "|      Barani|                      1|\n",
            "|   PalniSamy|                      1|\n",
            "|      Harish|                      2|\n",
            "|   Saravanan|                      2|\n",
            "|     Vasanth|                      1|\n",
            "|  Valarmathi|                      1|\n",
            "|      Vishal|                      4|\n",
            "|       Indhu|                      4|\n",
            "+------------+-----------------------+\n",
            "\n"
          ]
        }
      ]
    },
    {
      "cell_type": "markdown",
      "source": [
        "4. Count number of orders per month across the dataset."
      ],
      "metadata": {
        "id": "aBfkIx6UtQu2"
      }
    },
    {
      "cell_type": "code",
      "source": [
        "spark.sql(\"select month(OrderDate) as Month,count(*) from global_temp.orders_global group by Month\").show()"
      ],
      "metadata": {
        "colab": {
          "base_uri": "https://localhost:8080/"
        },
        "id": "2TsbLlVbteR-",
        "outputId": "31f2af95-9806-4cf1-cf97-5e8ccf979a68"
      },
      "execution_count": 89,
      "outputs": [
        {
          "output_type": "stream",
          "name": "stdout",
          "text": [
            "+-----+--------+\n",
            "|Month|count(1)|\n",
            "+-----+--------+\n",
            "|    1|       6|\n",
            "|    2|       7|\n",
            "|    3|       3|\n",
            "+-----+--------+\n",
            "\n"
          ]
        }
      ]
    },
    {
      "cell_type": "markdown",
      "source": [
        "5. Rank all products by total quantity sold across all orders using a window\n",
        "function."
      ],
      "metadata": {
        "id": "fdKn8PmEuPrw"
      }
    },
    {
      "cell_type": "code",
      "source": [
        "from pyspark.sql.window import Window\n",
        "from pyspark.sql.functions import rank\n",
        "windowSpec=Window.partitionBy().orderBy(df['Quantity'].desc())\n",
        "df_with_rank=df.withColumn(\"rank\",rank().over(windowSpec))\n",
        "df_with_rank.show()"
      ],
      "metadata": {
        "colab": {
          "base_uri": "https://localhost:8080/"
        },
        "id": "dt5l0PpauSTq",
        "outputId": "116f62ed-2161-491b-dbfc-3486da7db811"
      },
      "execution_count": 90,
      "outputs": [
        {
          "output_type": "stream",
          "name": "stdout",
          "text": [
            "+-------+------------+------------------+-----------+--------+---------+----------+----+\n",
            "|OrderID|CustomerName|           Product|   Category|Quantity|UnitPrice| OrderDate|rank|\n",
            "+-------+------------+------------------+-----------+--------+---------+----------+----+\n",
            "|      9|   Saravanan|      Wooden Chair|  Furniture|       6|     1500|2023-02-11|   1|\n",
            "|     13|   PalniSamy|      Cotton Towel|   Clothing|       5|      150|2023-02-25|   2|\n",
            "|      6|      Harish|      C-type Cable|Electronics|       3|      200|2023-01-29|   3|\n",
            "|      2|      Vishal|           T shirt|   Clothing|       2|      400|2023-01-19|   4|\n",
            "|      8|       Indhu|         Real Face|      Books|       2|      350|2023-02-10|   4|\n",
            "|     10|     Vasanth|           T shirt|   Clothing|       2|      699|2023-02-14|   4|\n",
            "|      1|      Harish|            Laptop|Electronics|       1|    45000|2023-01-17|   7|\n",
            "|      3|  Valarmathi|             Mixer|Electronics|       1|     1999|2023-01-22|   7|\n",
            "|      4|   Saravanan|      Wooden Table|  Furniture|       1|    15000|2023-01-22|   7|\n",
            "|      5|      Vishal|       Sports Shoe|   Clothing|       1|      599|2023-01-25|   7|\n",
            "|      7|       Indhu|     Power of Mind|      Books|       1|      400|2023-02-01|   7|\n",
            "|     11|      Vishal|   Earbuds-samsung|Electronics|       1|     1499|2023-02-14|   7|\n",
            "|     12|       Indhu|     The last word|      Books|       1|      300|2023-02-20|   7|\n",
            "|     14|      Barani|Samasung S20 Ultra|Electronics|       1|    65000|2023-03-01|   7|\n",
            "|     15|      Vishal|        Shoe Stand|  Furniture|       1|      699|2023-03-01|   7|\n",
            "|     16|       Indhu|        HP Printer|Electronics|       1|    15000|2023-03-07|   7|\n",
            "+-------+------------+------------------+-----------+--------+---------+----------+----+\n",
            "\n"
          ]
        }
      ]
    },
    {
      "cell_type": "markdown",
      "source": [
        "6. Run a query using a new SparkSession and the global view."
      ],
      "metadata": {
        "id": "FEJ5hh5CvI4_"
      }
    },
    {
      "cell_type": "code",
      "source": [
        "new_spark=SparkSession.builder.appName('New_E_com_Orders').getOrCreate()\n",
        "new_spark.sql(\"select * from global_temp.orders_global\").show()"
      ],
      "metadata": {
        "colab": {
          "base_uri": "https://localhost:8080/"
        },
        "id": "37aoUxBBvLx3",
        "outputId": "9b10af81-1c40-438b-9aa3-3d81e96f9bc7"
      },
      "execution_count": 91,
      "outputs": [
        {
          "output_type": "stream",
          "name": "stdout",
          "text": [
            "+-------+------------+------------------+-----------+--------+---------+----------+\n",
            "|OrderID|CustomerName|           Product|   Category|Quantity|UnitPrice| OrderDate|\n",
            "+-------+------------+------------------+-----------+--------+---------+----------+\n",
            "|      1|      Harish|            Laptop|Electronics|       1|    45000|2023-01-17|\n",
            "|      2|      Vishal|           T shirt|   Clothing|       2|      400|2023-01-19|\n",
            "|      3|  Valarmathi|             Mixer|Electronics|       1|     1999|2023-01-22|\n",
            "|      4|   Saravanan|      Wooden Table|  Furniture|       1|    15000|2023-01-22|\n",
            "|      5|      Vishal|       Sports Shoe|   Clothing|       1|      599|2023-01-25|\n",
            "|      6|      Harish|      C-type Cable|Electronics|       3|      200|2023-01-29|\n",
            "|      7|       Indhu|     Power of Mind|      Books|       1|      400|2023-02-01|\n",
            "|      8|       Indhu|         Real Face|      Books|       2|      350|2023-02-10|\n",
            "|      9|   Saravanan|      Wooden Chair|  Furniture|       6|     1500|2023-02-11|\n",
            "|     10|     Vasanth|           T shirt|   Clothing|       2|      699|2023-02-14|\n",
            "|     11|      Vishal|   Earbuds-samsung|Electronics|       1|     1499|2023-02-14|\n",
            "|     12|       Indhu|     The last word|      Books|       1|      300|2023-02-20|\n",
            "|     13|   PalniSamy|      Cotton Towel|   Clothing|       5|      150|2023-02-25|\n",
            "|     14|      Barani|Samasung S20 Ultra|Electronics|       1|    65000|2023-03-01|\n",
            "|     15|      Vishal|        Shoe Stand|  Furniture|       1|      699|2023-03-01|\n",
            "|     16|       Indhu|        HP Printer|Electronics|       1|    15000|2023-03-07|\n",
            "+-------+------------+------------------+-----------+--------+---------+----------+\n",
            "\n"
          ]
        }
      ]
    },
    {
      "cell_type": "markdown",
      "source": [
        "**Bonus Challenges**\n",
        "1. Save a filtered subset (only \"Books\" category) as a new global temp view."
      ],
      "metadata": {
        "id": "l-snUw3NvYzo"
      }
    },
    {
      "cell_type": "code",
      "source": [
        "df_books=df.filter(df['Category']=='Books')\n",
        "df_books.createOrReplaceGlobalTempView(\"books_global\")\n",
        "spark.sql(\"select * from global_temp.books_global\").show()"
      ],
      "metadata": {
        "colab": {
          "base_uri": "https://localhost:8080/"
        },
        "id": "zZHEhC81vfgC",
        "outputId": "83b657cf-d7b8-4d1e-d0e4-6b2b8db6cbaf"
      },
      "execution_count": 92,
      "outputs": [
        {
          "output_type": "stream",
          "name": "stdout",
          "text": [
            "+-------+------------+-------------+--------+--------+---------+----------+\n",
            "|OrderID|CustomerName|      Product|Category|Quantity|UnitPrice| OrderDate|\n",
            "+-------+------------+-------------+--------+--------+---------+----------+\n",
            "|      7|       Indhu|Power of Mind|   Books|       1|      400|2023-02-01|\n",
            "|      8|       Indhu|    Real Face|   Books|       2|      350|2023-02-10|\n",
            "|     12|       Indhu|The last word|   Books|       1|      300|2023-02-20|\n",
            "+-------+------------+-------------+--------+--------+---------+----------+\n",
            "\n"
          ]
        }
      ]
    },
    {
      "cell_type": "markdown",
      "source": [
        "2. Find the most purchased product per category."
      ],
      "metadata": {
        "id": "7sfxQapPvxK8"
      }
    },
    {
      "cell_type": "code",
      "source": [
        "from pyspark.sql.window import Window\n",
        "from pyspark.sql.functions import rank\n",
        "windowSpec=Window.partitionBy('Category').orderBy(df['Quantity'].desc())\n",
        "df_with_rank_cat=df.withColumn(\"rank\",rank().over(windowSpec))\n",
        "df_with_rank_cat.filter(df_with_rank_cat['rank']==1).show()"
      ],
      "metadata": {
        "colab": {
          "base_uri": "https://localhost:8080/"
        },
        "id": "zCOHlGEoyKct",
        "outputId": "1f3b81ec-8733-4da3-e312-2805439552a7"
      },
      "execution_count": 93,
      "outputs": [
        {
          "output_type": "stream",
          "name": "stdout",
          "text": [
            "+-------+------------+------------+-----------+--------+---------+----------+----+\n",
            "|OrderID|CustomerName|     Product|   Category|Quantity|UnitPrice| OrderDate|rank|\n",
            "+-------+------------+------------+-----------+--------+---------+----------+----+\n",
            "|      8|       Indhu|   Real Face|      Books|       2|      350|2023-02-10|   1|\n",
            "|     13|   PalniSamy|Cotton Towel|   Clothing|       5|      150|2023-02-25|   1|\n",
            "|      6|      Harish|C-type Cable|Electronics|       3|      200|2023-01-29|   1|\n",
            "|      9|   Saravanan|Wooden Chair|  Furniture|       6|     1500|2023-02-11|   1|\n",
            "+-------+------------+------------+-----------+--------+---------+----------+----+\n",
            "\n"
          ]
        }
      ]
    },
    {
      "cell_type": "markdown",
      "source": [
        "3. Create a view that excludes all \"Clothing\" orders and call it\n",
        "\"filtered_orders\" ."
      ],
      "metadata": {
        "id": "xh1Z7bH5v3yK"
      }
    },
    {
      "cell_type": "code",
      "source": [
        "df_ex_cloth=df.filter(df['Category']!='Clothing')\n",
        "df_ex_cloth.createOrReplaceTempView(\"filtered_orders\")\n",
        "spark.sql(\"select * from filtered_orders\").show()"
      ],
      "metadata": {
        "colab": {
          "base_uri": "https://localhost:8080/"
        },
        "id": "c_NAdOB7v7oT",
        "outputId": "2e30b869-d9ff-4760-9a33-d27768fedb42"
      },
      "execution_count": 94,
      "outputs": [
        {
          "output_type": "stream",
          "name": "stdout",
          "text": [
            "+-------+------------+------------------+-----------+--------+---------+----------+\n",
            "|OrderID|CustomerName|           Product|   Category|Quantity|UnitPrice| OrderDate|\n",
            "+-------+------------+------------------+-----------+--------+---------+----------+\n",
            "|      1|      Harish|            Laptop|Electronics|       1|    45000|2023-01-17|\n",
            "|      3|  Valarmathi|             Mixer|Electronics|       1|     1999|2023-01-22|\n",
            "|      4|   Saravanan|      Wooden Table|  Furniture|       1|    15000|2023-01-22|\n",
            "|      6|      Harish|      C-type Cable|Electronics|       3|      200|2023-01-29|\n",
            "|      7|       Indhu|     Power of Mind|      Books|       1|      400|2023-02-01|\n",
            "|      8|       Indhu|         Real Face|      Books|       2|      350|2023-02-10|\n",
            "|      9|   Saravanan|      Wooden Chair|  Furniture|       6|     1500|2023-02-11|\n",
            "|     11|      Vishal|   Earbuds-samsung|Electronics|       1|     1499|2023-02-14|\n",
            "|     12|       Indhu|     The last word|      Books|       1|      300|2023-02-20|\n",
            "|     14|      Barani|Samasung S20 Ultra|Electronics|       1|    65000|2023-03-01|\n",
            "|     15|      Vishal|        Shoe Stand|  Furniture|       1|      699|2023-03-01|\n",
            "|     16|       Indhu|        HP Printer|Electronics|       1|    15000|2023-03-07|\n",
            "+-------+------------+------------------+-----------+--------+---------+----------+\n",
            "\n"
          ]
        }
      ]
    }
  ]
}