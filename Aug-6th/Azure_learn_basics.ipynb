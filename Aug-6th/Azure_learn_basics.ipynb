{
 "cells": [
  {
   "cell_type": "code",
   "execution_count": 0,
   "metadata": {
    "application/vnd.databricks.v1+cell": {
     "cellMetadata": {
      "byteLimit": 2048000,
      "rowLimit": 10000
     },
     "inputWidgets": {},
     "nuid": "ce25cb5f-b3d2-4320-bbe4-601b9edb8f19",
     "showTitle": false,
     "tableResultSettingsMap": {},
     "title": ""
    }
   },
   "outputs": [
    {
     "output_type": "stream",
     "name": "stdout",
     "output_type": "stream",
     "text": [
      "+----------+------------+--------+-----+\n|product_id|product_name|quantity|price|\n+----------+------------+--------+-----+\n|      P001|    Notebook|       3|45000|\n|      P002|    Keyboard|       2| 7000|\n|      P003|       Mouse|       5| 4000|\n|      P004|     Monitor|       1|15000|\n|      P005|       Chair|       4| 8000|\n+----------+------------+--------+-----+\n\n"
     ]
    }
   ],
   "source": [
    "data = [\n",
    "    (\"P001\", \"Notebook\", 3, 45000),\n",
    "    (\"P002\", \"Keyboard\", 2, 7000),\n",
    "    (\"P003\", \"Mouse\", 5, 4000),\n",
    "    (\"P004\", \"Monitor\", 1, 15000),\n",
    "    (\"P005\", \"Chair\", 4, 8000)\n",
    "]\n",
    "columns=[\"product_id\", \"product_name\", \"quantity\", \"price\"]\n",
    "df=spark.createDataFrame(data, columns)\n",
    "df.show()"
   ]
  },
  {
   "cell_type": "code",
   "execution_count": 0,
   "metadata": {
    "application/vnd.databricks.v1+cell": {
     "cellMetadata": {
      "byteLimit": 2048000,
      "rowLimit": 10000
     },
     "inputWidgets": {},
     "nuid": "3b9799af-0027-4ae6-9d00-abee27c0b9c8",
     "showTitle": false,
     "tableResultSettingsMap": {},
     "title": ""
    }
   },
   "outputs": [
    {
     "output_type": "execute_result",
     "data": {
      "text/plain": [
       "5"
      ]
     },
     "execution_count": 4,
     "metadata": {},
     "output_type": "execute_result"
    }
   ],
   "source": [
    "df.count()"
   ]
  },
  {
   "cell_type": "code",
   "execution_count": 0,
   "metadata": {
    "application/vnd.databricks.v1+cell": {
     "cellMetadata": {
      "byteLimit": 2048000,
      "rowLimit": 10000
     },
     "inputWidgets": {},
     "nuid": "8a834707-2af5-4c6a-87b6-f0b8d7e3cd94",
     "showTitle": false,
     "tableResultSettingsMap": {},
     "title": ""
    }
   },
   "outputs": [
    {
     "output_type": "stream",
     "name": "stdout",
     "output_type": "stream",
     "text": [
      "+----------+------------+--------+-----+-------+\n|product_id|product_name|quantity|price|revenue|\n+----------+------------+--------+-----+-------+\n|      P001|    Notebook|       3|45000| 135000|\n|      P002|    Keyboard|       2| 7000|  14000|\n|      P003|       Mouse|       5| 4000|  20000|\n|      P004|     Monitor|       1|15000|  15000|\n|      P005|       Chair|       4| 8000|  32000|\n+----------+------------+--------+-----+-------+\n\n"
     ]
    }
   ],
   "source": [
    "from pyspark.sql.functions import col\n",
    "\n",
    "df_with_revenue=df.withColumn(\"revenue\", col(\"quantity\")*col(\"price\"))\n",
    "df_with_revenue.select(\"product_id\", \"product_name\",\"quantity\",\"price\", \"revenue\").show()\n"
   ]
  },
  {
   "cell_type": "code",
   "execution_count": 0,
   "metadata": {
    "application/vnd.databricks.v1+cell": {
     "cellMetadata": {
      "byteLimit": 2048000,
      "rowLimit": 10000
     },
     "inputWidgets": {},
     "nuid": "65cf2610-4b2b-401d-be7f-38694a236889",
     "showTitle": false,
     "tableResultSettingsMap": {},
     "title": ""
    }
   },
   "outputs": [
    {
     "output_type": "stream",
     "name": "stdout",
     "output_type": "stream",
     "text": [
      "+----------+------------+--------+-----+\n|product_id|product_name|quantity|price|\n+----------+------------+--------+-----+\n|      P001|    Notebook|       3|45000|\n|      P004|     Monitor|       1|15000|\n+----------+------------+--------+-----+\n\n"
     ]
    }
   ],
   "source": [
    "df.filter(col(\"price\")>10000).show()"
   ]
  },
  {
   "cell_type": "markdown",
   "metadata": {
    "application/vnd.databricks.v1+cell": {
     "cellMetadata": {},
     "inputWidgets": {},
     "nuid": "e1d7f241-7722-4253-8a0a-73cef0fbec33",
     "showTitle": false,
     "tableResultSettingsMap": {},
     "title": ""
    }
   },
   "source": [
    "Analyze Employee Sales Data"
   ]
  },
  {
   "cell_type": "code",
   "execution_count": 0,
   "metadata": {
    "application/vnd.databricks.v1+cell": {
     "cellMetadata": {
      "byteLimit": 2048000,
      "rowLimit": 10000
     },
     "inputWidgets": {},
     "nuid": "1bebceec-5cd8-41b1-86e2-1a5051eb898f",
     "showTitle": false,
     "tableResultSettingsMap": {},
     "title": ""
    }
   },
   "outputs": [
    {
     "output_type": "stream",
     "name": "stdout",
     "output_type": "stream",
     "text": [
      "+-----+------+----------+---------+---------+\n|EmpID|  Name|Department|UnitsSold|UnitPrice|\n+-----+------+----------+---------+---------+\n| E101|  Amit|     Sales|       10|     1200|\n| E102| Sneha| Marketing|        8|     1500|\n| E103|  Ravi|     Sales|       12|     1300|\n| E104|Anjali|        HR|        7|     1100|\n| E105|   Raj|     Sales|        5|     1000|\n+-----+------+----------+---------+---------+\n\n"
     ]
    }
   ],
   "source": [
    "data = [\n",
    "    (\"E101\", \"Amit\", \"Sales\", 10, 1200),\n",
    "    (\"E102\", \"Sneha\", \"Marketing\", 8, 1500),\n",
    "    (\"E103\", \"Ravi\", \"Sales\", 12, 1300),\n",
    "    (\"E104\", \"Anjali\", \"HR\", 7, 1100),\n",
    "    (\"E105\", \"Raj\", \"Sales\", 5, 1000)\n",
    "]\n",
    " \n",
    "columns = [\"EmpID\", \"Name\", \"Department\", \"UnitsSold\", \"UnitPrice\"]\n",
    " \n",
    "df = spark.createDataFrame(data, columns)\n",
    "df.show()"
   ]
  },
  {
   "cell_type": "markdown",
   "metadata": {
    "application/vnd.databricks.v1+cell": {
     "cellMetadata": {},
     "inputWidgets": {},
     "nuid": "6b1961bc-ed1c-45e6-91c7-487d48183e45",
     "showTitle": false,
     "tableResultSettingsMap": {},
     "title": ""
    }
   },
   "source": [
    "Tasks\n",
    " \n",
    "Show Total Number employees"
   ]
  },
  {
   "cell_type": "code",
   "execution_count": 0,
   "metadata": {
    "application/vnd.databricks.v1+cell": {
     "cellMetadata": {
      "byteLimit": 2048000,
      "rowLimit": 10000
     },
     "inputWidgets": {},
     "nuid": "c829251b-6f68-4817-83d4-541d4f354507",
     "showTitle": false,
     "tableResultSettingsMap": {},
     "title": ""
    }
   },
   "outputs": [
    {
     "output_type": "execute_result",
     "data": {
      "text/plain": [
       "5"
      ]
     },
     "execution_count": 21,
     "metadata": {},
     "output_type": "execute_result"
    }
   ],
   "source": [
    "df.count()"
   ]
  },
  {
   "cell_type": "markdown",
   "metadata": {
    "application/vnd.databricks.v1+cell": {
     "cellMetadata": {},
     "inputWidgets": {},
     "nuid": "85d2f112-23ec-4a2c-ab50-cc0017bd4e19",
     "showTitle": false,
     "tableResultSettingsMap": {},
     "title": ""
    }
   },
   "source": [
    "Add a new column TotalSales (unitssold*unitprice)"
   ]
  },
  {
   "cell_type": "code",
   "execution_count": 0,
   "metadata": {
    "application/vnd.databricks.v1+cell": {
     "cellMetadata": {
      "byteLimit": 2048000,
      "rowLimit": 10000
     },
     "inputWidgets": {},
     "nuid": "4dae4624-b689-4284-816a-622c5706b926",
     "showTitle": false,
     "tableResultSettingsMap": {},
     "title": ""
    }
   },
   "outputs": [
    {
     "output_type": "stream",
     "name": "stdout",
     "output_type": "stream",
     "text": [
      "+-----+------+----------+---------+---------+----------+\n|EmpID|  Name|Department|UnitsSold|UnitPrice|TotalSales|\n+-----+------+----------+---------+---------+----------+\n| E101|  Amit|     Sales|       10|     1200|     12000|\n| E102| Sneha| Marketing|        8|     1500|     12000|\n| E103|  Ravi|     Sales|       12|     1300|     15600|\n| E104|Anjali|        HR|        7|     1100|      7700|\n| E105|   Raj|     Sales|        5|     1000|      5000|\n+-----+------+----------+---------+---------+----------+\n\n"
     ]
    }
   ],
   "source": [
    "df=df.withColumn(\"TotalSales\", col(\"UnitsSold\")*col(\"UnitPrice\"))\n",
    "df.show()"
   ]
  },
  {
   "cell_type": "markdown",
   "metadata": {
    "application/vnd.databricks.v1+cell": {
     "cellMetadata": {},
     "inputWidgets": {},
     "nuid": "907bc68d-27ee-482c-9e7b-615779090851",
     "showTitle": false,
     "tableResultSettingsMap": {},
     "title": ""
    }
   },
   "source": [
    "Show only Sales department empoyees with Total Sales>12000"
   ]
  },
  {
   "cell_type": "code",
   "execution_count": 0,
   "metadata": {
    "application/vnd.databricks.v1+cell": {
     "cellMetadata": {
      "byteLimit": 2048000,
      "rowLimit": 10000
     },
     "inputWidgets": {},
     "nuid": "772a1597-027b-423e-9338-6fe2ecbd73fc",
     "showTitle": false,
     "tableResultSettingsMap": {},
     "title": ""
    }
   },
   "outputs": [
    {
     "output_type": "stream",
     "name": "stdout",
     "output_type": "stream",
     "text": [
      "+-----+----+----------+---------+---------+----------+\n|EmpID|Name|Department|UnitsSold|UnitPrice|TotalSales|\n+-----+----+----------+---------+---------+----------+\n| E103|Ravi|     Sales|       12|     1300|     15600|\n+-----+----+----------+---------+---------+----------+\n\n"
     ]
    }
   ],
   "source": [
    "df.filter((col(\"Department\")==\"Sales\")&(col(\"TotalSales\")>12000)).show()"
   ]
  },
  {
   "cell_type": "markdown",
   "metadata": {
    "application/vnd.databricks.v1+cell": {
     "cellMetadata": {},
     "inputWidgets": {},
     "nuid": "09512898-86c1-457e-8228-4eaed296c364",
     "showTitle": false,
     "tableResultSettingsMap": {},
     "title": ""
    }
   },
   "source": [
    "Employee with the highest total sales"
   ]
  },
  {
   "cell_type": "code",
   "execution_count": 0,
   "metadata": {
    "application/vnd.databricks.v1+cell": {
     "cellMetadata": {
      "byteLimit": 2048000,
      "rowLimit": 10000
     },
     "inputWidgets": {},
     "nuid": "816c52b9-efb6-4cca-a31f-52f4438f01e5",
     "showTitle": false,
     "tableResultSettingsMap": {},
     "title": ""
    }
   },
   "outputs": [
    {
     "output_type": "stream",
     "name": "stdout",
     "output_type": "stream",
     "text": [
      "+-----+----+----------+---------+---------+----------+\n|EmpID|Name|Department|UnitsSold|UnitPrice|TotalSales|\n+-----+----+----------+---------+---------+----------+\n| E103|Ravi|     Sales|       12|     1300|     15600|\n+-----+----+----------+---------+---------+----------+\n\n"
     ]
    }
   ],
   "source": [
    "df.orderBy(col(\"TotalSales\").desc()).limit(1).show()"
   ]
  },
  {
   "cell_type": "markdown",
   "metadata": {
    "application/vnd.databricks.v1+cell": {
     "cellMetadata": {},
     "inputWidgets": {},
     "nuid": "df7b3dd4-74a2-466a-a013-47d53cd0912f",
     "showTitle": false,
     "tableResultSettingsMap": {},
     "title": ""
    }
   },
   "source": [
    "Sort employees by totalSales in descinding order"
   ]
  },
  {
   "cell_type": "code",
   "execution_count": 0,
   "metadata": {
    "application/vnd.databricks.v1+cell": {
     "cellMetadata": {
      "byteLimit": 2048000,
      "rowLimit": 10000
     },
     "inputWidgets": {},
     "nuid": "fc12ac1c-0591-4237-9609-dd1a6dd81b32",
     "showTitle": false,
     "tableResultSettingsMap": {},
     "title": ""
    }
   },
   "outputs": [
    {
     "output_type": "stream",
     "name": "stdout",
     "output_type": "stream",
     "text": [
      "+-----+------+----------+---------+---------+----------+\n|EmpID|  Name|Department|UnitsSold|UnitPrice|TotalSales|\n+-----+------+----------+---------+---------+----------+\n| E103|  Ravi|     Sales|       12|     1300|     15600|\n| E101|  Amit|     Sales|       10|     1200|     12000|\n| E102| Sneha| Marketing|        8|     1500|     12000|\n| E104|Anjali|        HR|        7|     1100|      7700|\n| E105|   Raj|     Sales|        5|     1000|      5000|\n+-----+------+----------+---------+---------+----------+\n\n"
     ]
    }
   ],
   "source": [
    "df.orderBy(col(\"TotalSales\").desc()).show()"
   ]
  },
  {
   "cell_type": "markdown",
   "metadata": {
    "application/vnd.databricks.v1+cell": {
     "cellMetadata": {},
     "inputWidgets": {},
     "nuid": "28eb178d-0765-4db1-88b2-e64a734528bf",
     "showTitle": false,
     "tableResultSettingsMap": {},
     "title": ""
    }
   },
   "source": []
  }
 ],
 "metadata": {
  "application/vnd.databricks.v1+notebook": {
   "computePreferences": null,
   "dashboards": [],
   "environmentMetadata": {
    "base_environment": "",
    "environment_version": "2"
   },
   "inputWidgetPreferences": null,
   "language": "python",
   "notebookMetadata": {
    "pythonIndentUnit": 4
   },
   "notebookName": "Azure_learn_basics",
   "widgets": {}
  },
  "language_info": {
   "name": "python"
  }
 },
 "nbformat": 4,
 "nbformat_minor": 0
}