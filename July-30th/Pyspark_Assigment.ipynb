{
  "nbformat": 4,
  "nbformat_minor": 0,
  "metadata": {
    "colab": {
      "provenance": []
    },
    "kernelspec": {
      "name": "python3",
      "display_name": "Python 3"
    },
    "language_info": {
      "name": "python"
    }
  },
  "cells": [
    {
      "cell_type": "markdown",
      "source": [
        "PySpark Assignment – Product Sales Analysis\n",
        "\n",
        "Part 1: Environment Setup\n",
        "\n",
        "1. Install Spark + Java in Google Colab.\n",
        "\n",
        "2. Initialize Spark with app name \"ProductSalesAnalysis\" ."
      ],
      "metadata": {
        "id": "IvFIZ3s48Tbo"
      }
    },
    {
      "cell_type": "code",
      "execution_count": 59,
      "metadata": {
        "id": "dRIRygdc7iVa"
      },
      "outputs": [],
      "source": [
        "from pyspark.sql import SparkSession\n",
        "import pyspark.sql.functions as F\n",
        "\n",
        "spark=SparkSession.builder.appName('ProductSalesAnalysis').getOrCreate()"
      ]
    },
    {
      "cell_type": "code",
      "source": [
        "from google.colab import drive\n",
        "drive.mount('/content/drive')"
      ],
      "metadata": {
        "colab": {
          "base_uri": "https://localhost:8080/"
        },
        "id": "ulu-zQ1OGmRM",
        "outputId": "232507a4-e715-4bd4-fdbc-5cfeb799ad26"
      },
      "execution_count": 60,
      "outputs": [
        {
          "output_type": "stream",
          "name": "stdout",
          "text": [
            "Drive already mounted at /content/drive; to attempt to forcibly remount, call drive.mount(\"/content/drive\", force_remount=True).\n"
          ]
        }
      ]
    },
    {
      "cell_type": "markdown",
      "source": [
        "Part 2: Load Sales Data from CSV\n",
        "\n",
        "Read the file into a PySpark DataFrame with header and inferred schema.\n",
        "\n",
        "Print schema and show top 5 rows."
      ],
      "metadata": {
        "id": "9oYWIQJv8bQM"
      }
    },
    {
      "cell_type": "code",
      "source": [
        "csv_data=\"\"\"OrderID,Product,Category,Quantity,UnitPrice,Region\n",
        "1001,Mobile,Electronics,2,15000,North\n",
        "1002,Laptop,Electronics,1,55000,South\n",
        "1003,T-Shirt,Apparel,3,500,East\n",
        "1004,Jeans,Apparel,2,1200,North\n",
        "1005,TV,Electronics,1,40000,West\n",
        "1006,Shoes,Footwear,4,2000,South\n",
        "1007,Watch,Accessories,2,3000,East\n",
        "1008,Headphones,Electronics,3,2500,North\"\"\"\n",
        "\n",
        "with open(\"/content/drive/MyDrive/Colab Notebooks/sales_data.csv\",\"w\") as f:\n",
        "  f.write(csv_data)\n",
        "\n",
        "df=spark.read.csv(\"/content/drive/My Drive/Colab Notebooks/sales_data.csv\",header=True,inferSchema=True)\n",
        "\n",
        "df.show(5)"
      ],
      "metadata": {
        "colab": {
          "base_uri": "https://localhost:8080/"
        },
        "id": "LGvP3ECo8RTz",
        "outputId": "13ddcdc3-14c2-4a4b-96eb-6a6a37c934ba"
      },
      "execution_count": 61,
      "outputs": [
        {
          "output_type": "stream",
          "name": "stdout",
          "text": [
            "+-------+-------+-----------+--------+---------+------+\n",
            "|OrderID|Product|   Category|Quantity|UnitPrice|Region|\n",
            "+-------+-------+-----------+--------+---------+------+\n",
            "|   1001| Mobile|Electronics|       2|    15000| North|\n",
            "|   1002| Laptop|Electronics|       1|    55000| South|\n",
            "|   1003|T-Shirt|    Apparel|       3|      500|  East|\n",
            "|   1004|  Jeans|    Apparel|       2|     1200| North|\n",
            "|   1005|     TV|Electronics|       1|    40000|  West|\n",
            "+-------+-------+-----------+--------+---------+------+\n",
            "only showing top 5 rows\n",
            "\n"
          ]
        }
      ]
    },
    {
      "cell_type": "markdown",
      "source": [
        "Part 3: Business Questions\n",
        "\n",
        "1. Add a new column TotalPrice = Quantity × UnitPrice\n"
      ],
      "metadata": {
        "id": "x0xyPSPE9I-Q"
      }
    },
    {
      "cell_type": "code",
      "source": [
        "df=df.withColumn(\"TotalPrice\",F.col(\"Quantity\")*F.col(\"UnitPrice\"))\n",
        "df.show()"
      ],
      "metadata": {
        "colab": {
          "base_uri": "https://localhost:8080/"
        },
        "id": "B2BZe6S09H76",
        "outputId": "46ab189d-ade5-4a06-e02c-3f6eb7acc755"
      },
      "execution_count": 62,
      "outputs": [
        {
          "output_type": "stream",
          "name": "stdout",
          "text": [
            "+-------+----------+-----------+--------+---------+------+----------+\n",
            "|OrderID|   Product|   Category|Quantity|UnitPrice|Region|TotalPrice|\n",
            "+-------+----------+-----------+--------+---------+------+----------+\n",
            "|   1001|    Mobile|Electronics|       2|    15000| North|     30000|\n",
            "|   1002|    Laptop|Electronics|       1|    55000| South|     55000|\n",
            "|   1003|   T-Shirt|    Apparel|       3|      500|  East|      1500|\n",
            "|   1004|     Jeans|    Apparel|       2|     1200| North|      2400|\n",
            "|   1005|        TV|Electronics|       1|    40000|  West|     40000|\n",
            "|   1006|     Shoes|   Footwear|       4|     2000| South|      8000|\n",
            "|   1007|     Watch|Accessories|       2|     3000|  East|      6000|\n",
            "|   1008|Headphones|Electronics|       3|     2500| North|      7500|\n",
            "+-------+----------+-----------+--------+---------+------+----------+\n",
            "\n"
          ]
        }
      ]
    },
    {
      "cell_type": "markdown",
      "source": [
        "2. Total revenue generated across all regions.\n"
      ],
      "metadata": {
        "id": "L7tKG3v2-5Ru"
      }
    },
    {
      "cell_type": "code",
      "source": [
        "total_rev = df.agg(F.sum(\"TotalPrice\")).collect()[0][0]\n",
        "print(\"Total Revenue Generated\",total_rev)"
      ],
      "metadata": {
        "colab": {
          "base_uri": "https://localhost:8080/"
        },
        "id": "w0v6RLbL-6hF",
        "outputId": "4b226df1-f813-46eb-9ecc-cb7f4213dd7f"
      },
      "execution_count": 63,
      "outputs": [
        {
          "output_type": "stream",
          "name": "stdout",
          "text": [
            "Total Revenue Generated 150400\n"
          ]
        }
      ]
    },
    {
      "cell_type": "markdown",
      "source": [
        "3. Category-wise revenue sorted in descending order."
      ],
      "metadata": {
        "id": "Ok3mI-RZ_3FG"
      }
    },
    {
      "cell_type": "code",
      "source": [
        "df.groupBy(\"Category\").agg(F.sum(\"TotalPrice\").alias(\"TotalRevenue\")).orderBy(F.desc(\"TotalRevenue\")).show()"
      ],
      "metadata": {
        "colab": {
          "base_uri": "https://localhost:8080/"
        },
        "id": "6BG3I3wmAgdU",
        "outputId": "4c444143-a6bf-4707-d92d-11b245d9b430"
      },
      "execution_count": 77,
      "outputs": [
        {
          "output_type": "stream",
          "name": "stdout",
          "text": [
            "+-----------+------------+\n",
            "|   Category|TotalRevenue|\n",
            "+-----------+------------+\n",
            "|Electronics|      132500|\n",
            "|   Footwear|        8000|\n",
            "|Accessories|        6000|\n",
            "|    Apparel|        3900|\n",
            "+-----------+------------+\n",
            "\n"
          ]
        }
      ]
    },
    {
      "cell_type": "markdown",
      "source": [
        "4. Region with the highest number of orders"
      ],
      "metadata": {
        "id": "vjxCZHc8A8Ar"
      }
    },
    {
      "cell_type": "code",
      "source": [
        "df.groupBy(\"Region\").agg(F.count(\"OrderID\").alias(\"OrderCount\")).orderBy(F.desc(\"OrderCount\")).limit(1).show()"
      ],
      "metadata": {
        "colab": {
          "base_uri": "https://localhost:8080/"
        },
        "id": "3T46C3fKBArP",
        "outputId": "347726e7-39de-4246-97cb-922b2822fdd2"
      },
      "execution_count": 76,
      "outputs": [
        {
          "output_type": "stream",
          "name": "stdout",
          "text": [
            "+------+----------+\n",
            "|Region|OrderCount|\n",
            "+------+----------+\n",
            "| North|         3|\n",
            "+------+----------+\n",
            "\n"
          ]
        }
      ]
    },
    {
      "cell_type": "markdown",
      "source": [
        "5. Average Unit Price per Category"
      ],
      "metadata": {
        "id": "RF6IBWpdBqXe"
      }
    },
    {
      "cell_type": "code",
      "source": [
        "df.groupBy(\"Category\").agg(F.avg(\"UnitPrice\").alias(\"AverageUnitPriceByCategory\")).orderBy(F.desc(\"AverageUnitPriceByCategory\")).show()"
      ],
      "metadata": {
        "colab": {
          "base_uri": "https://localhost:8080/"
        },
        "id": "n_D3chs3Bm-0",
        "outputId": "f52fd073-3b48-4d0a-c946-4219de17ad50"
      },
      "execution_count": 75,
      "outputs": [
        {
          "output_type": "stream",
          "name": "stdout",
          "text": [
            "+-----------+--------------------------+\n",
            "|   Category|AverageUnitPriceByCategory|\n",
            "+-----------+--------------------------+\n",
            "|Electronics|                   28125.0|\n",
            "|Accessories|                    3000.0|\n",
            "|   Footwear|                    2000.0|\n",
            "|    Apparel|                     850.0|\n",
            "+-----------+--------------------------+\n",
            "\n"
          ]
        }
      ]
    },
    {
      "cell_type": "markdown",
      "source": [
        "6. All orders where TotalPrice is more than30,000"
      ],
      "metadata": {
        "id": "KwVASBQ5Cuyu"
      }
    },
    {
      "cell_type": "code",
      "source": [
        "df.filter(F.col(\"TotalPrice\")>30000).show()"
      ],
      "metadata": {
        "colab": {
          "base_uri": "https://localhost:8080/"
        },
        "id": "oqRCcH_vCxIz",
        "outputId": "f711ddc6-a506-48ad-9ae0-a9649d92e061"
      },
      "execution_count": 67,
      "outputs": [
        {
          "output_type": "stream",
          "name": "stdout",
          "text": [
            "+-------+-------+-----------+--------+---------+------+----------+\n",
            "|OrderID|Product|   Category|Quantity|UnitPrice|Region|TotalPrice|\n",
            "+-------+-------+-----------+--------+---------+------+----------+\n",
            "|   1002| Laptop|Electronics|       1|    55000| South|     55000|\n",
            "|   1005|     TV|Electronics|       1|    40000|  West|     40000|\n",
            "+-------+-------+-----------+--------+---------+------+----------+\n",
            "\n"
          ]
        }
      ]
    },
    {
      "cell_type": "markdown",
      "source": [
        "Part 4: Data Transformations\n",
        "\n",
        "1. Create a new column HighValueOrder which is \"Yes\" if TotalPrice > 20,000,\n",
        "else \"No\" .\n"
      ],
      "metadata": {
        "id": "hOKFRbcrDSQ_"
      }
    },
    {
      "cell_type": "code",
      "source": [
        "df = df.withColumn(\"HighValueOrder\", F.when(F.col(\"TotalPrice\") > 20000, \"Yes\").otherwise(\"No\"))\n",
        "df.show()"
      ],
      "metadata": {
        "colab": {
          "base_uri": "https://localhost:8080/"
        },
        "id": "laUm2IW_DXRv",
        "outputId": "60348dbd-33c5-447b-d9c5-1626d1fe7227"
      },
      "execution_count": 68,
      "outputs": [
        {
          "output_type": "stream",
          "name": "stdout",
          "text": [
            "+-------+----------+-----------+--------+---------+------+----------+--------------+\n",
            "|OrderID|   Product|   Category|Quantity|UnitPrice|Region|TotalPrice|HighValueOrder|\n",
            "+-------+----------+-----------+--------+---------+------+----------+--------------+\n",
            "|   1001|    Mobile|Electronics|       2|    15000| North|     30000|           Yes|\n",
            "|   1002|    Laptop|Electronics|       1|    55000| South|     55000|           Yes|\n",
            "|   1003|   T-Shirt|    Apparel|       3|      500|  East|      1500|            No|\n",
            "|   1004|     Jeans|    Apparel|       2|     1200| North|      2400|            No|\n",
            "|   1005|        TV|Electronics|       1|    40000|  West|     40000|           Yes|\n",
            "|   1006|     Shoes|   Footwear|       4|     2000| South|      8000|            No|\n",
            "|   1007|     Watch|Accessories|       2|     3000|  East|      6000|            No|\n",
            "|   1008|Headphones|Electronics|       3|     2500| North|      7500|            No|\n",
            "+-------+----------+-----------+--------+---------+------+----------+--------------+\n",
            "\n"
          ]
        }
      ]
    },
    {
      "cell_type": "markdown",
      "source": [
        "2. Filter and display all high-value orders in the North region."
      ],
      "metadata": {
        "id": "tY4qbqkTEYa8"
      }
    },
    {
      "cell_type": "code",
      "source": [
        "df.filter((F.col(\"HighValueOrder\")==\"Yes\") & (F.col(\"Region\")==\"North\")).show()"
      ],
      "metadata": {
        "colab": {
          "base_uri": "https://localhost:8080/"
        },
        "id": "AymrENCLEcGP",
        "outputId": "d3391cc0-e509-4ce6-d3ba-88bf9dbeeead"
      },
      "execution_count": 73,
      "outputs": [
        {
          "output_type": "stream",
          "name": "stdout",
          "text": [
            "+-------+-------+-----------+--------+---------+------+----------+--------------+\n",
            "|OrderID|Product|   Category|Quantity|UnitPrice|Region|TotalPrice|HighValueOrder|\n",
            "+-------+-------+-----------+--------+---------+------+----------+--------------+\n",
            "|   1001| Mobile|Electronics|       2|    15000| North|     30000|           Yes|\n",
            "+-------+-------+-----------+--------+---------+------+----------+--------------+\n",
            "\n"
          ]
        }
      ]
    },
    {
      "cell_type": "markdown",
      "source": [
        "3. Count how many high-value orders exist per region."
      ],
      "metadata": {
        "id": "-LUAdGWGFpHk"
      }
    },
    {
      "cell_type": "code",
      "source": [
        "df.filter(F.col(\"HighValueOrder\")==\"Yes\").groupBy(\"Region\").agg(F.count(\"OrderID\").alias(\"HighValueOrderCount\")).orderBy(F.desc(\"HighValueOrderCount\")).show()"
      ],
      "metadata": {
        "colab": {
          "base_uri": "https://localhost:8080/"
        },
        "id": "6gBIqh-OFqSJ",
        "outputId": "a5626f29-c70e-4020-e0c8-62ac135c35ce"
      },
      "execution_count": 72,
      "outputs": [
        {
          "output_type": "stream",
          "name": "stdout",
          "text": [
            "+------+-------------------+\n",
            "|Region|HighValueOrderCount|\n",
            "+------+-------------------+\n",
            "| South|                  1|\n",
            "|  West|                  1|\n",
            "| North|                  1|\n",
            "+------+-------------------+\n",
            "\n"
          ]
        }
      ]
    },
    {
      "cell_type": "markdown",
      "source": [
        "Part 5: Save Results\n",
        "\n",
        "Save the transformed DataFrame as a CSV file named high_value_orders.csv with\n",
        "headers."
      ],
      "metadata": {
        "id": "DKnvLpezGaAh"
      }
    },
    {
      "cell_type": "code",
      "source": [
        "df.write.csv(\"/content/drive/My Drive/Colab Notebooks/high_value_orders.csv\",header=True)"
      ],
      "metadata": {
        "id": "Xkh2bJ10GZbW"
      },
      "execution_count": 71,
      "outputs": []
    }
  ]
}