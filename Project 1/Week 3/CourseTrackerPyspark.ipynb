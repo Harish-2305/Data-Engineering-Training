{
  "nbformat": 4,
  "nbformat_minor": 0,
  "metadata": {
    "colab": {
      "provenance": []
    },
    "kernelspec": {
      "name": "python3",
      "display_name": "Python 3"
    },
    "language_info": {
      "name": "python"
    }
  },
  "cells": [
    {
      "cell_type": "markdown",
      "source": [
        "**Week 3 - Pyspark for Course Analysis**\n",
        "\n",
        "**Tools: Pyspark**\n",
        "\n",
        "**Tasks:**\n",
        "\n",
        "- Load large enrollment and progress data using PySpark\n",
        "- Join tables to get course-wise progress\n",
        "- Group by course to count total enrolled and completed students\n",
        "\n",
        "**Deliverables:**\n",
        "- PySpark script with joins and group aggregations\n",
        "- Output showing top completed and dropped-out courses"
      ],
      "metadata": {
        "id": "L9tAA4tRCIb_"
      }
    },
    {
      "cell_type": "markdown",
      "source": [
        "Load large enrollment and progress data using PySpark"
      ],
      "metadata": {
        "id": "xe06PIGdDFeN"
      }
    },
    {
      "cell_type": "code",
      "source": [
        "from google.colab import files\n",
        "uploaded = files.upload()"
      ],
      "metadata": {
        "colab": {
          "base_uri": "https://localhost:8080/",
          "height": 212
        },
        "id": "OWH2Gpf9DAsf",
        "outputId": "30d0d4ab-bbf5-45e9-a0cc-c30c40153c09"
      },
      "execution_count": 1,
      "outputs": [
        {
          "output_type": "display_data",
          "data": {
            "text/plain": [
              "<IPython.core.display.HTML object>"
            ],
            "text/html": [
              "\n",
              "     <input type=\"file\" id=\"files-60fd6108-f40d-45d7-b116-d15b7a3491d3\" name=\"files[]\" multiple disabled\n",
              "        style=\"border:none\" />\n",
              "     <output id=\"result-60fd6108-f40d-45d7-b116-d15b7a3491d3\">\n",
              "      Upload widget is only available when the cell has been executed in the\n",
              "      current browser session. Please rerun this cell to enable.\n",
              "      </output>\n",
              "      <script>// Copyright 2017 Google LLC\n",
              "//\n",
              "// Licensed under the Apache License, Version 2.0 (the \"License\");\n",
              "// you may not use this file except in compliance with the License.\n",
              "// You may obtain a copy of the License at\n",
              "//\n",
              "//      http://www.apache.org/licenses/LICENSE-2.0\n",
              "//\n",
              "// Unless required by applicable law or agreed to in writing, software\n",
              "// distributed under the License is distributed on an \"AS IS\" BASIS,\n",
              "// WITHOUT WARRANTIES OR CONDITIONS OF ANY KIND, either express or implied.\n",
              "// See the License for the specific language governing permissions and\n",
              "// limitations under the License.\n",
              "\n",
              "/**\n",
              " * @fileoverview Helpers for google.colab Python module.\n",
              " */\n",
              "(function(scope) {\n",
              "function span(text, styleAttributes = {}) {\n",
              "  const element = document.createElement('span');\n",
              "  element.textContent = text;\n",
              "  for (const key of Object.keys(styleAttributes)) {\n",
              "    element.style[key] = styleAttributes[key];\n",
              "  }\n",
              "  return element;\n",
              "}\n",
              "\n",
              "// Max number of bytes which will be uploaded at a time.\n",
              "const MAX_PAYLOAD_SIZE = 100 * 1024;\n",
              "\n",
              "function _uploadFiles(inputId, outputId) {\n",
              "  const steps = uploadFilesStep(inputId, outputId);\n",
              "  const outputElement = document.getElementById(outputId);\n",
              "  // Cache steps on the outputElement to make it available for the next call\n",
              "  // to uploadFilesContinue from Python.\n",
              "  outputElement.steps = steps;\n",
              "\n",
              "  return _uploadFilesContinue(outputId);\n",
              "}\n",
              "\n",
              "// This is roughly an async generator (not supported in the browser yet),\n",
              "// where there are multiple asynchronous steps and the Python side is going\n",
              "// to poll for completion of each step.\n",
              "// This uses a Promise to block the python side on completion of each step,\n",
              "// then passes the result of the previous step as the input to the next step.\n",
              "function _uploadFilesContinue(outputId) {\n",
              "  const outputElement = document.getElementById(outputId);\n",
              "  const steps = outputElement.steps;\n",
              "\n",
              "  const next = steps.next(outputElement.lastPromiseValue);\n",
              "  return Promise.resolve(next.value.promise).then((value) => {\n",
              "    // Cache the last promise value to make it available to the next\n",
              "    // step of the generator.\n",
              "    outputElement.lastPromiseValue = value;\n",
              "    return next.value.response;\n",
              "  });\n",
              "}\n",
              "\n",
              "/**\n",
              " * Generator function which is called between each async step of the upload\n",
              " * process.\n",
              " * @param {string} inputId Element ID of the input file picker element.\n",
              " * @param {string} outputId Element ID of the output display.\n",
              " * @return {!Iterable<!Object>} Iterable of next steps.\n",
              " */\n",
              "function* uploadFilesStep(inputId, outputId) {\n",
              "  const inputElement = document.getElementById(inputId);\n",
              "  inputElement.disabled = false;\n",
              "\n",
              "  const outputElement = document.getElementById(outputId);\n",
              "  outputElement.innerHTML = '';\n",
              "\n",
              "  const pickedPromise = new Promise((resolve) => {\n",
              "    inputElement.addEventListener('change', (e) => {\n",
              "      resolve(e.target.files);\n",
              "    });\n",
              "  });\n",
              "\n",
              "  const cancel = document.createElement('button');\n",
              "  inputElement.parentElement.appendChild(cancel);\n",
              "  cancel.textContent = 'Cancel upload';\n",
              "  const cancelPromise = new Promise((resolve) => {\n",
              "    cancel.onclick = () => {\n",
              "      resolve(null);\n",
              "    };\n",
              "  });\n",
              "\n",
              "  // Wait for the user to pick the files.\n",
              "  const files = yield {\n",
              "    promise: Promise.race([pickedPromise, cancelPromise]),\n",
              "    response: {\n",
              "      action: 'starting',\n",
              "    }\n",
              "  };\n",
              "\n",
              "  cancel.remove();\n",
              "\n",
              "  // Disable the input element since further picks are not allowed.\n",
              "  inputElement.disabled = true;\n",
              "\n",
              "  if (!files) {\n",
              "    return {\n",
              "      response: {\n",
              "        action: 'complete',\n",
              "      }\n",
              "    };\n",
              "  }\n",
              "\n",
              "  for (const file of files) {\n",
              "    const li = document.createElement('li');\n",
              "    li.append(span(file.name, {fontWeight: 'bold'}));\n",
              "    li.append(span(\n",
              "        `(${file.type || 'n/a'}) - ${file.size} bytes, ` +\n",
              "        `last modified: ${\n",
              "            file.lastModifiedDate ? file.lastModifiedDate.toLocaleDateString() :\n",
              "                                    'n/a'} - `));\n",
              "    const percent = span('0% done');\n",
              "    li.appendChild(percent);\n",
              "\n",
              "    outputElement.appendChild(li);\n",
              "\n",
              "    const fileDataPromise = new Promise((resolve) => {\n",
              "      const reader = new FileReader();\n",
              "      reader.onload = (e) => {\n",
              "        resolve(e.target.result);\n",
              "      };\n",
              "      reader.readAsArrayBuffer(file);\n",
              "    });\n",
              "    // Wait for the data to be ready.\n",
              "    let fileData = yield {\n",
              "      promise: fileDataPromise,\n",
              "      response: {\n",
              "        action: 'continue',\n",
              "      }\n",
              "    };\n",
              "\n",
              "    // Use a chunked sending to avoid message size limits. See b/62115660.\n",
              "    let position = 0;\n",
              "    do {\n",
              "      const length = Math.min(fileData.byteLength - position, MAX_PAYLOAD_SIZE);\n",
              "      const chunk = new Uint8Array(fileData, position, length);\n",
              "      position += length;\n",
              "\n",
              "      const base64 = btoa(String.fromCharCode.apply(null, chunk));\n",
              "      yield {\n",
              "        response: {\n",
              "          action: 'append',\n",
              "          file: file.name,\n",
              "          data: base64,\n",
              "        },\n",
              "      };\n",
              "\n",
              "      let percentDone = fileData.byteLength === 0 ?\n",
              "          100 :\n",
              "          Math.round((position / fileData.byteLength) * 100);\n",
              "      percent.textContent = `${percentDone}% done`;\n",
              "\n",
              "    } while (position < fileData.byteLength);\n",
              "  }\n",
              "\n",
              "  // All done.\n",
              "  yield {\n",
              "    response: {\n",
              "      action: 'complete',\n",
              "    }\n",
              "  };\n",
              "}\n",
              "\n",
              "scope.google = scope.google || {};\n",
              "scope.google.colab = scope.google.colab || {};\n",
              "scope.google.colab._files = {\n",
              "  _uploadFiles,\n",
              "  _uploadFilesContinue,\n",
              "};\n",
              "})(self);\n",
              "</script> "
            ]
          },
          "metadata": {}
        },
        {
          "output_type": "stream",
          "name": "stdout",
          "text": [
            "Saving courses_cleaned.csv to courses_cleaned.csv\n",
            "Saving enrollments_cleaned.csv to enrollments_cleaned.csv\n",
            "Saving merged_data.csv to merged_data.csv\n",
            "Saving progress_cleaned.csv to progress_cleaned.csv\n",
            "Saving students_cleaned.csv to students_cleaned.csv\n"
          ]
        }
      ]
    },
    {
      "cell_type": "code",
      "source": [
        "from pyspark.sql import SparkSession\n",
        "\n",
        "spark = SparkSession.builder.appName('CourseAnalysis').getOrCreate()\n"
      ],
      "metadata": {
        "id": "WEFlxPHVDKGv"
      },
      "execution_count": 2,
      "outputs": []
    },
    {
      "cell_type": "code",
      "source": [
        "students_df = spark.read.csv('students_cleaned.csv', header=True, inferSchema=True)\n",
        "courses_df = spark.read.csv('courses_cleaned.csv', header=True, inferSchema=True)\n",
        "enrollments_df = spark.read.csv('enrollments_cleaned.csv', header=True, inferSchema=True)\n",
        "progress_df = spark.read.csv('progress_cleaned.csv', header=True, inferSchema=True)"
      ],
      "metadata": {
        "id": "5efGF-SQDP2s"
      },
      "execution_count": 3,
      "outputs": []
    },
    {
      "cell_type": "markdown",
      "source": [
        "**Join tables to get course-wise progress**"
      ],
      "metadata": {
        "id": "cQtfTkvDDZQC"
      }
    },
    {
      "cell_type": "code",
      "source": [
        "enroll_progress_df = enrollments_df.join(progress_df, 'enroll_id', 'left') \\\n",
        "                                   .join(students_df, 'student_id', 'left') \\\n",
        "                                   .join(courses_df, 'course_id', 'left')\n",
        "enroll_progress_df.cache()\n",
        "\n",
        "enroll_progress_df.show(5)"
      ],
      "metadata": {
        "colab": {
          "base_uri": "https://localhost:8080/"
        },
        "id": "ZihYvd21Ddcc",
        "outputId": "abefc55a-4611-4d1e-9468-deb0923ac395"
      },
      "execution_count": 4,
      "outputs": [
        {
          "output_type": "stream",
          "name": "stdout",
          "text": [
            "+---------+----------+---------+-----------+---------+-----------+-----------------+-----------+---------+----------------+----+-----------------+--------------------+--------------------+---------------+-------------+--------------+----------+\n",
            "|course_id|student_id|enroll_id|enroll_date|   status|progress_id|modules_completed|last_update|     name|           email| age|registration_date|         course_name|         description|instructor_name|No_Of_modules|duration_weeks|created_at|\n",
            "+---------+----------+---------+-----------+---------+-----------+-----------------+-----------+---------+----------------+----+-----------------+--------------------+--------------------+---------------+-------------+--------------+----------+\n",
            "|      501|       1.0|     1001| 2024-10-07|Completed|       2001|              4.0| 2024-07-21|   Harish|harish@gmail.com|21.0|       2024-01-07|Foundation of Python|Basics of Python ...|       Santhosh|            4|             2|2024-01-06|\n",
            "|      501|       2.0|     1002| 2024-12-07|   Active|       2002|              2.0| 2024-07-14|saravanan| saran@gmail.com|28.0|       2024-02-07|Foundation of Python|Basics of Python ...|       Santhosh|            4|             2|2024-01-06|\n",
            "|      502|       3.0|     1003| 2024-01-01|  Dropped|       2003|              0.0| 2024-07-15|    Valar| valar@gmail.com|30.0|       2024-03-07|     Advanced Python|           Functions|        Vasanth|            6|             4|2024-05-06|\n",
            "|      502|       4.0|     1004| 2024-01-01|   Active|       2004|              3.0| 2024-07-16|     Mary|  mary@gmail.com|27.0|       2024-04-07|     Advanced Python|           Functions|        Vasanth|            6|             4|2024-05-06|\n",
            "|      503|       6.0|     1006| 2024-01-01|   Active|       2006|              4.0| 2024-07-18|     Ajay|  ajay@gmail.com|25.0|       2024-06-07|         Java Basics|Core Java Syntax ...|        Praveen|            5|             3|2024-10-06|\n",
            "+---------+----------+---------+-----------+---------+-----------+-----------------+-----------+---------+----------------+----+-----------------+--------------------+--------------------+---------------+-------------+--------------+----------+\n",
            "only showing top 5 rows\n",
            "\n"
          ]
        }
      ]
    },
    {
      "cell_type": "markdown",
      "source": [
        "**Group by course to count total enrolled and completed students**"
      ],
      "metadata": {
        "id": "f8CwCLsiD8GN"
      }
    },
    {
      "cell_type": "code",
      "source": [
        "from pyspark.sql.functions import col, when, avg, count\n",
        "\n",
        "summary_df = enroll_progress_df.groupBy('course_id', 'course_name') \\\n",
        "    .agg(\n",
        "        count('*').alias('total_enrollments'),\n",
        "        count(when(col('status') == 'Completed', True)).alias('completed'),\n",
        "        count(when(col('status').like('Drop%'), True)).alias('dropped'),\n",
        "        avg('modules_completed').alias('avg_modules_completed'),\n",
        "        avg('No_Of_modules').alias('avg_total_modules')\n",
        "    )\n",
        "\n",
        "summary_df = summary_df.withColumn(\n",
        "    'completion_rate_percent',\n",
        "    (col('avg_modules_completed') / col('avg_total_modules')) * 100\n",
        ")\n",
        "\n",
        "summary_df.orderBy('total_enrollments', ascending=False).show(truncate=False)\n"
      ],
      "metadata": {
        "colab": {
          "base_uri": "https://localhost:8080/"
        },
        "id": "Yd0b7RSGD9SZ",
        "outputId": "3da359ee-4d97-4c04-c0cf-5da3a077ecd3"
      },
      "execution_count": 5,
      "outputs": [
        {
          "output_type": "stream",
          "name": "stdout",
          "text": [
            "+---------+--------------------+-----------------+---------+-------+---------------------+-----------------+-----------------------+\n",
            "|course_id|course_name         |total_enrollments|completed|dropped|avg_modules_completed|avg_total_modules|completion_rate_percent|\n",
            "+---------+--------------------+-----------------+---------+-------+---------------------+-----------------+-----------------------+\n",
            "|504      |Data Analysis       |3                |1        |1      |2.6666666666666665   |5.0              |53.333333333333336     |\n",
            "|507      |Databases Intro     |3                |1        |0      |2.0                  |4.0              |50.0                   |\n",
            "|502      |Advanced Python     |3                |0        |2      |2.0                  |6.0              |33.33333333333333      |\n",
            "|501      |Foundation of Python|3                |1        |0      |2.3333333333333335   |4.0              |58.333333333333336     |\n",
            "|505      |Web Dev Basics      |3                |1        |0      |5.333333333333333    |6.0              |88.88888888888889      |\n",
            "|506      |Machine Learning    |3                |1        |1      |4.0                  |8.0              |50.0                   |\n",
            "|509      |Cloud Fundamentals  |2                |0        |1      |2.5                  |5.0              |50.0                   |\n",
            "|515      |Mobile Dev          |2                |2        |0      |4.5                  |5.0              |90.0                   |\n",
            "|514      |Security 101        |2                |0        |0      |2.0                  |4.0              |50.0                   |\n",
            "|510      |Big Data Hadoop     |2                |1        |0      |6.0                  |7.0              |85.71428571428571      |\n",
            "|511      |Data Visualization  |2                |0        |2      |0.5                  |4.0              |12.5                   |\n",
            "|513      |DevOps              |2                |2        |0      |4.0                  |6.0              |66.66666666666666      |\n",
            "|503      |Java Basics         |2                |0        |0      |3.0                  |5.0              |60.0                   |\n",
            "|508      |Frontend Frameworks |2                |1        |0      |5.0                  |6.0              |83.33333333333334      |\n",
            "|512      |Networking Basics   |2                |2        |0      |4.0                  |5.0              |80.0                   |\n",
            "+---------+--------------------+-----------------+---------+-------+---------------------+-----------------+-----------------------+\n",
            "\n"
          ]
        }
      ]
    },
    {
      "cell_type": "markdown",
      "source": [
        "Incase if the merge csv is used from week 2 the rest of the csv file is not needed (merge csv is already grouped so again grouping is not required)  "
      ],
      "metadata": {
        "id": "QXMDcio2GSec"
      }
    },
    {
      "cell_type": "code",
      "source": [
        "\n",
        "merged_df = spark.read.csv(\"merged_data.csv\", header=True, inferSchema=True)\n",
        "\n",
        "course_summary_df = merged_df.groupBy(\"course_id\", \"course_name\").agg(\n",
        "    count(\"*\").alias(\"total_enrolled\"),\n",
        "    count(when(col(\"status\") == \"Completed\", True)).alias(\"completed\"),\n",
        "    count(when(col(\"status\").rlike(\"(?i)drop\"), True)).alias(\"dropped\"),\n",
        "    avg(\"completion_percent\").alias(\"avg_completion_percent\")\n",
        ")\n",
        "\n",
        "course_summary_df = course_summary_df.orderBy(col(\"total_enrolled\").desc())\n",
        "course_summary_df.show(truncate=False)"
      ],
      "metadata": {
        "colab": {
          "base_uri": "https://localhost:8080/"
        },
        "id": "R9KDE0JmGiOg",
        "outputId": "7dae3e89-2ff3-4086-c7f4-cfc95c61fb41"
      },
      "execution_count": 6,
      "outputs": [
        {
          "output_type": "stream",
          "name": "stdout",
          "text": [
            "+---------+--------------------+--------------+---------+-------+----------------------+\n",
            "|course_id|course_name         |total_enrolled|completed|dropped|avg_completion_percent|\n",
            "+---------+--------------------+--------------+---------+-------+----------------------+\n",
            "|504      |Data Analysis       |3             |1        |1      |53.333333333333336    |\n",
            "|507      |Databases Intro     |3             |1        |0      |50.0                  |\n",
            "|502      |Advanced Python     |3             |0        |2      |33.333333333333336    |\n",
            "|501      |Foundation of Python|3             |1        |0      |58.333333333333336    |\n",
            "|505      |Web Dev Basics      |3             |1        |0      |88.88888888888887     |\n",
            "|509      |Cloud Fundamentals  |2             |0        |1      |50.0                  |\n",
            "|515      |Mobile Dev          |2             |2        |0      |90.0                  |\n",
            "|514      |Security 101        |2             |0        |0      |50.0                  |\n",
            "|506      |Machine Learning    |2             |1        |0      |50.0                  |\n",
            "|510      |Big Data Hadoop     |2             |1        |0      |85.71428571428572     |\n",
            "|511      |Data Visualization  |2             |0        |2      |12.5                  |\n",
            "|513      |DevOps              |2             |2        |0      |66.66666666666666     |\n",
            "|503      |Java Basics         |2             |0        |0      |60.0                  |\n",
            "|508      |Frontend Frameworks |2             |1        |0      |83.33333333333333     |\n",
            "|512      |Networking Basics   |2             |2        |0      |80.0                  |\n",
            "+---------+--------------------+--------------+---------+-------+----------------------+\n",
            "\n"
          ]
        }
      ]
    },
    {
      "cell_type": "code",
      "source": [
        "summary_df.orderBy('completed', ascending=False).show()\n",
        "summary_df.orderBy('dropped', ascending=False).show()"
      ],
      "metadata": {
        "colab": {
          "base_uri": "https://localhost:8080/"
        },
        "id": "mHsnyFDuEK7c",
        "outputId": "f3c6b33b-c4be-4128-9cff-407a3847b743"
      },
      "execution_count": 7,
      "outputs": [
        {
          "output_type": "stream",
          "name": "stdout",
          "text": [
            "+---------+--------------------+-----------------+---------+-------+---------------------+-----------------+-----------------------+\n",
            "|course_id|         course_name|total_enrollments|completed|dropped|avg_modules_completed|avg_total_modules|completion_rate_percent|\n",
            "+---------+--------------------+-----------------+---------+-------+---------------------+-----------------+-----------------------+\n",
            "|      515|          Mobile Dev|                2|        2|      0|                  4.5|              5.0|                   90.0|\n",
            "|      513|              DevOps|                2|        2|      0|                  4.0|              6.0|      66.66666666666666|\n",
            "|      512|   Networking Basics|                2|        2|      0|                  4.0|              5.0|                   80.0|\n",
            "|      504|       Data Analysis|                3|        1|      1|   2.6666666666666665|              5.0|     53.333333333333336|\n",
            "|      507|     Databases Intro|                3|        1|      0|                  2.0|              4.0|                   50.0|\n",
            "|      501|Foundation of Python|                3|        1|      0|   2.3333333333333335|              4.0|     58.333333333333336|\n",
            "|      505|      Web Dev Basics|                3|        1|      0|    5.333333333333333|              6.0|      88.88888888888889|\n",
            "|      506|    Machine Learning|                3|        1|      1|                  4.0|              8.0|                   50.0|\n",
            "|      510|     Big Data Hadoop|                2|        1|      0|                  6.0|              7.0|      85.71428571428571|\n",
            "|      508| Frontend Frameworks|                2|        1|      0|                  5.0|              6.0|      83.33333333333334|\n",
            "|      509|  Cloud Fundamentals|                2|        0|      1|                  2.5|              5.0|                   50.0|\n",
            "|      514|        Security 101|                2|        0|      0|                  2.0|              4.0|                   50.0|\n",
            "|      502|     Advanced Python|                3|        0|      2|                  2.0|              6.0|      33.33333333333333|\n",
            "|      511|  Data Visualization|                2|        0|      2|                  0.5|              4.0|                   12.5|\n",
            "|      503|         Java Basics|                2|        0|      0|                  3.0|              5.0|                   60.0|\n",
            "+---------+--------------------+-----------------+---------+-------+---------------------+-----------------+-----------------------+\n",
            "\n",
            "+---------+--------------------+-----------------+---------+-------+---------------------+-----------------+-----------------------+\n",
            "|course_id|         course_name|total_enrollments|completed|dropped|avg_modules_completed|avg_total_modules|completion_rate_percent|\n",
            "+---------+--------------------+-----------------+---------+-------+---------------------+-----------------+-----------------------+\n",
            "|      502|     Advanced Python|                3|        0|      2|                  2.0|              6.0|      33.33333333333333|\n",
            "|      511|  Data Visualization|                2|        0|      2|                  0.5|              4.0|                   12.5|\n",
            "|      509|  Cloud Fundamentals|                2|        0|      1|                  2.5|              5.0|                   50.0|\n",
            "|      504|       Data Analysis|                3|        1|      1|   2.6666666666666665|              5.0|     53.333333333333336|\n",
            "|      506|    Machine Learning|                3|        1|      1|                  4.0|              8.0|                   50.0|\n",
            "|      515|          Mobile Dev|                2|        2|      0|                  4.5|              5.0|                   90.0|\n",
            "|      514|        Security 101|                2|        0|      0|                  2.0|              4.0|                   50.0|\n",
            "|      507|     Databases Intro|                3|        1|      0|                  2.0|              4.0|                   50.0|\n",
            "|      501|Foundation of Python|                3|        1|      0|   2.3333333333333335|              4.0|     58.333333333333336|\n",
            "|      505|      Web Dev Basics|                3|        1|      0|    5.333333333333333|              6.0|      88.88888888888889|\n",
            "|      510|     Big Data Hadoop|                2|        1|      0|                  6.0|              7.0|      85.71428571428571|\n",
            "|      513|              DevOps|                2|        2|      0|                  4.0|              6.0|      66.66666666666666|\n",
            "|      503|         Java Basics|                2|        0|      0|                  3.0|              5.0|                   60.0|\n",
            "|      508| Frontend Frameworks|                2|        1|      0|                  5.0|              6.0|      83.33333333333334|\n",
            "|      512|   Networking Basics|                2|        2|      0|                  4.0|              5.0|                   80.0|\n",
            "+---------+--------------------+-----------------+---------+-------+---------------------+-----------------+-----------------------+\n",
            "\n"
          ]
        }
      ]
    },
    {
      "cell_type": "markdown",
      "source": [
        "Saving the file to csv"
      ],
      "metadata": {
        "id": "5iA0DlzeJBJO"
      }
    },
    {
      "cell_type": "code",
      "source": [
        "summary_df.toPandas().to_csv('course_summary_week3.csv', index=False)"
      ],
      "metadata": {
        "id": "xuVWv8UNFhLS"
      },
      "execution_count": 8,
      "outputs": []
    },
    {
      "cell_type": "markdown",
      "source": [
        "Downloading the course summary file"
      ],
      "metadata": {
        "id": "f0WyfuAHJEOR"
      }
    },
    {
      "cell_type": "code",
      "source": [
        "files.download('course_summary_week3.csv')"
      ],
      "metadata": {
        "colab": {
          "base_uri": "https://localhost:8080/",
          "height": 17
        },
        "id": "E7-ePc8jFiD-",
        "outputId": "7048acc3-35a9-4637-8980-70cce57e1193"
      },
      "execution_count": 9,
      "outputs": [
        {
          "output_type": "display_data",
          "data": {
            "text/plain": [
              "<IPython.core.display.Javascript object>"
            ],
            "application/javascript": [
              "\n",
              "    async function download(id, filename, size) {\n",
              "      if (!google.colab.kernel.accessAllowed) {\n",
              "        return;\n",
              "      }\n",
              "      const div = document.createElement('div');\n",
              "      const label = document.createElement('label');\n",
              "      label.textContent = `Downloading \"${filename}\": `;\n",
              "      div.appendChild(label);\n",
              "      const progress = document.createElement('progress');\n",
              "      progress.max = size;\n",
              "      div.appendChild(progress);\n",
              "      document.body.appendChild(div);\n",
              "\n",
              "      const buffers = [];\n",
              "      let downloaded = 0;\n",
              "\n",
              "      const channel = await google.colab.kernel.comms.open(id);\n",
              "      // Send a message to notify the kernel that we're ready.\n",
              "      channel.send({})\n",
              "\n",
              "      for await (const message of channel.messages) {\n",
              "        // Send a message to notify the kernel that we're ready.\n",
              "        channel.send({})\n",
              "        if (message.buffers) {\n",
              "          for (const buffer of message.buffers) {\n",
              "            buffers.push(buffer);\n",
              "            downloaded += buffer.byteLength;\n",
              "            progress.value = downloaded;\n",
              "          }\n",
              "        }\n",
              "      }\n",
              "      const blob = new Blob(buffers, {type: 'application/binary'});\n",
              "      const a = document.createElement('a');\n",
              "      a.href = window.URL.createObjectURL(blob);\n",
              "      a.download = filename;\n",
              "      div.appendChild(a);\n",
              "      a.click();\n",
              "      div.remove();\n",
              "    }\n",
              "  "
            ]
          },
          "metadata": {}
        },
        {
          "output_type": "display_data",
          "data": {
            "text/plain": [
              "<IPython.core.display.Javascript object>"
            ],
            "application/javascript": [
              "download(\"download_08ced9a0-57c4-4605-91ad-94e3f852541a\", \"course_summary_week3.csv\", 838)"
            ]
          },
          "metadata": {}
        }
      ]
    }
  ]
}