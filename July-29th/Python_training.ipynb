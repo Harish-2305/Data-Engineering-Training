{
  "nbformat": 4,
  "nbformat_minor": 0,
  "metadata": {
    "colab": {
      "provenance": []
    },
    "kernelspec": {
      "name": "python3",
      "display_name": "Python 3"
    },
    "language_info": {
      "name": "python"
    }
  },
  "cells": [
    {
      "cell_type": "markdown",
      "source": [
        "# My First Notebook\n",
        "This notebook prints a greeting using a variable"
      ],
      "metadata": {
        "id": "ZZOymRYk_pF8"
      }
    },
    {
      "cell_type": "code",
      "source": [
        "name='Harish'\n",
        "print('Hello',name)"
      ],
      "metadata": {
        "colab": {
          "base_uri": "https://localhost:8080/"
        },
        "id": "PT1VcbvV9kcQ",
        "outputId": "3dfb90ee-f876-49f3-e9ac-f1d2928fdee2"
      },
      "execution_count": 1,
      "outputs": [
        {
          "output_type": "stream",
          "name": "stdout",
          "text": [
            "Hello Harish\n"
          ]
        }
      ]
    },
    {
      "cell_type": "code",
      "source": [
        "# Define the dimension\n",
        "length=int(input(\"Whats the length?\"))\n",
        "width=int(input(\"Whats the Width?\"))\n",
        "\n",
        "area=length*width\n",
        "print('The area of the rectangle is:',area)"
      ],
      "metadata": {
        "colab": {
          "base_uri": "https://localhost:8080/"
        },
        "id": "OzjXyb2S_7O3",
        "outputId": "67e697d3-1ea9-4eab-899d-5c3cbd487493"
      },
      "execution_count": 4,
      "outputs": [
        {
          "output_type": "stream",
          "name": "stdout",
          "text": [
            "Whats the length?10\n",
            "Whats the Width?20\n",
            "The area of the rectangle is: 200\n"
          ]
        }
      ]
    },
    {
      "cell_type": "markdown",
      "source": [
        "# Pandas\n",
        "working with pandas and df"
      ],
      "metadata": {
        "id": "yBXxlvEqdMS7"
      }
    },
    {
      "cell_type": "code",
      "source": [
        "import pandas as pd\n",
        "\n",
        "data = {\n",
        "    'Name': ['Raj', 'Priya', 'Amit'],\n",
        "    'Age': [25, 30, 22],\n",
        "    'City': ['Delhi', 'Mumbai', 'Bangalore']\n",
        "}\n",
        "\n",
        "df=pd.DataFrame(data)\n",
        "\n",
        "print(df)"
      ],
      "metadata": {
        "colab": {
          "base_uri": "https://localhost:8080/"
        },
        "id": "0GJw5l0DB3C5",
        "outputId": "040dfba5-796d-4357-e17d-e2dc26c2465a"
      },
      "execution_count": 6,
      "outputs": [
        {
          "output_type": "stream",
          "name": "stdout",
          "text": [
            "    Name  Age       City\n",
            "0    Raj   25      Delhi\n",
            "1  Priya   30     Mumbai\n",
            "2   Amit   22  Bangalore\n"
          ]
        }
      ]
    },
    {
      "cell_type": "code",
      "source": [
        "print(df['Name'])"
      ],
      "metadata": {
        "colab": {
          "base_uri": "https://localhost:8080/"
        },
        "id": "1EjctHh-Z5Fd",
        "outputId": "a4233aa8-f896-4f79-9b4d-ac64708a60d8"
      },
      "execution_count": 7,
      "outputs": [
        {
          "output_type": "stream",
          "name": "stdout",
          "text": [
            "0      Raj\n",
            "1    Priya\n",
            "2     Amit\n",
            "Name: Name, dtype: object\n"
          ]
        }
      ]
    },
    {
      "cell_type": "code",
      "source": [
        "print(df.shape)\n",
        "print(df.info())\n",
        "print(df.columns)\n",
        "print(df.describe())"
      ],
      "metadata": {
        "colab": {
          "base_uri": "https://localhost:8080/"
        },
        "id": "X1kS9zltZ89e",
        "outputId": "6d202bec-ac00-40e1-c809-bc1fb3cd6fca"
      },
      "execution_count": 15,
      "outputs": [
        {
          "output_type": "stream",
          "name": "stdout",
          "text": [
            "(3, 3)\n",
            "<class 'pandas.core.frame.DataFrame'>\n",
            "RangeIndex: 3 entries, 0 to 2\n",
            "Data columns (total 3 columns):\n",
            " #   Column  Non-Null Count  Dtype \n",
            "---  ------  --------------  ----- \n",
            " 0   Name    3 non-null      object\n",
            " 1   Age     3 non-null      int64 \n",
            " 2   City    3 non-null      object\n",
            "dtypes: int64(1), object(2)\n",
            "memory usage: 204.0+ bytes\n",
            "None\n",
            "Index(['Name', 'Age', 'City'], dtype='object')\n",
            "             Age\n",
            "count   3.000000\n",
            "mean   25.666667\n",
            "std     4.041452\n",
            "min    22.000000\n",
            "25%    23.500000\n",
            "50%    25.000000\n",
            "75%    27.500000\n",
            "max    30.000000\n"
          ]
        }
      ]
    },
    {
      "cell_type": "markdown",
      "source": [
        "CSV files"
      ],
      "metadata": {
        "id": "CdwPF9GofBoz"
      }
    },
    {
      "cell_type": "code",
      "source": [
        "# Create a CSV in Colab using file I/O\n",
        "csv_data = \"\"\"Name,Age,Department,Salary\n",
        "Aarav,28,Sales,50000\n",
        "Sneha,32,Engineering,80000\n",
        "Kabir,25,HR,45000\n",
        "Anaya,29,Marketing,60000\n",
        "Rohan,35,Engineering,85000\n",
        "\"\"\"\n",
        "\n",
        "with open('employees.csv', 'w') as file:\n",
        "    file.write(csv_data)"
      ],
      "metadata": {
        "id": "5IZR5fzadmmx"
      },
      "execution_count": 29,
      "outputs": []
    },
    {
      "cell_type": "code",
      "source": [
        "df=pd.read_csv('employees.csv')\n",
        "print(df)"
      ],
      "metadata": {
        "colab": {
          "base_uri": "https://localhost:8080/"
        },
        "id": "x4lGOEYKflyF",
        "outputId": "2068bf24-1b0a-4bcd-a177-89e591f353d5"
      },
      "execution_count": 20,
      "outputs": [
        {
          "output_type": "stream",
          "name": "stdout",
          "text": [
            "    Name  Age   Department  Salary\n",
            "0  Aarav   28        Sales   50000\n",
            "1  Sneha   32  Engineering   80000\n",
            "2  Kabir   25           HR   45000\n",
            "3  Anaya   29    Marketing   60000\n",
            "4  Rohan   35  Engineering   85000\n"
          ]
        }
      ]
    },
    {
      "cell_type": "code",
      "source": [
        "eng_emp=df[df['Department']=='Engineering']\n",
        "print(eng_emp)"
      ],
      "metadata": {
        "colab": {
          "base_uri": "https://localhost:8080/"
        },
        "id": "RLhw7ZmbfyK2",
        "outputId": "d6cd6406-132a-45e0-8493-45402c721cb8"
      },
      "execution_count": 21,
      "outputs": [
        {
          "output_type": "stream",
          "name": "stdout",
          "text": [
            "    Name  Age   Department  Salary\n",
            "1  Sneha   32  Engineering   80000\n",
            "4  Rohan   35  Engineering   85000\n"
          ]
        }
      ]
    },
    {
      "cell_type": "code",
      "source": [
        "print(\"Average Salary\",df['Salary'].mean())"
      ],
      "metadata": {
        "colab": {
          "base_uri": "https://localhost:8080/"
        },
        "id": "lVxP1pi6h0a9",
        "outputId": "09fd4f95-89c6-474a-9630-e17ada5c6663"
      },
      "execution_count": 22,
      "outputs": [
        {
          "output_type": "stream",
          "name": "stdout",
          "text": [
            "Average Salary 64000.0\n"
          ]
        }
      ]
    },
    {
      "cell_type": "code",
      "source": [
        "high_paid=df[df['Salary']==df['Salary'].max()]\n",
        "print(high_paid)"
      ],
      "metadata": {
        "colab": {
          "base_uri": "https://localhost:8080/"
        },
        "id": "rCictCoDh-jQ",
        "outputId": "f80ff33f-7e6f-4c1a-b504-26ee35fec885"
      },
      "execution_count": 23,
      "outputs": [
        {
          "output_type": "stream",
          "name": "stdout",
          "text": [
            "    Name  Age   Department  Salary\n",
            "4  Rohan   35  Engineering   85000\n"
          ]
        }
      ]
    },
    {
      "cell_type": "code",
      "source": [
        "avg_salary_by_dept=df.groupby('Department')['Salary'].mean()\n",
        "print(avg_salary_by_dept)"
      ],
      "metadata": {
        "colab": {
          "base_uri": "https://localhost:8080/"
        },
        "id": "4p1irHtXlTjd",
        "outputId": "585ce8a5-ba35-4ab4-a515-1e2eba395598"
      },
      "execution_count": 33,
      "outputs": [
        {
          "output_type": "stream",
          "name": "stdout",
          "text": [
            "Department\n",
            "Engineering    82500.0\n",
            "HR             45000.0\n",
            "Marketing      60000.0\n",
            "Sales          50000.0\n",
            "Name: Salary, dtype: float64\n"
          ]
        }
      ]
    },
    {
      "cell_type": "code",
      "source": [
        "sorted_by_age=df.sort_values(by='Age')\n",
        "print(sorted_by_age)"
      ],
      "metadata": {
        "colab": {
          "base_uri": "https://localhost:8080/"
        },
        "id": "_-b03Hl-mmqG",
        "outputId": "aab3f363-a9ad-4e10-88bf-87418e3855e9"
      },
      "execution_count": 38,
      "outputs": [
        {
          "output_type": "stream",
          "name": "stdout",
          "text": [
            "    Name  Age   Department  Salary\n",
            "2  Kabir   25           HR   45000\n",
            "0  Aarav   28        Sales   50000\n",
            "3  Anaya   29    Marketing   60000\n",
            "1  Sneha   32  Engineering   80000\n",
            "4  Rohan   35  Engineering   85000\n"
          ]
        }
      ]
    },
    {
      "cell_type": "code",
      "source": [
        "import matplotlib.pyplot as plt\n",
        "plt.figure(figsize=(8,6))\n",
        "plt.bar(df['Name'],df['Salary'],color='Skyblue')\n",
        "plt.xlabel('Employee')\n",
        "plt.ylabel('Salary')\n",
        "plt.title('Salary Distribution')\n",
        "plt.xticks(rotation=45)\n",
        "plt.tight_layout()\n",
        "plt.show( )"
      ],
      "metadata": {
        "colab": {
          "base_uri": "https://localhost:8080/",
          "height": 607
        },
        "id": "i_hkYz7LmuVi",
        "outputId": "0b2b3fd6-0a03-4245-a551-79eca98a7d81"
      },
      "execution_count": 46,
      "outputs": [
        {
          "output_type": "display_data",
          "data": {
            "text/plain": [
              "<Figure size 800x600 with 1 Axes>"
            ],
            "image/png": "[encoded data removed]"
          },
          "metadata": {}
        }
      ]
    }
  ]
}