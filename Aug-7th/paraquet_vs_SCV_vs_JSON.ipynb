{
 "cells": [
  {
   "cell_type": "code",
   "execution_count": 0,
   "metadata": {
    "application/vnd.databricks.v1+cell": {
     "cellMetadata": {
      "byteLimit": 2048000,
      "rowLimit": 10000
     },
     "inputWidgets": {},
     "nuid": "8cf0250b-55ed-4173-8050-f82474ae923e",
     "showTitle": false,
     "tableResultSettingsMap": {},
     "title": ""
    }
   },
   "outputs": [
    {
     "output_type": "stream",
     "name": "stdout",
     "output_type": "stream",
     "text": [
      "+----------+------------+-----------+-----+--------+\n|product_id|product_name|   category|price|quantity|\n+----------+------------+-----------+-----+--------+\n|       101|      Laptop|Electronics|55000|      10|\n|       102|  Smartphone|Electronics|30000|      25|\n|       103|       Chair|  Furniture| 2500|      50|\n|       104|        Book| Stationery|  400|     200|\n|       105|  Headphones|Electronics| 1500|     100|\n|       106|       Table|  Furniture| 3200|      40|\n|       107|         Pen| Stationery|   20|     500|\n|       108|     Monitor|Electronics|12000|      15|\n|       109|    Notebook| Stationery|   60|     300|\n|       110|        Sofa|  Furniture|45000|       5|\n+----------+------------+-----------+-----+--------+\n\n"
     ]
    }
   ],
   "source": [
    "data = [\n",
    "    (101, \"Laptop\", \"Electronics\", 55000, 10),\n",
    "    (102, \"Smartphone\", \"Electronics\", 30000, 25),\n",
    "    (103, \"Chair\", \"Furniture\", 2500, 50),\n",
    "    (104, \"Book\", \"Stationery\", 400, 200),\n",
    "    (105, \"Headphones\", \"Electronics\", 1500, 100),\n",
    "    (106, \"Table\", \"Furniture\", 3200, 40),\n",
    "    (107, \"Pen\", \"Stationery\", 20, 500),\n",
    "    (108, \"Monitor\", \"Electronics\", 12000, 15),\n",
    "    (109, \"Notebook\", \"Stationery\", 60, 300),\n",
    "    (110, \"Sofa\", \"Furniture\", 45000, 5)\n",
    "]\n",
    "columns=[\"product_id\", \"product_name\", \"category\", \"price\", \"quantity\"]\n",
    "df = spark.createDataFrame(data, columns)\n",
    "df.show()"
   ]
  },
  {
   "cell_type": "markdown",
   "metadata": {
    "application/vnd.databricks.v1+cell": {
     "cellMetadata": {},
     "inputWidgets": {},
     "nuid": "9d741fc1-a345-4c53-b205-ad2fc7aebdef",
     "showTitle": false,
     "tableResultSettingsMap": {},
     "title": ""
    }
   },
   "source": [
    "1. Read the above data from CSV into a DataFrame and print the schema."
   ]
  },
  {
   "cell_type": "code",
   "execution_count": 0,
   "metadata": {
    "application/vnd.databricks.v1+cell": {
     "cellMetadata": {
      "byteLimit": 2048000,
      "rowLimit": 10000
     },
     "inputWidgets": {},
     "nuid": "08822d9d-9f27-4492-be0c-bf523eb50d4e",
     "showTitle": false,
     "tableResultSettingsMap": {},
     "title": ""
    }
   },
   "outputs": [
    {
     "output_type": "stream",
     "name": "stdout",
     "output_type": "stream",
     "text": [
      "+----------+------------+-----------+-----+--------+\n|product_id|product_name|   category|price|quantity|\n+----------+------------+-----------+-----+--------+\n|       104|        Book| Stationery|  400|     200|\n|       105|  Headphones|Electronics| 1500|     100|\n|       109|    Notebook| Stationery|   60|     300|\n|       110|        Sofa|  Furniture|45000|       5|\n|       102|  Smartphone|Electronics|30000|      25|\n|       108|     Monitor|Electronics|12000|      15|\n|       101|      Laptop|Electronics|55000|      10|\n|       103|       Chair|  Furniture| 2500|      50|\n|       106|       Table|  Furniture| 3200|      40|\n|       107|         Pen| Stationery|   20|     500|\n+----------+------------+-----------+-----+--------+\n\n"
     ]
    }
   ],
   "source": [
    "df.write.mode(\"overwrite\").option(\"header\", True).csv(\"/tmp/products_csv\")\n",
    "\n",
    "df_csv=spark.read.csv(\"/tmp/products_csv\", header=True)\n",
    "df_csv.show()"
   ]
  },
  {
   "cell_type": "markdown",
   "metadata": {
    "application/vnd.databricks.v1+cell": {
     "cellMetadata": {},
     "inputWidgets": {},
     "nuid": "31efcbe6-139d-49c1-bbd7-21b49775af2c",
     "showTitle": false,
     "tableResultSettingsMap": {},
     "title": ""
    }
   },
   "source": [
    "2. Read the same data from JSON and compare with the CSV schema. Any differences?"
   ]
  },
  {
   "cell_type": "code",
   "execution_count": 0,
   "metadata": {
    "application/vnd.databricks.v1+cell": {
     "cellMetadata": {
      "byteLimit": 2048000,
      "rowLimit": 10000
     },
     "inputWidgets": {},
     "nuid": "d60ce0c0-a962-413b-9082-32b908574c6d",
     "showTitle": false,
     "tableResultSettingsMap": {},
     "title": ""
    }
   },
   "outputs": [
    {
     "output_type": "stream",
     "name": "stdout",
     "output_type": "stream",
     "text": [
      "+-----------+-----+----------+------------+--------+\n|   category|price|product_id|product_name|quantity|\n+-----------+-----+----------+------------+--------+\n| Stationery|  400|       104|        Book|     200|\n|Electronics| 1500|       105|  Headphones|     100|\n| Stationery|   60|       109|    Notebook|     300|\n|  Furniture|45000|       110|        Sofa|       5|\n|Electronics|30000|       102|  Smartphone|      25|\n|Electronics|12000|       108|     Monitor|      15|\n|Electronics|55000|       101|      Laptop|      10|\n|  Furniture| 2500|       103|       Chair|      50|\n|  Furniture| 3200|       106|       Table|      40|\n| Stationery|   20|       107|         Pen|     500|\n+-----------+-----+----------+------------+--------+\n\n"
     ]
    }
   ],
   "source": [
    "df.write.mode(\"overwrite\").option(\"header\", \"true\").json(\"/tmp/products_json\")\n",
    "\n",
    "df_json=spark.read.json(\"/tmp/products_json\")\n",
    "df_json.show()"
   ]
  },
  {
   "cell_type": "markdown",
   "metadata": {
    "application/vnd.databricks.v1+cell": {
     "cellMetadata": {},
     "inputWidgets": {},
     "nuid": "8200c616-82c0-49f7-831c-be70331833b2",
     "showTitle": false,
     "tableResultSettingsMap": {},
     "title": ""
    }
   },
   "source": [
    "3. Convert the CSV data into Parquet format and save to disk.\n"
   ]
  },
  {
   "cell_type": "code",
   "execution_count": 0,
   "metadata": {
    "application/vnd.databricks.v1+cell": {
     "cellMetadata": {
      "byteLimit": 2048000,
      "rowLimit": 10000
     },
     "inputWidgets": {},
     "nuid": "cb29424f-ecf6-4d86-bf57-eb1ad8553e2f",
     "showTitle": false,
     "tableResultSettingsMap": {},
     "title": ""
    }
   },
   "outputs": [
    {
     "output_type": "stream",
     "name": "stdout",
     "output_type": "stream",
     "text": [
      "+----------+------------+-----------+-----+--------+\n|product_id|product_name|   category|price|quantity|\n+----------+------------+-----------+-----+--------+\n|       104|        Book| Stationery|  400|     200|\n|       105|  Headphones|Electronics| 1500|     100|\n|       109|    Notebook| Stationery|   60|     300|\n|       110|        Sofa|  Furniture|45000|       5|\n|       102|  Smartphone|Electronics|30000|      25|\n|       108|     Monitor|Electronics|12000|      15|\n|       101|      Laptop|Electronics|55000|      10|\n|       103|       Chair|  Furniture| 2500|      50|\n|       106|       Table|  Furniture| 3200|      40|\n|       107|         Pen| Stationery|   20|     500|\n+----------+------------+-----------+-----+--------+\n\n"
     ]
    }
   ],
   "source": [
    "df.write.mode(\"overwrite\").option(\"header\", \"true\").parquet(\"/tmp/products_parquet\")\n",
    "\n",
    "df_parquet=spark.read.parquet(\"/tmp/products_parquet\")\n",
    "df_parquet.show()"
   ]
  },
  {
   "cell_type": "markdown",
   "metadata": {
    "application/vnd.databricks.v1+cell": {
     "cellMetadata": {},
     "inputWidgets": {},
     "nuid": "cb843778-bfb7-4834-b39f-df472d889511",
     "showTitle": false,
     "tableResultSettingsMap": {},
     "title": ""
    }
   },
   "source": [
    "\n",
    "4. Measure the size of CSV vs JSON vs Parquet on disk. Which one is smallest?"
   ]
  },
  {
   "cell_type": "code",
   "execution_count": 0,
   "metadata": {
    "application/vnd.databricks.v1+cell": {
     "cellMetadata": {
      "byteLimit": 2048000,
      "rowLimit": 10000
     },
     "inputWidgets": {},
     "nuid": "dcf09ba5-f7b0-46c4-94b1-94d1c332c1f2",
     "showTitle": false,
     "tableResultSettingsMap": {},
     "title": ""
    }
   },
   "outputs": [
    {
     "output_type": "stream",
     "name": "stdout",
     "output_type": "stream",
     "text": [
      "CSV: 0 bytes\nJSON: 0 bytes\nParquet: 0 bytes\n"
     ]
    }
   ],
   "source": [
    "import os\n",
    "\n",
    "def get_dir_size(path):\n",
    "    total_size = 0\n",
    "    for dirpath, dirnames, filenames in os.walk(path):\n",
    "        for f in filenames:\n",
    "            fp = os.path.join(dirpath, f)\n",
    "            if not os.path.islink(fp):\n",
    "                total_size += os.path.getsize(fp)\n",
    "    return total_size\n",
    "\n",
    "csv_size = get_dir_size('/tmp/products_csv')\n",
    "json_size = get_dir_size('/tmp/products_json')\n",
    "parquet_size = get_dir_size('/tmp/products_parquet')\n",
    "\n",
    "print('CSV:', csv_size, 'bytes')\n",
    "print('JSON:', json_size, 'bytes')\n",
    "print('Parquet:', parquet_size, 'bytes')\n"
   ]
  },
  {
   "cell_type": "markdown",
   "metadata": {
    "application/vnd.databricks.v1+cell": {
     "cellMetadata": {},
     "inputWidgets": {},
     "nuid": "599c99ac-3db0-4d45-a142-9e90adc5efb9",
     "showTitle": false,
     "tableResultSettingsMap": {},
     "title": ""
    }
   },
   "source": [
    "5. Add a column total_revenue = price * quantity for each record.\n"
   ]
  },
  {
   "cell_type": "code",
   "execution_count": 0,
   "metadata": {
    "application/vnd.databricks.v1+cell": {
     "cellMetadata": {
      "byteLimit": 2048000,
      "rowLimit": 10000
     },
     "inputWidgets": {},
     "nuid": "531414a5-234b-4c92-83fc-8276b7fc5814",
     "showTitle": false,
     "tableResultSettingsMap": {},
     "title": ""
    }
   },
   "outputs": [
    {
     "output_type": "stream",
     "name": "stdout",
     "output_type": "stream",
     "text": [
      "+----------+------------+-----------+-----+--------+-------------+\n|product_id|product_name|   category|price|quantity|total_revenue|\n+----------+------------+-----------+-----+--------+-------------+\n|       101|      Laptop|Electronics|55000|      10|       550000|\n|       102|  Smartphone|Electronics|30000|      25|       750000|\n|       103|       Chair|  Furniture| 2500|      50|       125000|\n|       104|        Book| Stationery|  400|     200|        80000|\n|       105|  Headphones|Electronics| 1500|     100|       150000|\n|       106|       Table|  Furniture| 3200|      40|       128000|\n|       107|         Pen| Stationery|   20|     500|        10000|\n|       108|     Monitor|Electronics|12000|      15|       180000|\n|       109|    Notebook| Stationery|   60|     300|        18000|\n|       110|        Sofa|  Furniture|45000|       5|       225000|\n+----------+------------+-----------+-----+--------+-------------+\n\n"
     ]
    }
   ],
   "source": [
    "df=df.withColumn(\"total_revenue\",df[\"price\"]*df[\"quantity\"])\n",
    "df.show()"
   ]
  },
  {
   "cell_type": "markdown",
   "metadata": {
    "application/vnd.databricks.v1+cell": {
     "cellMetadata": {},
     "inputWidgets": {},
     "nuid": "5e00f155-953a-4e56-a70d-c2122411d107",
     "showTitle": false,
     "tableResultSettingsMap": {},
     "title": ""
    }
   },
   "source": [
    "6. Find the top 3 products with the highest total revenue.\n"
   ]
  },
  {
   "cell_type": "code",
   "execution_count": 0,
   "metadata": {
    "application/vnd.databricks.v1+cell": {
     "cellMetadata": {
      "byteLimit": 2048000,
      "rowLimit": 10000
     },
     "inputWidgets": {},
     "nuid": "c5749105-5a95-41c5-a3ed-b598e75d34c9",
     "showTitle": false,
     "tableResultSettingsMap": {},
     "title": ""
    }
   },
   "outputs": [
    {
     "output_type": "stream",
     "name": "stdout",
     "output_type": "stream",
     "text": [
      "+----------+------------+-----------+-----+--------+-------------+\n|product_id|product_name|   category|price|quantity|total_revenue|\n+----------+------------+-----------+-----+--------+-------------+\n|       102|  Smartphone|Electronics|30000|      25|       750000|\n|       101|      Laptop|Electronics|55000|      10|       550000|\n|       110|        Sofa|  Furniture|45000|       5|       225000|\n+----------+------------+-----------+-----+--------+-------------+\n\n"
     ]
    }
   ],
   "source": [
    "df.orderBy(df[\"total_revenue\"].desc()).limit(3).show()"
   ]
  },
  {
   "cell_type": "markdown",
   "metadata": {
    "application/vnd.databricks.v1+cell": {
     "cellMetadata": {},
     "inputWidgets": {},
     "nuid": "4ed29199-67ab-4ef6-b8ad-17541127524c",
     "showTitle": false,
     "tableResultSettingsMap": {},
     "title": ""
    }
   },
   "source": [
    "7. Filter and display only Furniture products with price > 3000."
   ]
  },
  {
   "cell_type": "code",
   "execution_count": 0,
   "metadata": {
    "application/vnd.databricks.v1+cell": {
     "cellMetadata": {
      "byteLimit": 2048000,
      "rowLimit": 10000
     },
     "inputWidgets": {},
     "nuid": "0a076cc5-c391-4054-8145-cb342e813595",
     "showTitle": false,
     "tableResultSettingsMap": {},
     "title": ""
    }
   },
   "outputs": [
    {
     "output_type": "stream",
     "name": "stdout",
     "output_type": "stream",
     "text": [
      "+----------+------------+---------+-----+--------+-------------+\n|product_id|product_name| category|price|quantity|total_revenue|\n+----------+------------+---------+-----+--------+-------------+\n|       106|       Table|Furniture| 3200|      40|       128000|\n|       110|        Sofa|Furniture|45000|       5|       225000|\n+----------+------------+---------+-----+--------+-------------+\n\n"
     ]
    }
   ],
   "source": [
    "df.filter((df[\"category\"] == \"Furniture\") & (df[\"price\"] >3000)).show()"
   ]
  },
  {
   "cell_type": "markdown",
   "metadata": {
    "application/vnd.databricks.v1+cell": {
     "cellMetadata": {},
     "inputWidgets": {},
     "nuid": "4d2c9847-22c4-470b-82e5-310c1a047801",
     "showTitle": false,
     "tableResultSettingsMap": {},
     "title": ""
    }
   },
   "source": [
    "8. Create a new column price_band with values:\n",
    "'High' if price > 10000\n",
    "'Medium' if 3000 < price <= 10000\n",
    "'Low' if price ≤ 3000"
   ]
  },
  {
   "cell_type": "code",
   "execution_count": 0,
   "metadata": {
    "application/vnd.databricks.v1+cell": {
     "cellMetadata": {
      "byteLimit": 2048000,
      "rowLimit": 10000
     },
     "inputWidgets": {},
     "nuid": "831d4fc6-bfc9-412c-be96-8db6dad9778f",
     "showTitle": false,
     "tableResultSettingsMap": {},
     "title": ""
    }
   },
   "outputs": [
    {
     "output_type": "stream",
     "name": "stdout",
     "output_type": "stream",
     "text": [
      "+----------+------------+-----------+-----+--------+-------------+----------+\n|product_id|product_name|   category|price|quantity|total_revenue|price_band|\n+----------+------------+-----------+-----+--------+-------------+----------+\n|       101|      Laptop|Electronics|55000|      10|       550000|      High|\n|       102|  Smartphone|Electronics|30000|      25|       750000|      High|\n|       103|       Chair|  Furniture| 2500|      50|       125000|       Low|\n|       104|        Book| Stationery|  400|     200|        80000|       Low|\n|       105|  Headphones|Electronics| 1500|     100|       150000|       Low|\n|       106|       Table|  Furniture| 3200|      40|       128000|    Medium|\n|       107|         Pen| Stationery|   20|     500|        10000|       Low|\n|       108|     Monitor|Electronics|12000|      15|       180000|      High|\n|       109|    Notebook| Stationery|   60|     300|        18000|       Low|\n|       110|        Sofa|  Furniture|45000|       5|       225000|      High|\n+----------+------------+-----------+-----+--------+-------------+----------+\n\n"
     ]
    }
   ],
   "source": [
    "import pyspark.sql.functions as F\n",
    "df = df.withColumn(\n",
    "    \"price_band\",\n",
    "    F.when(F.col(\"price\") > 10000, \"High\")\n",
    "    .when(F.col(\"price\") > 3000, \"Medium\")\n",
    "    .otherwise(\"Low\")\n",
    ")\n",
    "df.show()"
   ]
  },
  {
   "cell_type": "markdown",
   "metadata": {
    "application/vnd.databricks.v1+cell": {
     "cellMetadata": {},
     "inputWidgets": {},
     "nuid": "74491b22-3bd3-49e9-ab31-19b89a03de33",
     "showTitle": false,
     "tableResultSettingsMap": {},
     "title": ""
    }
   },
   "source": [
    "9. Group by category and calculate total quantity sold."
   ]
  },
  {
   "cell_type": "code",
   "execution_count": 0,
   "metadata": {
    "application/vnd.databricks.v1+cell": {
     "cellMetadata": {
      "byteLimit": 2048000,
      "rowLimit": 10000
     },
     "inputWidgets": {},
     "nuid": "f95579a3-f1da-4255-8e4d-82c7a86351d4",
     "showTitle": false,
     "tableResultSettingsMap": {},
     "title": ""
    }
   },
   "outputs": [
    {
     "output_type": "stream",
     "name": "stdout",
     "output_type": "stream",
     "text": [
      "+-----------+-------------+\n|   category|sum(quantity)|\n+-----------+-------------+\n|Electronics|          150|\n|  Furniture|           95|\n| Stationery|         1000|\n+-----------+-------------+\n\n"
     ]
    }
   ],
   "source": [
    "df.groupby(\"category\").agg({\"quantity\": \"sum\"}).show()"
   ]
  },
  {
   "cell_type": "markdown",
   "metadata": {
    "application/vnd.databricks.v1+cell": {
     "cellMetadata": {},
     "inputWidgets": {},
     "nuid": "6670b795-6c0e-4a5f-b907-bdac12c0b76f",
     "showTitle": false,
     "tableResultSettingsMap": {},
     "title": ""
    }
   },
   "source": [
    "10. Calculate average price of products for each category."
   ]
  },
  {
   "cell_type": "code",
   "execution_count": 0,
   "metadata": {
    "application/vnd.databricks.v1+cell": {
     "cellMetadata": {
      "byteLimit": 2048000,
      "rowLimit": 10000
     },
     "inputWidgets": {},
     "nuid": "a15ef134-18cd-4ec4-8553-467bdaf1db7d",
     "showTitle": false,
     "tableResultSettingsMap": {},
     "title": ""
    }
   },
   "outputs": [
    {
     "output_type": "stream",
     "name": "stdout",
     "output_type": "stream",
     "text": [
      "+-----------+----------+\n|   category|avg(price)|\n+-----------+----------+\n|Electronics|   24625.0|\n|  Furniture|   16900.0|\n| Stationery|     160.0|\n+-----------+----------+\n\n"
     ]
    }
   ],
   "source": [
    "df.groupby(\"category\").agg({\"price\": \"avg\"}).show()"
   ]
  },
  {
   "cell_type": "markdown",
   "metadata": {
    "application/vnd.databricks.v1+cell": {
     "cellMetadata": {},
     "inputWidgets": {},
     "nuid": "f8552d21-f355-4dfb-bfb1-459056a4bdd8",
     "showTitle": false,
     "tableResultSettingsMap": {},
     "title": ""
    }
   },
   "source": [
    "11. Count how many products fall in each price_band .\n"
   ]
  },
  {
   "cell_type": "code",
   "execution_count": 0,
   "metadata": {
    "application/vnd.databricks.v1+cell": {
     "cellMetadata": {
      "byteLimit": 2048000,
      "rowLimit": 10000
     },
     "inputWidgets": {},
     "nuid": "46b7c14f-468e-4189-ad40-d4378ec225cd",
     "showTitle": false,
     "tableResultSettingsMap": {},
     "title": ""
    }
   },
   "outputs": [
    {
     "output_type": "stream",
     "name": "stdout",
     "output_type": "stream",
     "text": [
      "+----------+-----+\n|price_band|count|\n+----------+-----+\n|      High|    4|\n|       Low|    5|\n|    Medium|    1|\n+----------+-----+\n\n"
     ]
    }
   ],
   "source": [
    "df.groupby(\"price_band\").count().show()"
   ]
  },
  {
   "cell_type": "markdown",
   "metadata": {
    "application/vnd.databricks.v1+cell": {
     "cellMetadata": {},
     "inputWidgets": {},
     "nuid": "85d08282-edf8-4ec4-9840-21c278d1ff8d",
     "showTitle": false,
     "tableResultSettingsMap": {},
     "title": ""
    }
   },
   "source": [
    "12. Write the filtered Electronics products (price > 5000) into a Parquet file.\n"
   ]
  },
  {
   "cell_type": "code",
   "execution_count": 0,
   "metadata": {
    "application/vnd.databricks.v1+cell": {
     "cellMetadata": {
      "byteLimit": 2048000,
      "rowLimit": 10000
     },
     "inputWidgets": {},
     "nuid": "0e4e71c8-0421-4d3c-aa18-3553a1b28a34",
     "showTitle": false,
     "tableResultSettingsMap": {},
     "title": ""
    }
   },
   "outputs": [],
   "source": [
    "df.filter((df[\"category\"]==\"Electronics\") & (df[\"price\"]>5000)).write.mode(\"overwrite\").option(\"header\", \"true\").parquet(\"/tmp/Electronics_products_parquet\")\n"
   ]
  },
  {
   "cell_type": "markdown",
   "metadata": {
    "application/vnd.databricks.v1+cell": {
     "cellMetadata": {},
     "inputWidgets": {},
     "nuid": "45157d21-ec46-4c9c-b6a4-c8b6710818ae",
     "showTitle": false,
     "tableResultSettingsMap": {},
     "title": ""
    }
   },
   "source": [
    "Write the Stationery products into a JSON file.\n"
   ]
  },
  {
   "cell_type": "code",
   "execution_count": 0,
   "metadata": {
    "application/vnd.databricks.v1+cell": {
     "cellMetadata": {
      "byteLimit": 2048000,
      "rowLimit": 10000
     },
     "inputWidgets": {},
     "nuid": "a15a73a0-7ce5-402b-86e1-4987584b662c",
     "showTitle": false,
     "tableResultSettingsMap": {},
     "title": ""
    }
   },
   "outputs": [],
   "source": [
    "df.filter(df[\"category\"] == \"stationary\").write.mode(\"overwrite\").option(\"header\", \"true\").json(\"/tmp/Stationary_products_json\")"
   ]
  },
  {
   "cell_type": "markdown",
   "metadata": {
    "application/vnd.databricks.v1+cell": {
     "cellMetadata": {},
     "inputWidgets": {},
     "nuid": "d796eafd-4e31-4e28-80d1-7d100926e5d8",
     "showTitle": false,
     "tableResultSettingsMap": {},
     "title": ""
    }
   },
   "source": [
    "Load Parquet back and run a query to find which category has highest total\n",
    "revenue."
   ]
  },
  {
   "cell_type": "code",
   "execution_count": 0,
   "metadata": {
    "application/vnd.databricks.v1+cell": {
     "cellMetadata": {
      "byteLimit": 2048000,
      "rowLimit": 10000
     },
     "inputWidgets": {},
     "nuid": "329e3842-2e2c-45fb-bd36-a2b92f25751d",
     "showTitle": false,
     "tableResultSettingsMap": {},
     "title": ""
    }
   },
   "outputs": [
    {
     "output_type": "stream",
     "name": "stdout",
     "output_type": "stream",
     "text": [
      "+-----------+------------------+\n|   category|sum(total_revenue)|\n+-----------+------------------+\n|Electronics|           1630000|\n+-----------+------------------+\n\n"
     ]
    }
   ],
   "source": [
    "df_parquet = df_parquet.withColumn(\"total_revenue\", F.col(\"price\") * F.col(\"quantity\"))\n",
    "df_grouped=df.groupby(\"category\").agg(F.sum(F.col('total_revenue')))\n",
    "df_grouped.orderBy(df_grouped[\"sum(total_revenue)\"].desc()).limit(1).show()\n"
   ]
  },
  {
   "cell_type": "markdown",
   "metadata": {
    "application/vnd.databricks.v1+cell": {
     "cellMetadata": {},
     "inputWidgets": {},
     "nuid": "91f7c3e4-5343-43c4-baf4-81517e70ff5d",
     "showTitle": false,
     "tableResultSettingsMap": {},
     "title": ""
    }
   },
   "source": [
    "Create a temporary view from the DataFrame and run Spark SQL to find all\n",
    "products with quantity > 100 and price < 1000.\n"
   ]
  },
  {
   "cell_type": "code",
   "execution_count": 0,
   "metadata": {
    "application/vnd.databricks.v1+cell": {
     "cellMetadata": {
      "byteLimit": 2048000,
      "rowLimit": 10000
     },
     "inputWidgets": {},
     "nuid": "c917f4ac-85d5-41ba-8acc-ec73f0a8c93f",
     "showTitle": false,
     "tableResultSettingsMap": {},
     "title": ""
    }
   },
   "outputs": [
    {
     "output_type": "stream",
     "name": "stdout",
     "output_type": "stream",
     "text": [
      "+----------+------------+----------+-----+--------+-------------+----------+\n|product_id|product_name|  category|price|quantity|total_revenue|price_band|\n+----------+------------+----------+-----+--------+-------------+----------+\n|       104|        Book|Stationery|  400|     200|        80000|       Low|\n|       107|         Pen|Stationery|   20|     500|        10000|       Low|\n|       109|    Notebook|Stationery|   60|     300|        18000|       Low|\n+----------+------------+----------+-----+--------+-------------+----------+\n\n"
     ]
    }
   ],
   "source": [
    "df.createOrReplaceTempView(\"products\")\n",
    "spark.sql(\"select * from products where quantity>100 and price<1000\").show()"
   ]
  }
 ],
 "metadata": {
  "application/vnd.databricks.v1+notebook": {
   "computePreferences": null,
   "dashboards": [],
   "environmentMetadata": {
    "base_environment": "",
    "environment_version": "2"
   },
   "inputWidgetPreferences": null,
   "language": "python",
   "notebookMetadata": {
    "pythonIndentUnit": 4
   },
   "notebookName": "paraquet_vs_SCV_vs_JSON",
   "widgets": {}
  },
  "language_info": {
   "name": "python"
  }
 },
 "nbformat": 4,
 "nbformat_minor": 0
}