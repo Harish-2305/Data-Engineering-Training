{
 "cells": [
  {
   "cell_type": "code",
   "execution_count": 0,
   "metadata": {
    "application/vnd.databricks.v1+cell": {
     "cellMetadata": {
      "byteLimit": 2048000,
      "rowLimit": 10000
     },
     "inputWidgets": {},
     "nuid": "f976e980-bfae-4894-8acf-d58ad493183d",
     "showTitle": false,
     "tableResultSettingsMap": {},
     "title": ""
    }
   },
   "outputs": [
    {
     "output_type": "stream",
     "name": "stdout",
     "output_type": "stream",
     "text": [
      "Wrote 139 bytes.\n"
     ]
    },
    {
     "output_type": "execute_result",
     "data": {
      "text/plain": [
       "True"
      ]
     },
     "execution_count": 1,
     "metadata": {},
     "output_type": "execute_result"
    }
   ],
   "source": [
    "csv_data = \"\"\"id,name,category,price\n",
    "1,Amit,Electronics,50000\n",
    "2,Priya,Furniture,3000\n",
    "3,Rahul,Stationery,200\n",
    "4,Neha,Books,800\n",
    "5,Karthik,Electronics,45000\n",
    "\"\"\"\n",
    "\n",
    "dbutils.fs.put(\"/dbfs/temp/products.csv\", csv_data,overwrite=True)"
   ]
  },
  {
   "cell_type": "code",
   "execution_count": 0,
   "metadata": {
    "application/vnd.databricks.v1+cell": {
     "cellMetadata": {
      "byteLimit": 2048000,
      "rowLimit": 10000
     },
     "inputWidgets": {},
     "nuid": "b8f4e8df-ce8d-48fb-8303-92f4365d59d6",
     "showTitle": false,
     "tableResultSettingsMap": {},
     "title": ""
    }
   },
   "outputs": [
    {
     "output_type": "stream",
     "name": "stdout",
     "output_type": "stream",
     "text": [
      "+---+-------+-----------+-----+\n| id|   name|   category|price|\n+---+-------+-----------+-----+\n|  1|   Amit|Electronics|50000|\n|  2|  Priya|  Furniture| 3000|\n|  3|  Rahul| Stationery|  200|\n|  4|   Neha|      Books|  800|\n|  5|Karthik|Electronics|45000|\n+---+-------+-----------+-----+\n\n"
     ]
    }
   ],
   "source": [
    "df=spark.read.option(\"header\",True).option(\"inferSchema\",True).csv(\"/dbfs/temp/products.csv\")\n",
    "df.show()"
   ]
  },
  {
   "cell_type": "code",
   "execution_count": 0,
   "metadata": {
    "application/vnd.databricks.v1+cell": {
     "cellMetadata": {
      "byteLimit": 2048000,
      "rowLimit": 10000
     },
     "inputWidgets": {},
     "nuid": "4085d82c-dfd4-4b4e-9d9e-bb1f144e3d8b",
     "showTitle": false,
     "tableResultSettingsMap": {},
     "title": ""
    }
   },
   "outputs": [],
   "source": [
    "df.write.format(\"delta\").mode(\"overwrite\").save(\"/temp/delta/products\")"
   ]
  },
  {
   "cell_type": "code",
   "execution_count": 0,
   "metadata": {
    "application/vnd.databricks.v1+cell": {
     "cellMetadata": {
      "byteLimit": 2048000,
      "rowLimit": 10000
     },
     "inputWidgets": {},
     "nuid": "f469477a-8773-45d2-b981-5f02ce896ce6",
     "showTitle": false,
     "tableResultSettingsMap": {},
     "title": ""
    }
   },
   "outputs": [
    {
     "output_type": "stream",
     "name": "stdout",
     "output_type": "stream",
     "text": [
      "+---+-------+-----------+-----+\n| id|   name|   category|price|\n+---+-------+-----------+-----+\n|  1|   Amit|Electronics|50000|\n|  2|  Priya|  Furniture| 3000|\n|  3|  Rahul| Stationery|  200|\n|  4|   Neha|      Books|  800|\n|  5|Karthik|Electronics|45000|\n+---+-------+-----------+-----+\n\n"
     ]
    }
   ],
   "source": [
    "df_delta=spark.read.format(\"delta\").load(\"/temp/delta/products\")\n",
    "df_delta.show()"
   ]
  },
  {
   "cell_type": "code",
   "execution_count": 0,
   "metadata": {
    "application/vnd.databricks.v1+cell": {
     "cellMetadata": {
      "byteLimit": 2048000,
      "rowLimit": 10000
     },
     "inputWidgets": {},
     "nuid": "62cda42e-c7f6-4a67-89a8-8fa359cd4987",
     "showTitle": false,
     "tableResultSettingsMap": {},
     "title": ""
    }
   },
   "outputs": [
    {
     "output_type": "stream",
     "name": "stdout",
     "output_type": "stream",
     "text": [
      "+---+-------+-----------+-----+\n| id|   name|   category|price|\n+---+-------+-----------+-----+\n|  1|   Amit|Electronics|50000|\n|  3|  Rahul| Stationery|  200|\n|  4|   Neha|      Books|  800|\n|  5|Karthik|Electronics|45000|\n|  2|  Priya|  Furniture| 3500|\n+---+-------+-----------+-----+\n\n"
     ]
    }
   ],
   "source": [
    "from delta.tables import DeltaTable\n",
    "\n",
    "delta_table=DeltaTable.forPath(spark,\"/temp/delta/products\")\n",
    "\n",
    "delta_table.update(\n",
    "    condition=\"id=2\",\n",
    "    set={\"price\":\"3500\"}\n",
    ")\n",
    "\n",
    "delta_table.toDF().show()\n",
    "\n"
   ]
  },
  {
   "cell_type": "code",
   "execution_count": 0,
   "metadata": {
    "application/vnd.databricks.v1+cell": {
     "cellMetadata": {
      "byteLimit": 2048000,
      "rowLimit": 10000
     },
     "inputWidgets": {},
     "nuid": "bc0d1a62-4527-443e-b271-911a4852b4eb",
     "showTitle": false,
     "tableResultSettingsMap": {},
     "title": ""
    }
   },
   "outputs": [
    {
     "output_type": "stream",
     "name": "stdout",
     "output_type": "stream",
     "text": [
      "+---+-------+-----------+-----+\n| id|   name|   category|price|\n+---+-------+-----------+-----+\n|  1|   Amit|Electronics|50000|\n|  3|  Rahul| Stationery|  200|\n|  4|   Neha|      Books|  800|\n|  5|Karthik|Electronics|45000|\n|  2|  Priya|  Furniture| 4000|\n|  6|  Sneha|    Kitchen| 1200|\n+---+-------+-----------+-----+\n\n"
     ]
    }
   ],
   "source": [
    "new_data = [\n",
    "    (2, \"Priya\", \"Furniture\", 4000),     # Update\n",
    "    (6, \"Sneha\", \"Kitchen\", 1200)        # Insert\n",
    "]\n",
    "\n",
    "updates_df=spark.createDataFrame(new_data,[\"id\",\"name\",\"category\",\"price\"])\n",
    "\n",
    "delta_table.alias(\"target\").merge(\n",
    "    updates_df.alias(\"source\"),\n",
    "    \"target.id = source.id\"\n",
    ").whenMatchedUpdateAll()\\\n",
    ".whenNotMatchedInsertAll()\\\n",
    ".execute()\n",
    "\n",
    "delta_table.toDF().show()"
   ]
  },
  {
   "cell_type": "code",
   "execution_count": 0,
   "metadata": {
    "application/vnd.databricks.v1+cell": {
     "cellMetadata": {
      "byteLimit": 2048000,
      "rowLimit": 10000
     },
     "inputWidgets": {},
     "nuid": "4fbbe2f6-a168-4fc3-8be1-e1f982373009",
     "showTitle": false,
     "tableResultSettingsMap": {},
     "title": ""
    }
   },
   "outputs": [
    {
     "output_type": "stream",
     "name": "stdout",
     "output_type": "stream",
     "text": [
      "+---+-------+-----------+-----+\n| id|   name|   category|price|\n+---+-------+-----------+-----+\n|  1|   Amit|Electronics|50000|\n|  3|  Rahul| Stationery|  200|\n|  4|   Neha|      Books|  800|\n|  5|Karthik|Electronics|45000|\n|  2|  Priya|  Furniture| 4000|\n|  6|  Sneha|    Kitchen| 1200|\n+---+-------+-----------+-----+\n\n+---+-------+-----------+-----+\n| id|   name|   category|price|\n+---+-------+-----------+-----+\n|  1|   Amit|Electronics|50000|\n|  2|  Priya|  Furniture| 3000|\n|  3|  Rahul| Stationery|  200|\n|  4|   Neha|      Books|  800|\n|  5|Karthik|Electronics|45000|\n+---+-------+-----------+-----+\n\n"
     ]
    }
   ],
   "source": [
    "delta_table.toDF().show()\n",
    "\n",
    "pervious_version=spark.read.format(\"delta\").option(\"versionAsOf\",0).load(\"/temp/delta/products\")\n",
    "pervious_version.show()"
   ]
  },
  {
   "cell_type": "code",
   "execution_count": 0,
   "metadata": {
    "application/vnd.databricks.v1+cell": {
     "cellMetadata": {
      "byteLimit": 2048000,
      "rowLimit": 10000
     },
     "inputWidgets": {},
     "nuid": "8b538c6b-d688-4c50-84e4-61b1b96460d5",
     "showTitle": false,
     "tableResultSettingsMap": {},
     "title": ""
    }
   },
   "outputs": [],
   "source": [
    "df.write.format(\"delta\").mode(\"overwrite\").partitionBy(\"category\").save(\"/temp/delta/products_partitioned\")\n"
   ]
  },
  {
   "cell_type": "code",
   "execution_count": 0,
   "metadata": {
    "application/vnd.databricks.v1+cell": {
     "cellMetadata": {
      "byteLimit": 2048000,
      "rowLimit": 10000
     },
     "inputWidgets": {},
     "nuid": "232f1123-442f-47b8-be16-4a1407449686",
     "showTitle": false,
     "tableResultSettingsMap": {},
     "title": ""
    }
   },
   "outputs": [
    {
     "output_type": "stream",
     "name": "stdout",
     "output_type": "stream",
     "text": [
      "+---+-------+-----------+-----+\n| id|   name|   category|price|\n+---+-------+-----------+-----+\n|  5|Karthik|Electronics|45000|\n|  1|   Amit|Electronics|50000|\n|  2|  Priya|  Furniture| 3000|\n|  3|  Rahul| Stationery|  200|\n|  4|   Neha|      Books|  800|\n+---+-------+-----------+-----+\n\n"
     ]
    }
   ],
   "source": [
    "spark.read.format(\"delta\").load(\"/temp/delta/products_partitioned\").show()"
   ]
  },
  {
   "cell_type": "code",
   "execution_count": 0,
   "metadata": {
    "application/vnd.databricks.v1+cell": {
     "cellMetadata": {},
     "inputWidgets": {},
     "nuid": "675feb03-e450-4afa-98f8-9072186665cf",
     "showTitle": false,
     "tableResultSettingsMap": {},
     "title": ""
    }
   },
   "outputs": [],
   "source": []
  }
 ],
 "metadata": {
  "application/vnd.databricks.v1+notebook": {
   "computePreferences": null,
   "dashboards": [],
   "environmentMetadata": {
    "base_environment": "",
    "environment_version": "2"
   },
   "inputWidgetPreferences": null,
   "language": "python",
   "notebookMetadata": {
    "pythonIndentUnit": 4
   },
   "notebookName": "Delta_Training",
   "widgets": {}
  },
  "language_info": {
   "name": "python"
  }
 },
 "nbformat": 4,
 "nbformat_minor": 0
}