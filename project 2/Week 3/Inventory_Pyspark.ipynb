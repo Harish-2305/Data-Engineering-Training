{
  "nbformat": 4,
  "nbformat_minor": 0,
  "metadata": {
    "colab": {
      "provenance": []
    },
    "kernelspec": {
      "name": "python3",
      "display_name": "Python 3"
    },
    "language_info": {
      "name": "python"
    }
  },
  "cells": [
    {
      "cell_type": "markdown",
      "source": [
        "**Week 3 - Pyspark for Warehouse- Level Insights**\n",
        "\n",
        "**Tools : Pyspark**\n",
        "\n",
        "**Capstone Tasks:**\n",
        "\n",
        "- Load large stock movement data using PySpark\n",
        "- Aggregate total stock per warehouse\n",
        "- Identify warehouses with overstocked or understocked items\n",
        "\n",
        "**Deliverables:**\n",
        "\n",
        "- PySpark script with group and filter logic\n",
        "- Output file with warehouse-level stock status"
      ],
      "metadata": {
        "id": "Mdls5gZyq-Es"
      }
    },
    {
      "cell_type": "markdown",
      "source": [
        "Load large stock movement data using PySpark"
      ],
      "metadata": {
        "id": "gIB9FNSOrwNm"
      }
    },
    {
      "cell_type": "code",
      "source": [
        "from pyspark.sql import SparkSession\n",
        "import  pyspark.sql.functions as F\n",
        "\n",
        "spark = SparkSession.builder.appName(\"WarehouseInsights\").getOrCreate()"
      ],
      "metadata": {
        "id": "oiQC7HUzQTcp"
      },
      "execution_count": 1,
      "outputs": []
    },
    {
      "cell_type": "code",
      "execution_count": 2,
      "metadata": {
        "id": "gmWbhf5zifPo",
        "colab": {
          "base_uri": "https://localhost:8080/",
          "height": 142
        },
        "collapsed": true,
        "outputId": "0de6a825-f64f-4157-ef1e-7fc374318995"
      },
      "outputs": [
        {
          "output_type": "display_data",
          "data": {
            "text/plain": [
              "<IPython.core.display.HTML object>"
            ],
            "text/html": [
              "\n",
              "     <input type=\"file\" id=\"files-78e59c20-3362-4680-b6f5-edc482e37c3a\" name=\"files[]\" multiple disabled\n",
              "        style=\"border:none\" />\n",
              "     <output id=\"result-78e59c20-3362-4680-b6f5-edc482e37c3a\">\n",
              "      Upload widget is only available when the cell has been executed in the\n",
              "      current browser session. Please rerun this cell to enable.\n",
              "      </output>\n",
              "      <script>// Copyright 2017 Google LLC\n",
              "//\n",
              "// Licensed under the Apache License, Version 2.0 (the \"License\");\n",
              "// you may not use this file except in compliance with the License.\n",
              "// You may obtain a copy of the License at\n",
              "//\n",
              "//      http://www.apache.org/licenses/LICENSE-2.0\n",
              "//\n",
              "// Unless required by applicable law or agreed to in writing, software\n",
              "// distributed under the License is distributed on an \"AS IS\" BASIS,\n",
              "// WITHOUT WARRANTIES OR CONDITIONS OF ANY KIND, either express or implied.\n",
              "// See the License for the specific language governing permissions and\n",
              "// limitations under the License.\n",
              "\n",
              "/**\n",
              " * @fileoverview Helpers for google.colab Python module.\n",
              " */\n",
              "(function(scope) {\n",
              "function span(text, styleAttributes = {}) {\n",
              "  const element = document.createElement('span');\n",
              "  element.textContent = text;\n",
              "  for (const key of Object.keys(styleAttributes)) {\n",
              "    element.style[key] = styleAttributes[key];\n",
              "  }\n",
              "  return element;\n",
              "}\n",
              "\n",
              "// Max number of bytes which will be uploaded at a time.\n",
              "const MAX_PAYLOAD_SIZE = 100 * 1024;\n",
              "\n",
              "function _uploadFiles(inputId, outputId) {\n",
              "  const steps = uploadFilesStep(inputId, outputId);\n",
              "  const outputElement = document.getElementById(outputId);\n",
              "  // Cache steps on the outputElement to make it available for the next call\n",
              "  // to uploadFilesContinue from Python.\n",
              "  outputElement.steps = steps;\n",
              "\n",
              "  return _uploadFilesContinue(outputId);\n",
              "}\n",
              "\n",
              "// This is roughly an async generator (not supported in the browser yet),\n",
              "// where there are multiple asynchronous steps and the Python side is going\n",
              "// to poll for completion of each step.\n",
              "// This uses a Promise to block the python side on completion of each step,\n",
              "// then passes the result of the previous step as the input to the next step.\n",
              "function _uploadFilesContinue(outputId) {\n",
              "  const outputElement = document.getElementById(outputId);\n",
              "  const steps = outputElement.steps;\n",
              "\n",
              "  const next = steps.next(outputElement.lastPromiseValue);\n",
              "  return Promise.resolve(next.value.promise).then((value) => {\n",
              "    // Cache the last promise value to make it available to the next\n",
              "    // step of the generator.\n",
              "    outputElement.lastPromiseValue = value;\n",
              "    return next.value.response;\n",
              "  });\n",
              "}\n",
              "\n",
              "/**\n",
              " * Generator function which is called between each async step of the upload\n",
              " * process.\n",
              " * @param {string} inputId Element ID of the input file picker element.\n",
              " * @param {string} outputId Element ID of the output display.\n",
              " * @return {!Iterable<!Object>} Iterable of next steps.\n",
              " */\n",
              "function* uploadFilesStep(inputId, outputId) {\n",
              "  const inputElement = document.getElementById(inputId);\n",
              "  inputElement.disabled = false;\n",
              "\n",
              "  const outputElement = document.getElementById(outputId);\n",
              "  outputElement.innerHTML = '';\n",
              "\n",
              "  const pickedPromise = new Promise((resolve) => {\n",
              "    inputElement.addEventListener('change', (e) => {\n",
              "      resolve(e.target.files);\n",
              "    });\n",
              "  });\n",
              "\n",
              "  const cancel = document.createElement('button');\n",
              "  inputElement.parentElement.appendChild(cancel);\n",
              "  cancel.textContent = 'Cancel upload';\n",
              "  const cancelPromise = new Promise((resolve) => {\n",
              "    cancel.onclick = () => {\n",
              "      resolve(null);\n",
              "    };\n",
              "  });\n",
              "\n",
              "  // Wait for the user to pick the files.\n",
              "  const files = yield {\n",
              "    promise: Promise.race([pickedPromise, cancelPromise]),\n",
              "    response: {\n",
              "      action: 'starting',\n",
              "    }\n",
              "  };\n",
              "\n",
              "  cancel.remove();\n",
              "\n",
              "  // Disable the input element since further picks are not allowed.\n",
              "  inputElement.disabled = true;\n",
              "\n",
              "  if (!files) {\n",
              "    return {\n",
              "      response: {\n",
              "        action: 'complete',\n",
              "      }\n",
              "    };\n",
              "  }\n",
              "\n",
              "  for (const file of files) {\n",
              "    const li = document.createElement('li');\n",
              "    li.append(span(file.name, {fontWeight: 'bold'}));\n",
              "    li.append(span(\n",
              "        `(${file.type || 'n/a'}) - ${file.size} bytes, ` +\n",
              "        `last modified: ${\n",
              "            file.lastModifiedDate ? file.lastModifiedDate.toLocaleDateString() :\n",
              "                                    'n/a'} - `));\n",
              "    const percent = span('0% done');\n",
              "    li.appendChild(percent);\n",
              "\n",
              "    outputElement.appendChild(li);\n",
              "\n",
              "    const fileDataPromise = new Promise((resolve) => {\n",
              "      const reader = new FileReader();\n",
              "      reader.onload = (e) => {\n",
              "        resolve(e.target.result);\n",
              "      };\n",
              "      reader.readAsArrayBuffer(file);\n",
              "    });\n",
              "    // Wait for the data to be ready.\n",
              "    let fileData = yield {\n",
              "      promise: fileDataPromise,\n",
              "      response: {\n",
              "        action: 'continue',\n",
              "      }\n",
              "    };\n",
              "\n",
              "    // Use a chunked sending to avoid message size limits. See b/62115660.\n",
              "    let position = 0;\n",
              "    do {\n",
              "      const length = Math.min(fileData.byteLength - position, MAX_PAYLOAD_SIZE);\n",
              "      const chunk = new Uint8Array(fileData, position, length);\n",
              "      position += length;\n",
              "\n",
              "      const base64 = btoa(String.fromCharCode.apply(null, chunk));\n",
              "      yield {\n",
              "        response: {\n",
              "          action: 'append',\n",
              "          file: file.name,\n",
              "          data: base64,\n",
              "        },\n",
              "      };\n",
              "\n",
              "      let percentDone = fileData.byteLength === 0 ?\n",
              "          100 :\n",
              "          Math.round((position / fileData.byteLength) * 100);\n",
              "      percent.textContent = `${percentDone}% done`;\n",
              "\n",
              "    } while (position < fileData.byteLength);\n",
              "  }\n",
              "\n",
              "  // All done.\n",
              "  yield {\n",
              "    response: {\n",
              "      action: 'complete',\n",
              "    }\n",
              "  };\n",
              "}\n",
              "\n",
              "scope.google = scope.google || {};\n",
              "scope.google.colab = scope.google.colab || {};\n",
              "scope.google.colab._files = {\n",
              "  _uploadFiles,\n",
              "  _uploadFilesContinue,\n",
              "};\n",
              "})(self);\n",
              "</script> "
            ]
          },
          "metadata": {}
        },
        {
          "output_type": "stream",
          "name": "stdout",
          "text": [
            "Saving products_Cleaned.csv to products_Cleaned.csv\n",
            "Saving stock_movements_Cleaned.csv to stock_movements_Cleaned.csv\n",
            "Saving warehouses_Cleaned.csv to warehouses_Cleaned.csv\n"
          ]
        }
      ],
      "source": [
        "from google.colab import files\n",
        "uploded=files.upload()"
      ]
    },
    {
      "cell_type": "code",
      "source": [
        "products_df = spark.read.csv(\"products_Cleaned.csv\", header=True, inferSchema=True)\n",
        "warehouses_df = spark.read.csv(\"warehouses_Cleaned.csv\", header=True, inferSchema=True)\n",
        "stock_movements_df = spark.read.csv(\"stock_movements_Cleaned.csv\", header=True, inferSchema=True)"
      ],
      "metadata": {
        "id": "3VVx-1jCRKMA"
      },
      "execution_count": 3,
      "outputs": []
    },
    {
      "cell_type": "markdown",
      "source": [
        "Aggregate total stock per warehouse"
      ],
      "metadata": {
        "id": "NHCnchItWs3w"
      }
    },
    {
      "cell_type": "code",
      "source": [
        "stock_movement_per_warehouse_df = stock_movements_df.groupBy(\"warehouse_id\").agg(F.sum(\"stock_effect\").alias(\"total_Sctock\"))\n",
        "stock_movement_per_warehouse_df=stock_movement_per_warehouse_df.join(warehouses_df.select(\"warehouse_id\",\"location\",\"capacity\"), on = \"warehouse_id\",how='left')\n",
        "stock_movement_per_warehouse_df.show()"
      ],
      "metadata": {
        "id": "BdJQUHy6UHeX",
        "colab": {
          "base_uri": "https://localhost:8080/"
        },
        "outputId": "44d80f3d-4e15-49fe-9367-a2873b1eeb6b"
      },
      "execution_count": 4,
      "outputs": [
        {
          "output_type": "stream",
          "name": "stdout",
          "text": [
            "+------------+------------+----------+--------+\n",
            "|warehouse_id|total_Sctock|  location|capacity|\n",
            "+------------+------------+----------+--------+\n",
            "|      2010.0|           8|    Indore|     800|\n",
            "|      2001.0|          -4| Bangalore|    1500|\n",
            "|      2009.0|          24|Coimbatore|     900|\n",
            "|      2007.0|           5|     Patna|    1000|\n",
            "|      2000.0|          90|   Chennai|    2000|\n",
            "|      2008.0|          34|     Noida|    1100|\n",
            "|      2011.0|           2|    Jaipur|     600|\n",
            "|      2002.0|           5|     Delhi|    1800|\n",
            "|      2006.0|          31| Ahmedabad|    1300|\n",
            "|      2004.0|          32|    Mumbai|    1600|\n",
            "|      2013.0|          18|Trivandrum|     350|\n",
            "|      2012.0|          18|  Guwahati|     450|\n",
            "|      2014.0|          12|      Pune|     650|\n",
            "|      2005.0|          35|   Kolkata|    1700|\n",
            "|      2003.0|          45| Hyderabad|    1200|\n",
            "+------------+------------+----------+--------+\n",
            "\n"
          ]
        }
      ]
    },
    {
      "cell_type": "markdown",
      "source": [
        "Identify warehouses with overstocked or understocked items"
      ],
      "metadata": {
        "id": "W6WzzrrXX7rq"
      }
    },
    {
      "cell_type": "code",
      "source": [
        "stock_per_warehouse_product_df = stock_movements_df.groupBy(\"warehouse_id\", \"product_id\") \\\n",
        "    .agg(F.sum(\"stock_effect\").alias(\"current_stock\"))"
      ],
      "metadata": {
        "id": "nl-14MWsZ51V"
      },
      "execution_count": 5,
      "outputs": []
    },
    {
      "cell_type": "code",
      "source": [
        "join_df=stock_per_warehouse_product_df.join(products_df,on=\"product_id\",how=\"left\"\n",
        ").join(warehouses_df.select(\"warehouse_id\",\"location\"),on=\"warehouse_id\",how=\"left\")"
      ],
      "metadata": {
        "id": "whoYk7ywYMtp"
      },
      "execution_count": 6,
      "outputs": []
    },
    {
      "cell_type": "code",
      "source": [
        "stock_status_df = join_df.withColumn(\n",
        "    \"understocked\",F.col(\"current_stock\") <F.col(\"reorder_level\")\n",
        ").withColumn(\n",
        "    \"overstocked\",F.col(\"current_stock\") > (F.col(\"reorder_level\") * 2)\n",
        ")"
      ],
      "metadata": {
        "id": "VSSy7pomcSJm"
      },
      "execution_count": 7,
      "outputs": []
    },
    {
      "cell_type": "markdown",
      "source": [
        "Warehouse with OverStock"
      ],
      "metadata": {
        "id": "o5qyDFmFc7qa"
      }
    },
    {
      "cell_type": "code",
      "source": [
        "stock_status_df.filter(stock_status_df.overstocked == True).show()"
      ],
      "metadata": {
        "id": "LPmzrYD5cq7r",
        "colab": {
          "base_uri": "https://localhost:8080/"
        },
        "outputId": "38116030-7644-457b-b644-868519237979"
      },
      "execution_count": 8,
      "outputs": [
        {
          "output_type": "stream",
          "name": "stdout",
          "text": [
            "+------------+----------+-------------+---+----------------+--------------------+-----------+----------+-------------+------+-----------+-------------------+-------------------+--------+------------+-----------+\n",
            "|warehouse_id|product_id|current_stock|_c0|            name|         description|   category|unit_price|reorder_level|status|supplier_id|         created_at|       last_updated|location|understocked|overstocked|\n",
            "+------------+----------+-------------+---+----------------+--------------------+-----------+----------+-------------+------+-----------+-------------------+-------------------+--------+------------+-----------+\n",
            "|      2000.0|       1.0|           30|  0|          LED TV|    42 inch Smart TV|Electronics|     35000|           10|active|     1000.0|2024-01-08 10:00:00|2024-05-08 09:30:00| Chennai|       false|       true|\n",
            "|      2000.0|       3.0|           15|  2|Wooden Bookshelf|5-tier sturdy boo...|  Furniture|      8000|            5|active|     1002.0|2024-02-08 09:18:00|2024-05-08 14:23:00| Chennai|       false|       true|\n",
            "+------------+----------+-------------+---+----------------+--------------------+-----------+----------+-------------+------+-----------+-------------------+-------------------+--------+------------+-----------+\n",
            "\n"
          ]
        }
      ]
    },
    {
      "cell_type": "markdown",
      "source": [
        "Warehouse with UnderStock"
      ],
      "metadata": {
        "id": "T7whHnKhdBqD"
      }
    },
    {
      "cell_type": "code",
      "source": [
        "stock_status_df.filter(stock_status_df.overstocked == False).show()"
      ],
      "metadata": {
        "id": "g1f6Xuouc1bw",
        "colab": {
          "base_uri": "https://localhost:8080/"
        },
        "outputId": "cc800860-1081-4ead-c921-e110a1141708"
      },
      "execution_count": 9,
      "outputs": [
        {
          "output_type": "stream",
          "name": "stdout",
          "text": [
            "+------------+----------+-------------+---+--------------------+--------------------+-----------+----------+-------------+------+-----------+-------------------+-------------------+----------+------------+-----------+\n",
            "|warehouse_id|product_id|current_stock|_c0|                name|         description|   category|unit_price|reorder_level|status|supplier_id|         created_at|       last_updated|  location|understocked|overstocked|\n",
            "+------------+----------+-------------+---+--------------------+--------------------+-----------+----------+-------------+------+-----------+-------------------+-------------------+----------+------------+-----------+\n",
            "|      2002.0|       1.0|           -5|  0|              LED TV|    42 inch Smart TV|Electronics|     35000|           10|active|     1000.0|2024-01-08 10:00:00|2024-05-08 09:30:00|     Delhi|        true|      false|\n",
            "|      2001.0|       2.0|           -8|  1|   Organic Green Tea|Imported organic ...|    Grocery|      1200|           25|active|     1001.0|2024-01-08 11:15:00|2024-05-08 11:15:00| Bangalore|        true|      false|\n",
            "|      2000.0|       2.0|           50|  1|   Organic Green Tea|Imported organic ...|    Grocery|      1200|           25|active|     1001.0|2024-01-08 11:15:00|2024-05-08 11:15:00|   Chennai|       false|      false|\n",
            "|      2001.0|       4.0|            6|  3|  Men's Denim Jacket|   Blue denim jacket|   Clothing|      2500|            6|active|     1000.0|2024-02-08 10:15:00|2024-05-08 13:19:00| Bangalore|       false|      false|\n",
            "|      2003.0|       5.0|           30|  4|     Kindle E-reader|6 inch display de...|Electronics|      8500|           20|active|     1003.0|2024-02-08 11:25:00|2024-05-08 12:01:00| Hyderabad|       false|      false|\n",
            "|      2002.0|       6.0|            9|  5|Cooking Essential...|Recipe and kitche...|      Books|       600|            8|active|     1004.0|2024-02-08 12:00:00|2024-04-08 09:00:00|     Delhi|       false|      false|\n",
            "|      2000.0|       7.0|           10|  6|        Office Chair|             Unknown|  Furniture|      7000|            5|active|     1001.0|2024-03-08 08:17:00|2024-03-08 12:40:00|   Chennai|       false|      false|\n",
            "|      2001.0|       9.0|           16|  8|  Wireless Earphones|Noise-cancelling ...|Electronics|      5500|           18|active|     1004.0|2024-03-08 14:00:00|2024-05-08 10:05:00| Bangalore|        true|      false|\n",
            "|      2002.0|      10.0|            6|  9|Children’s Story ...|Illustrated fairy...|      Books|       800|            7|active|     1002.0|2024-03-08 15:45:00|2024-05-08 16:00:00|     Delhi|        true|      false|\n",
            "|      2003.0|      11.0|            7| 10|      Casual T-Shirt|Cotton round neck...|    Unknown|       450|            7|active|     1000.0|2024-04-08 09:30:00|2024-05-08 17:00:00| Hyderabad|       false|      false|\n",
            "|      2004.0|      12.0|           15| 11|        Laptop Stand|Adjustable height...|Electronics|      1800|           10|active|     1003.0|2024-04-08 10:30:00|2024-05-08 17:30:00|    Mumbai|       false|      false|\n",
            "|      2002.0|      13.0|            3| 12| Wooden Dining Table| 6-seater solid wood|  Furniture|     25000|            4|active|     1002.0|2024-04-08 11:00:00|2024-05-08 18:00:00|     Delhi|        true|      false|\n",
            "|      2005.0|      14.0|           12| 13|        Woolen Scarf|   Winter warm scarf|   Clothing|      1200|           12|active|     1004.0|2024-04-08 12:30:00|2024-06-08 09:00:00|   Kolkata|       false|      false|\n",
            "|      2005.0|      15.0|            7| 14|        Coffee Maker|Automatic drip co...|Electronics|      3300|            6|active|     1001.0|2024-04-08 13:00:00|2024-06-08 09:30:00|   Kolkata|       false|      false|\n",
            "|      2006.0|      16.0|           24| 15|       Organic Honey|     Pure wild honey|    Grocery|      1900|           25|active|     1003.0|2024-04-08 13:30:00|2024-06-08 10:00:00| Ahmedabad|        true|      false|\n",
            "|      2007.0|      17.0|            5| 16|       Fiction Novel|Best-selling thri...|      Books|       450|            8|active|     1002.0|2024-04-08 14:00:00|2024-06-08 10:30:00|     Patna|        true|      false|\n",
            "|      2008.0|      18.0|           20| 17| Men's Running Shoes|Lightweight sneakers|   Clothing|      3200|           20|active|     1001.0|2024-04-08 14:30:00|2024-06-08 11:00:00|     Noida|       false|      false|\n",
            "|      2009.0|      19.0|           24| 18|           Desk Lamp| LED adjustable lamp|Electronics|      1350|           30|active|     1002.0|2024-04-08 15:00:00|2024-06-08 11:30:00|Coimbatore|        true|      false|\n",
            "|      2010.0|      20.0|            8| 19|Kitchen Storage Rack|3-tier stainless ...|  Furniture|      3500|            6|active|     1001.0|2024-04-08 15:30:00|2024-06-08 12:00:00|    Indore|       false|      false|\n",
            "|      2011.0|      21.0|            2| 20|Organic Coffee Beans|  Dark roast premium|    Grocery|      1500|            3|active|     1002.0|2024-04-08 16:00:00|2024-06-08 12:30:00|    Jaipur|        true|      false|\n",
            "+------------+----------+-------------+---+--------------------+--------------------+-----------+----------+-------------+------+-----------+-------------------+-------------------+----------+------------+-----------+\n",
            "only showing top 20 rows\n",
            "\n"
          ]
        }
      ]
    },
    {
      "cell_type": "markdown",
      "source": [
        "saving warehouse stock status"
      ],
      "metadata": {
        "id": "PR7jkBNcdMzN"
      }
    },
    {
      "cell_type": "code",
      "source": [
        "stock_status_df.toPandas().to_csv(\"warehouse_stock_status.csv\", index=False)"
      ],
      "metadata": {
        "id": "JoBhVOgKdID2"
      },
      "execution_count": 10,
      "outputs": []
    },
    {
      "cell_type": "markdown",
      "source": [
        "Downloading the file"
      ],
      "metadata": {
        "id": "Osw-AR7MdcPO"
      }
    },
    {
      "cell_type": "code",
      "source": [
        "files.download(\"warehouse_stock_status.csv\")"
      ],
      "metadata": {
        "id": "tSsB7smkdfn1",
        "colab": {
          "base_uri": "https://localhost:8080/",
          "height": 17
        },
        "outputId": "331a466a-b5e5-43a5-83a9-ea469ff05617"
      },
      "execution_count": 11,
      "outputs": [
        {
          "output_type": "display_data",
          "data": {
            "text/plain": [
              "<IPython.core.display.Javascript object>"
            ],
            "application/javascript": [
              "\n",
              "    async function download(id, filename, size) {\n",
              "      if (!google.colab.kernel.accessAllowed) {\n",
              "        return;\n",
              "      }\n",
              "      const div = document.createElement('div');\n",
              "      const label = document.createElement('label');\n",
              "      label.textContent = `Downloading \"${filename}\": `;\n",
              "      div.appendChild(label);\n",
              "      const progress = document.createElement('progress');\n",
              "      progress.max = size;\n",
              "      div.appendChild(progress);\n",
              "      document.body.appendChild(div);\n",
              "\n",
              "      const buffers = [];\n",
              "      let downloaded = 0;\n",
              "\n",
              "      const channel = await google.colab.kernel.comms.open(id);\n",
              "      // Send a message to notify the kernel that we're ready.\n",
              "      channel.send({})\n",
              "\n",
              "      for await (const message of channel.messages) {\n",
              "        // Send a message to notify the kernel that we're ready.\n",
              "        channel.send({})\n",
              "        if (message.buffers) {\n",
              "          for (const buffer of message.buffers) {\n",
              "            buffers.push(buffer);\n",
              "            downloaded += buffer.byteLength;\n",
              "            progress.value = downloaded;\n",
              "          }\n",
              "        }\n",
              "      }\n",
              "      const blob = new Blob(buffers, {type: 'application/binary'});\n",
              "      const a = document.createElement('a');\n",
              "      a.href = window.URL.createObjectURL(blob);\n",
              "      a.download = filename;\n",
              "      div.appendChild(a);\n",
              "      a.click();\n",
              "      div.remove();\n",
              "    }\n",
              "  "
            ]
          },
          "metadata": {}
        },
        {
          "output_type": "display_data",
          "data": {
            "text/plain": [
              "<IPython.core.display.Javascript object>"
            ],
            "application/javascript": [
              "download(\"download_1e1cebbb-3ec2-4db6-ace9-dede2f8bd8a5\", \"warehouse_stock_status.csv\", 5892)"
            ]
          },
          "metadata": {}
        }
      ]
    }
  ]
}